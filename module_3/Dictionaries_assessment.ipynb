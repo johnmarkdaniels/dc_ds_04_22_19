{
 "cells": [
  {
   "cell_type": "markdown",
   "metadata": {},
   "source": [
    "# Dictionaries check in"
   ]
  },
  {
   "cell_type": "markdown",
   "metadata": {},
   "source": [
    "### Import packages"
   ]
  },
  {
   "cell_type": "code",
   "execution_count": 1,
   "metadata": {},
   "outputs": [],
   "source": [
    "import requests"
   ]
  },
  {
   "cell_type": "markdown",
   "metadata": {},
   "source": [
    "### API call - we will use google books to query for a Harry Potter book "
   ]
  },
  {
   "cell_type": "code",
   "execution_count": 2,
   "metadata": {},
   "outputs": [],
   "source": [
    "response = requests.get('https://www.googleapis.com/books/v1/volumes?q=isbn:0747532699')"
   ]
  },
  {
   "cell_type": "code",
   "execution_count": 3,
   "metadata": {},
   "outputs": [],
   "source": [
    "harry_dict = response.json()"
   ]
  },
  {
   "cell_type": "code",
   "execution_count": 4,
   "metadata": {},
   "outputs": [
    {
     "data": {
      "text/plain": [
       "{'kind': 'books#volumes',\n",
       " 'totalItems': 1,\n",
       " 'items': [{'kind': 'books#volume',\n",
       "   'id': 'yZ1APgAACAAJ',\n",
       "   'etag': 'Wd66FTmnj2I',\n",
       "   'selfLink': 'https://www.googleapis.com/books/v1/volumes/yZ1APgAACAAJ',\n",
       "   'volumeInfo': {'title': \"Harry Potter 1 and the Philosopher's Stone\",\n",
       "    'authors': ['J. K. Rowling'],\n",
       "    'publisher': 'Bloomsbury Pub Limited',\n",
       "    'publishedDate': '1997',\n",
       "    'description': \"Harry Potter is an ordinary boy who lives in a cupboard under the stairs at his Aunt Petunia and Uncle Vernon's house, which he thinks is normal for someone like him who's parents have been killed in a 'car crash'. He is bullied by them and his fat, spoilt cousin Dudley, and lives a very unremarkable life with only the odd hiccup (like his hair growing back overnight!) to cause him much to think about. That is until an owl turns up with a letter addressed to Harry and all hell breaks loose! He is literally rescued by a world where nothing is as it seems and magic lessons are the order of the day. Read and find out how Harry discovers his true heritage at Hogwarts School of Wizardry and Witchcraft, the reason behind his parents mysterious death, who is out to kill him, and how he uncovers the most amazing secret of all time, the fabled Philosopher's Stone! All this and muggles too. Now, what are they?\",\n",
       "    'industryIdentifiers': [{'type': 'ISBN_10', 'identifier': '0747532699'},\n",
       "     {'type': 'ISBN_13', 'identifier': '9780747532699'}],\n",
       "    'readingModes': {'text': False, 'image': False},\n",
       "    'pageCount': 223,\n",
       "    'printType': 'BOOK',\n",
       "    'categories': ['Juvenile Fiction'],\n",
       "    'averageRating': 4.5,\n",
       "    'ratingsCount': 19,\n",
       "    'maturityRating': 'NOT_MATURE',\n",
       "    'allowAnonLogging': False,\n",
       "    'contentVersion': 'preview-1.0.0',\n",
       "    'imageLinks': {'smallThumbnail': 'http://books.google.com/books/content?id=yZ1APgAACAAJ&printsec=frontcover&img=1&zoom=5&source=gbs_api',\n",
       "     'thumbnail': 'http://books.google.com/books/content?id=yZ1APgAACAAJ&printsec=frontcover&img=1&zoom=1&source=gbs_api'},\n",
       "    'language': 'en',\n",
       "    'previewLink': 'http://books.google.com/books?id=yZ1APgAACAAJ&dq=isbn:0747532699&hl=&cd=1&source=gbs_api',\n",
       "    'infoLink': 'http://books.google.com/books?id=yZ1APgAACAAJ&dq=isbn:0747532699&hl=&source=gbs_api',\n",
       "    'canonicalVolumeLink': 'https://books.google.com/books/about/Harry_Potter_1_and_the_Philosopher_s_Sto.html?hl=&id=yZ1APgAACAAJ'},\n",
       "   'saleInfo': {'country': 'US',\n",
       "    'saleability': 'NOT_FOR_SALE',\n",
       "    'isEbook': False},\n",
       "   'accessInfo': {'country': 'US',\n",
       "    'viewability': 'NO_PAGES',\n",
       "    'embeddable': False,\n",
       "    'publicDomain': False,\n",
       "    'textToSpeechPermission': 'ALLOWED',\n",
       "    'epub': {'isAvailable': False},\n",
       "    'pdf': {'isAvailable': False},\n",
       "    'webReaderLink': 'http://play.google.com/books/reader?id=yZ1APgAACAAJ&hl=&printsec=frontcover&source=gbs_api',\n",
       "    'accessViewStatus': 'NONE',\n",
       "    'quoteSharingAllowed': False},\n",
       "   'searchInfo': {'textSnippet': 'Harry Potter is an ordinary boy who lives in a cupboard under the stairs at his Aunt Petunia and Uncle Vernon&#39;s house, which he thinks is normal for someone like him who&#39;s parents have been killed in a &#39;car crash&#39;.'}}]}"
      ]
     },
     "execution_count": 4,
     "metadata": {},
     "output_type": "execute_result"
    }
   ],
   "source": [
    "harry_dict"
   ]
  },
  {
   "cell_type": "markdown",
   "metadata": {},
   "source": [
    "### Questions:"
   ]
  },
  {
   "cell_type": "markdown",
   "metadata": {},
   "source": [
    "1. Add yourself to the authors list"
   ]
  },
  {
   "cell_type": "code",
   "execution_count": null,
   "metadata": {},
   "outputs": [],
   "source": [
    "harry_dict['items'][0]['volumeInfo']['authors'].append('J. Mark Daniels')"
   ]
  },
  {
   "cell_type": "code",
   "execution_count": 41,
   "metadata": {},
   "outputs": [
    {
     "data": {
      "text/plain": [
       "['J. K. Rowling', 'J. Mark Daniels', 'Mark Daniels']"
      ]
     },
     "execution_count": 41,
     "metadata": {},
     "output_type": "execute_result"
    }
   ],
   "source": [
    "harry_dict['items'][0]['volumeInfo']['authors']"
   ]
  },
  {
   "cell_type": "markdown",
   "metadata": {},
   "source": [
    "2. Access the description key and replace all mentions of the name Harry Potter with Barry Manilow"
   ]
  },
  {
   "cell_type": "code",
   "execution_count": 27,
   "metadata": {},
   "outputs": [
    {
     "data": {
      "text/plain": [
       "\"Barry Potter is an ordinary boy who lives in a cupboard under the stairs at his Aunt Petunia and Uncle Vernon's house, which he thinks is normal for someone like him who's parents have been killed in a 'car crash'. He is bullied by them and his fat, spoilt cousin Dudley, and lives a very unremarkable life with only the odd hiccup (like his hair growing back overnight!) to cause him much to think about. That is until an owl turns up with a letter addressed to Barry and all hell breaks loose! He is literally rescued by a world where nothing is as it seems and magic lessons are the order of the day. Read and find out how Barry discovers his true heritage at Hogwarts School of Wizardry and Witchcraft, the reason behind his parents mysterious death, who is out to kill him, and how he uncovers the most amazing secret of all time, the fabled Philosopher's Stone! All this and muggles too. Now, what are they?\""
      ]
     },
     "execution_count": 27,
     "metadata": {},
     "output_type": "execute_result"
    }
   ],
   "source": [
    "harry_dict['items'][0]['volumeInfo']['description'].replace('Harry Potter', 'Barry Manilow')\n",
    "harry_dict['items'][0]['volumeInfo']['description'].replace('Harry', 'Barry')"
   ]
  },
  {
   "cell_type": "markdown",
   "metadata": {},
   "source": [
    "3. Print the industryIdentifiers in the following way:\n",
    "\n",
    "```\n",
    "     \"The type is ISBN 10 with crazy identifier: 0747532699. The second type is ISBN 13 with even longer identifier: 9780747532699\" \n",
    "   ```\n",
    "   \n",
    "Do this by indexing into the dictionary, don't just copy and paste the number"
   ]
  },
  {
   "cell_type": "code",
   "execution_count": 38,
   "metadata": {},
   "outputs": [
    {
     "name": "stdout",
     "output_type": "stream",
     "text": [
      "The type is ISBN 10 with crazy identifier: 0747532699 The second type is ISBN 13 with even longer identifier: 9780747532699.\n"
     ]
    }
   ],
   "source": [
    "harry_dict['items'][0]['volumeInfo']['industryIdentifiers'][1]['identifier']\n",
    "tendigit=harry_dict['items'][0]['volumeInfo']['industryIdentifiers'][0]['identifier']\n",
    "thirteendigit=harry_dict['items'][0]['volumeInfo']['industryIdentifiers'][1]['identifier']\n",
    "print(f'''The type is ISBN 10 with crazy identifier: {tendigit} The second type is ISBN 13 with even longer identifier: {thirteendigit}.''')"
   ]
  },
  {
   "cell_type": "markdown",
   "metadata": {},
   "source": [
    "4. Wrap it all in a function that can do the same steps (1-3) to any book with a similar Json file. \n",
    "\n",
    "Use the following parameters: dictionary, name_of_author (your name), name_to_replace (e.g. Harry Potter), replacement_name (e.g Barry Manilow)\n",
    "\n",
    "Return the dictionary with the added author name and with Harry Potter replaced. You only need to print out the ISBN numbers the same way as before (don't worry about returning them)"
   ]
  },
  {
   "cell_type": "code",
   "execution_count": 40,
   "metadata": {},
   "outputs": [
    {
     "name": "stdout",
     "output_type": "stream",
     "text": [
      "The type is ISBN 10 with crazy identifier: 0747532699 The second type is ISBN 13 with even longer identifier: 9780747532699.\n"
     ]
    }
   ],
   "source": [
    "def updatebookinfo(bookdict, newauthor, find, replace):\n",
    "    bookdict['items'][0]['volumeInfo']['authors'].append(newauthor)\n",
    "    bookdict['items'][0]['volumeInfo']['description'].replace(find, replace)\n",
    "    tendigit=bookdict['items'][0]['volumeInfo']['industryIdentifiers'][0]['identifier']\n",
    "    thirteendigit=bookdict['items'][0]['volumeInfo']['industryIdentifiers'][1]['identifier']\n",
    "    print(f'''The type is ISBN 10 with crazy identifier: {tendigit} The second type is ISBN 13 with even longer identifier: {thirteendigit}.''')\n",
    "    \n",
    "updatebookinfo(harry_dict, 'Mark Daniels', 'Barry', 'Harry')"
   ]
  },
  {
   "cell_type": "markdown",
   "metadata": {},
   "source": [
    "[Stretch]\n",
    "5. Create a data frame with the following columns: author, id, publisher, title.\n",
    "Insert to the data frame multiple rows (one for each author). \n",
    "\n",
    "You are supposed to have multiple rows since you added yourself as an author. Insert to the other columns the appropriate data from the harry_dict dictionary."
   ]
  },
  {
   "cell_type": "code",
   "execution_count": 56,
   "metadata": {
    "scrolled": false
   },
   "outputs": [
    {
     "data": {
      "text/html": [
       "<div>\n",
       "<style scoped>\n",
       "    .dataframe tbody tr th:only-of-type {\n",
       "        vertical-align: middle;\n",
       "    }\n",
       "\n",
       "    .dataframe tbody tr th {\n",
       "        vertical-align: top;\n",
       "    }\n",
       "\n",
       "    .dataframe thead th {\n",
       "        text-align: right;\n",
       "    }\n",
       "</style>\n",
       "<table border=\"1\" class=\"dataframe\">\n",
       "  <thead>\n",
       "    <tr style=\"text-align: right;\">\n",
       "      <th></th>\n",
       "      <th>kind</th>\n",
       "      <th>id</th>\n",
       "      <th>etag</th>\n",
       "      <th>selfLink</th>\n",
       "      <th>volumeInfo</th>\n",
       "      <th>saleInfo</th>\n",
       "      <th>accessInfo</th>\n",
       "      <th>searchInfo</th>\n",
       "    </tr>\n",
       "  </thead>\n",
       "  <tbody>\n",
       "    <tr>\n",
       "      <th>0</th>\n",
       "      <td>books#volume</td>\n",
       "      <td>yZ1APgAACAAJ</td>\n",
       "      <td>Wd66FTmnj2I</td>\n",
       "      <td>https://www.googleapis.com/books/v1/volumes/yZ...</td>\n",
       "      <td>{'title': 'Harry Potter 1 and the Philosopher'...</td>\n",
       "      <td>{'country': 'US', 'saleability': 'NOT_FOR_SALE...</td>\n",
       "      <td>{'country': 'US', 'viewability': 'NO_PAGES', '...</td>\n",
       "      <td>{'textSnippet': 'Harry Potter is an ordinary b...</td>\n",
       "    </tr>\n",
       "  </tbody>\n",
       "</table>\n",
       "</div>"
      ],
      "text/plain": [
       "           kind            id         etag  \\\n",
       "0  books#volume  yZ1APgAACAAJ  Wd66FTmnj2I   \n",
       "\n",
       "                                            selfLink  \\\n",
       "0  https://www.googleapis.com/books/v1/volumes/yZ...   \n",
       "\n",
       "                                          volumeInfo  \\\n",
       "0  {'title': 'Harry Potter 1 and the Philosopher'...   \n",
       "\n",
       "                                            saleInfo  \\\n",
       "0  {'country': 'US', 'saleability': 'NOT_FOR_SALE...   \n",
       "\n",
       "                                          accessInfo  \\\n",
       "0  {'country': 'US', 'viewability': 'NO_PAGES', '...   \n",
       "\n",
       "                                          searchInfo  \n",
       "0  {'textSnippet': 'Harry Potter is an ordinary b...  "
      ]
     },
     "execution_count": 56,
     "metadata": {},
     "output_type": "execute_result"
    }
   ],
   "source": [
    "import pandas as pd\n",
    "df = pd.DataFrame.from_dict(harry_dict['items'][0], orient='index')\n",
    "df_transpose = df.transpose()\n",
    "df_transpose"
   ]
  },
  {
   "cell_type": "code",
   "execution_count": 70,
   "metadata": {},
   "outputs": [
    {
     "data": {
      "text/html": [
       "<div>\n",
       "<style scoped>\n",
       "    .dataframe tbody tr th:only-of-type {\n",
       "        vertical-align: middle;\n",
       "    }\n",
       "\n",
       "    .dataframe tbody tr th {\n",
       "        vertical-align: top;\n",
       "    }\n",
       "\n",
       "    .dataframe thead th {\n",
       "        text-align: right;\n",
       "    }\n",
       "</style>\n",
       "<table border=\"1\" class=\"dataframe\">\n",
       "  <thead>\n",
       "    <tr style=\"text-align: right;\">\n",
       "      <th></th>\n",
       "      <th>id</th>\n",
       "      <th>volumeInfo</th>\n",
       "    </tr>\n",
       "  </thead>\n",
       "  <tbody>\n",
       "    <tr>\n",
       "      <th>0</th>\n",
       "      <td>yZ1APgAACAAJ</td>\n",
       "      <td>{'title': 'Harry Potter 1 and the Philosopher'...</td>\n",
       "    </tr>\n",
       "  </tbody>\n",
       "</table>\n",
       "</div>"
      ],
      "text/plain": [
       "             id                                         volumeInfo\n",
       "0  yZ1APgAACAAJ  {'title': 'Harry Potter 1 and the Philosopher'..."
      ]
     },
     "execution_count": 70,
     "metadata": {},
     "output_type": "execute_result"
    }
   ],
   "source": [
    "df_transpose = df_transpose[['id', 'volumeInfo']]\n",
    "df_transpose"
   ]
  },
  {
   "cell_type": "code",
   "execution_count": 47,
   "metadata": {
    "collapsed": true
   },
   "outputs": [
    {
     "data": {
      "text/plain": [
       "{'kind': 'books#volume',\n",
       " 'id': 'yZ1APgAACAAJ',\n",
       " 'etag': 'Wd66FTmnj2I',\n",
       " 'selfLink': 'https://www.googleapis.com/books/v1/volumes/yZ1APgAACAAJ',\n",
       " 'volumeInfo': {'title': \"Harry Potter 1 and the Philosopher's Stone\",\n",
       "  'authors': ['J. K. Rowling', 'J. Mark Daniels', 'Mark Daniels'],\n",
       "  'publisher': 'Bloomsbury Pub Limited',\n",
       "  'publishedDate': '1997',\n",
       "  'description': \"Harry Potter is an ordinary boy who lives in a cupboard under the stairs at his Aunt Petunia and Uncle Vernon's house, which he thinks is normal for someone like him who's parents have been killed in a 'car crash'. He is bullied by them and his fat, spoilt cousin Dudley, and lives a very unremarkable life with only the odd hiccup (like his hair growing back overnight!) to cause him much to think about. That is until an owl turns up with a letter addressed to Harry and all hell breaks loose! He is literally rescued by a world where nothing is as it seems and magic lessons are the order of the day. Read and find out how Harry discovers his true heritage at Hogwarts School of Wizardry and Witchcraft, the reason behind his parents mysterious death, who is out to kill him, and how he uncovers the most amazing secret of all time, the fabled Philosopher's Stone! All this and muggles too. Now, what are they?\",\n",
       "  'industryIdentifiers': [{'type': 'ISBN_10', 'identifier': '0747532699'},\n",
       "   {'type': 'ISBN_13', 'identifier': '9780747532699'}],\n",
       "  'readingModes': {'text': False, 'image': False},\n",
       "  'pageCount': 223,\n",
       "  'printType': 'BOOK',\n",
       "  'categories': ['Juvenile Fiction'],\n",
       "  'averageRating': 4.5,\n",
       "  'ratingsCount': 19,\n",
       "  'maturityRating': 'NOT_MATURE',\n",
       "  'allowAnonLogging': False,\n",
       "  'contentVersion': 'preview-1.0.0',\n",
       "  'imageLinks': {'smallThumbnail': 'http://books.google.com/books/content?id=yZ1APgAACAAJ&printsec=frontcover&img=1&zoom=5&source=gbs_api',\n",
       "   'thumbnail': 'http://books.google.com/books/content?id=yZ1APgAACAAJ&printsec=frontcover&img=1&zoom=1&source=gbs_api'},\n",
       "  'language': 'en',\n",
       "  'previewLink': 'http://books.google.com/books?id=yZ1APgAACAAJ&dq=isbn:0747532699&hl=&cd=1&source=gbs_api',\n",
       "  'infoLink': 'http://books.google.com/books?id=yZ1APgAACAAJ&dq=isbn:0747532699&hl=&source=gbs_api',\n",
       "  'canonicalVolumeLink': 'https://books.google.com/books/about/Harry_Potter_1_and_the_Philosopher_s_Sto.html?hl=&id=yZ1APgAACAAJ'},\n",
       " 'saleInfo': {'country': 'US',\n",
       "  'saleability': 'NOT_FOR_SALE',\n",
       "  'isEbook': False},\n",
       " 'accessInfo': {'country': 'US',\n",
       "  'viewability': 'NO_PAGES',\n",
       "  'embeddable': False,\n",
       "  'publicDomain': False,\n",
       "  'textToSpeechPermission': 'ALLOWED',\n",
       "  'epub': {'isAvailable': False},\n",
       "  'pdf': {'isAvailable': False},\n",
       "  'webReaderLink': 'http://play.google.com/books/reader?id=yZ1APgAACAAJ&hl=&printsec=frontcover&source=gbs_api',\n",
       "  'accessViewStatus': 'NONE',\n",
       "  'quoteSharingAllowed': False},\n",
       " 'searchInfo': {'textSnippet': 'Harry Potter is an ordinary boy who lives in a cupboard under the stairs at his Aunt Petunia and Uncle Vernon&#39;s house, which he thinks is normal for someone like him who&#39;s parents have been killed in a &#39;car crash&#39;.'}}"
      ]
     },
     "execution_count": 47,
     "metadata": {},
     "output_type": "execute_result"
    }
   ],
   "source": [
    "harry_dict['items'][0]"
   ]
  },
  {
   "cell_type": "code",
   "execution_count": null,
   "metadata": {},
   "outputs": [],
   "source": []
  }
 ],
 "metadata": {
  "kernelspec": {
   "display_name": "Python 3",
   "language": "python",
   "name": "python3"
  },
  "language_info": {
   "codemirror_mode": {
    "name": "ipython",
    "version": 3
   },
   "file_extension": ".py",
   "mimetype": "text/x-python",
   "name": "python",
   "nbconvert_exporter": "python",
   "pygments_lexer": "ipython3",
   "version": "3.6.6"
  },
  "toc": {
   "base_numbering": 1,
   "nav_menu": {},
   "number_sections": true,
   "sideBar": true,
   "skip_h1_title": false,
   "title_cell": "Table of Contents",
   "title_sidebar": "Contents",
   "toc_cell": false,
   "toc_position": {},
   "toc_section_display": true,
   "toc_window_display": true
  },
  "varInspector": {
   "cols": {
    "lenName": 16,
    "lenType": 16,
    "lenVar": 40
   },
   "kernels_config": {
    "python": {
     "delete_cmd_postfix": "",
     "delete_cmd_prefix": "del ",
     "library": "var_list.py",
     "varRefreshCmd": "print(var_dic_list())"
    },
    "r": {
     "delete_cmd_postfix": ") ",
     "delete_cmd_prefix": "rm(",
     "library": "var_list.r",
     "varRefreshCmd": "cat(var_dic_list()) "
    }
   },
   "types_to_exclude": [
    "module",
    "function",
    "builtin_function_or_method",
    "instance",
    "_Feature"
   ],
   "window_display": false
  }
 },
 "nbformat": 4,
 "nbformat_minor": 2
}
