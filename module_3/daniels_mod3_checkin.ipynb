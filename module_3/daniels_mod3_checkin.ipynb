{
 "cells": [
  {
   "cell_type": "markdown",
   "metadata": {},
   "source": [
    "### Distributions, sampling, confidence & t-test"
   ]
  },
  {
   "cell_type": "markdown",
   "metadata": {},
   "source": [
    "1. Write a for loop that prints numbers that are divisible by 2 up to 10 (incl.)\n"
   ]
  },
  {
   "cell_type": "code",
   "execution_count": 2,
   "metadata": {},
   "outputs": [
    {
     "name": "stdout",
     "output_type": "stream",
     "text": [
      "2\n",
      "4\n",
      "6\n",
      "8\n",
      "10\n"
     ]
    }
   ],
   "source": [
    "for i in range(1,11):\n",
    "    if i % 2 == 0:\n",
    "        print(i)\n",
    "    else:\n",
    "        pass"
   ]
  },
  {
   "cell_type": "markdown",
   "metadata": {},
   "source": [
    "2. Write a for loop that prints numbers from 1 to 10 (incl.), with an 80% chance of each number being printed (e.g. 1, 2, 4, 5, 7, 8, 9, 10)"
   ]
  },
  {
   "cell_type": "code",
   "execution_count": 3,
   "metadata": {},
   "outputs": [
    {
     "name": "stdout",
     "output_type": "stream",
     "text": [
      "1\n",
      "2\n",
      "3\n",
      "4\n",
      "5\n",
      "6\n",
      "7\n",
      "8\n",
      "9\n",
      "10\n"
     ]
    }
   ],
   "source": [
    "import random\n",
    "\n",
    "for i in range(1,11):\n",
    "    if random.randint(1,10) <= 8:\n",
    "        print(i)\n",
    "    else:\n",
    "        pass"
   ]
  },
  {
   "cell_type": "markdown",
   "metadata": {},
   "source": [
    "3. Tossing a coin one time fits which distribution?\n",
    "    - Tossing it multiple times would fit which distribution?"
   ]
  },
  {
   "cell_type": "code",
   "execution_count": 4,
   "metadata": {},
   "outputs": [
    {
     "ename": "NameError",
     "evalue": "name 'Bernoulli' is not defined",
     "output_type": "error",
     "traceback": [
      "\u001b[0;31m---------------------------------------------------------------------------\u001b[0m",
      "\u001b[0;31mNameError\u001b[0m                                 Traceback (most recent call last)",
      "\u001b[0;32m<ipython-input-4-de7f41088ac8>\u001b[0m in \u001b[0;36m<module>\u001b[0;34m\u001b[0m\n\u001b[0;32m----> 1\u001b[0;31m \u001b[0mBernoulli\u001b[0m\u001b[0;34m,\u001b[0m \u001b[0mBinomial\u001b[0m\u001b[0;34m\u001b[0m\u001b[0;34m\u001b[0m\u001b[0m\n\u001b[0m",
      "\u001b[0;31mNameError\u001b[0m: name 'Bernoulli' is not defined"
     ]
    }
   ],
   "source": [
    "Bernoulli, Binomial"
   ]
  },
  {
   "cell_type": "markdown",
   "metadata": {},
   "source": [
    "4. Write a function that calculates the chances to get 60 heads or more in 100 tosses of a coin if the coin is fair. \n",
    "\n",
    "Hint: Do this by running a simulation."
   ]
  },
  {
   "cell_type": "code",
   "execution_count": 6,
   "metadata": {},
   "outputs": [
    {
     "name": "stdout",
     "output_type": "stream",
     "text": [
      "The chances of receiving 60 heads in 100 \n",
      " of a fair coin are 0.0263 over the course of 10000 simulations.\n"
     ]
    },
    {
     "data": {
      "text/plain": [
       "0.0263"
      ]
     },
     "execution_count": 6,
     "metadata": {},
     "output_type": "execute_result"
    }
   ],
   "source": [
    "\n",
    "def coinflip(target_heads, totalsims, tosses):\n",
    "    #create variable to computer target probability\n",
    "    sixtyormore = 0\n",
    "    #create a loop to run x number of simulations\n",
    "    for i in range(0,totalsims):\n",
    "        #create a counter for number of heads\n",
    "        heads = 0\n",
    "        #create a loop to do x number of tosses\n",
    "        for i in range(0,tosses):\n",
    "            if random.randint(0,1) == 1:\n",
    "                heads += 1\n",
    "            else:\n",
    "                pass\n",
    "        if heads >= 60:\n",
    "            sixtyormore += 1\n",
    "        else:\n",
    "            pass\n",
    "    chances = sixtyormore/totalsims\n",
    "    print(f'The chances of receiving {target_heads} heads in {tosses} \\n '\n",
    "          f'of a fair coin are {chances} over the course of {totalsims} simulations.')\n",
    "    return chances\n",
    "\n",
    "    \n",
    "coinflip(60, 10000, 100)"
   ]
  },
  {
   "cell_type": "markdown",
   "metadata": {},
   "source": [
    "5. According to the exercise in question #4 explain:\n",
    "    - If you were to create a hypothesis test, what would your null hypothesis be? (specifically for question #4)\n",
    "    - What is your P-value? (specifically for question #4)"
   ]
  },
  {
   "cell_type": "markdown",
   "metadata": {},
   "source": [
    "The null hypothesis (H0) would be that the probability is not equal to 0.3 (1/2*(6/10))."
   ]
  },
  {
   "cell_type": "markdown",
   "metadata": {},
   "source": [
    "6. Load the student-mat.csv dataset and perform a t-test comparing final grades of males vs females. Before running the test, remove individuals that scored 0. Use only the sex and G3 (final grade) columns to run your test.\n",
    "    \n",
    "    - Is there a significant difference between how women and men perform? \n",
    "    - What is your p-value? How would you interpret it?"
   ]
  },
  {
   "cell_type": "code",
   "execution_count": 25,
   "metadata": {},
   "outputs": [],
   "source": [
    "from scipy import stats\n",
    "import numpy as np"
   ]
  },
  {
   "cell_type": "code",
   "execution_count": 27,
   "metadata": {},
   "outputs": [
    {
     "name": "stdout",
     "output_type": "stream",
     "text": [
      "The chances of receiving 60 heads in 100 \n",
      " of a fair coin are 2.97% over the course of 10000 simulations.\n"
     ]
    },
    {
     "name": "stderr",
     "output_type": "stream",
     "text": [
      "/anaconda3/envs/learn-env/lib/python3.6/site-packages/numpy/core/fromnumeric.py:3157: RuntimeWarning: Degrees of freedom <= 0 for slice\n",
      "  **kwargs)\n",
      "/anaconda3/envs/learn-env/lib/python3.6/site-packages/numpy/core/_methods.py:132: RuntimeWarning: invalid value encountered in double_scalars\n",
      "  ret = ret.dtype.type(ret / rcount)\n"
     ]
    },
    {
     "data": {
      "text/plain": [
       "Ttest_1sampResult(statistic=nan, pvalue=nan)"
      ]
     },
     "execution_count": 27,
     "metadata": {},
     "output_type": "execute_result"
    }
   ],
   "source": []
  },
  {
   "cell_type": "code",
   "execution_count": null,
   "metadata": {},
   "outputs": [],
   "source": []
  }
 ],
 "metadata": {
  "kernelspec": {
   "display_name": "Python 3",
   "language": "python",
   "name": "python3"
  },
  "language_info": {
   "codemirror_mode": {
    "name": "ipython",
    "version": 3
   },
   "file_extension": ".py",
   "mimetype": "text/x-python",
   "name": "python",
   "nbconvert_exporter": "python",
   "pygments_lexer": "ipython3",
   "version": "3.7.1"
  },
  "toc": {
   "base_numbering": 1,
   "nav_menu": {},
   "number_sections": true,
   "sideBar": true,
   "skip_h1_title": false,
   "title_cell": "Table of Contents",
   "title_sidebar": "Contents",
   "toc_cell": false,
   "toc_position": {},
   "toc_section_display": true,
   "toc_window_display": true
  },
  "varInspector": {
   "cols": {
    "lenName": 16,
    "lenType": 16,
    "lenVar": 40
   },
   "kernels_config": {
    "python": {
     "delete_cmd_postfix": "",
     "delete_cmd_prefix": "del ",
     "library": "var_list.py",
     "varRefreshCmd": "print(var_dic_list())"
    },
    "r": {
     "delete_cmd_postfix": ") ",
     "delete_cmd_prefix": "rm(",
     "library": "var_list.r",
     "varRefreshCmd": "cat(var_dic_list()) "
    }
   },
   "types_to_exclude": [
    "module",
    "function",
    "builtin_function_or_method",
    "instance",
    "_Feature"
   ],
   "window_display": false
  }
 },
 "nbformat": 4,
 "nbformat_minor": 2
}
