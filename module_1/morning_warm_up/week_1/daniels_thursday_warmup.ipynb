{
 "cells": [
  {
   "cell_type": "code",
   "execution_count": null,
   "metadata": {},
   "outputs": [],
   "source": [
    "Discussion session\n",
    "1. How will you read the following data into a pandas data frame ? ftp://aftp.cmdl.noaa.gov/products/trends/co2/co2_mm_mlo.txt\n",
    "\n",
    "2. How would you pick columns 0,1,3 ?\n",
    "[[0, 1, 3]]\n",
    "\n",
    "3. Use a for loop to find all rows where Co2 (column 3) enteries with the value -99.99 (these are missing values) and replace them with NaN values (try using np.nan - do you know what it is? )\n",
    "\n",
    "4. Change names of columns to year, month, and CO2 (use colnames)\n",
    "\n",
    "5. Add a column 'Day' and specifiy the day 15 for all enteries\n",
    "\n",
    "6. Add a date column according to the 'year', 'month' and 'day' columns (options: use apply with lambda or for loop together with datetime.date (make sure to import it))\n",
    "\n",
    "7. Drop the 'Day' column\n",
    "\n",
    "8. use pandas groupby to print the yeaerly avg. of co2 per year.\n",
    "\n",
    "9. Pick columns that you think could be used to build a model and store them in numpy array (Answer why do we do that?)\n",
    "\n",
    "10. repeat step (3) but this time using the np.where command.\n",
    "\n",
    "11. Download the notebook as .py script and run it from your terminal.\n",
    "\n",
    "12. Create a branch in github repository called warm_up_draft\n",
    "\n",
    "13. push the notebook with the name CO2 to your new branch on github."
   ]
  },
  {
   "cell_type": "code",
   "execution_count": null,
   "metadata": {},
   "outputs": [],
   "source": [
    "# Question 1\n"
   ]
  }
 ],
 "metadata": {
  "kernelspec": {
   "display_name": "Python 3",
   "language": "python",
   "name": "python3"
  },
  "language_info": {
   "codemirror_mode": {
    "name": "ipython",
    "version": 3
   },
   "file_extension": ".py",
   "mimetype": "text/x-python",
   "name": "python",
   "nbconvert_exporter": "python",
   "pygments_lexer": "ipython3",
   "version": "3.7.1"
  }
 },
 "nbformat": 4,
 "nbformat_minor": 2
}
