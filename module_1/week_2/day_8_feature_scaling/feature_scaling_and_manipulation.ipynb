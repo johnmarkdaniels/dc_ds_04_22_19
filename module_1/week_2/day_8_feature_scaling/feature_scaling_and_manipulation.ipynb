{
 "cells": [
  {
   "cell_type": "markdown",
   "metadata": {},
   "source": [
    "## Feature Scaling and Manipulation\n",
    "Scaling data is the process of increasing or decreasing the magnitude according to a fixed ratio. You change the size but not the shape of the data.\n",
    "\n",
    "### Why do we need to use feature scaling?\n",
    "\n",
    "It is not always mandatory to use feature scaling but often it is a good practice. It helps handling disparities in units.\n",
    "\n",
    "In the machine learning space, it helps improve the performance of the model and reducing the values/models from varying widely.\n",
    "\n",
    "### How do we perform feature scaling?\n",
    "\n",
    "There different types of feature scaling which are :\n",
    "\n",
    "- Centring\n",
    "- Standardization\n",
    "- Normalization\n"
   ]
  },
  {
   "cell_type": "markdown",
   "metadata": {},
   "source": [
    "## Centering\n",
    "The primary benefit of centering your predictor data in linear modeling is so the **intercept represents the estimate of the target when all predictors are at their mean value**.\n",
    "\n",
    "This basically means that when x=0 , the predictor value will be equal to the intercept and that can sometime not used for the best interpretation. The will get clearer from the below example in python.\n",
    "\n",
    "### Example:\n",
    "\n",
    "We are going to use the baseball data set, where the y value will be the height and x value will be the height, now let's try fitting a linear model to this data."
   ]
  },
  {
   "cell_type": "code",
   "execution_count": 1,
   "metadata": {},
   "outputs": [
    {
     "data": {
      "text/html": [
       "<div>\n",
       "<style scoped>\n",
       "    .dataframe tbody tr th:only-of-type {\n",
       "        vertical-align: middle;\n",
       "    }\n",
       "\n",
       "    .dataframe tbody tr th {\n",
       "        vertical-align: top;\n",
       "    }\n",
       "\n",
       "    .dataframe thead th {\n",
       "        text-align: right;\n",
       "    }\n",
       "</style>\n",
       "<table border=\"1\" class=\"dataframe\">\n",
       "  <thead>\n",
       "    <tr style=\"text-align: right;\">\n",
       "      <th></th>\n",
       "      <th>name</th>\n",
       "      <th>team</th>\n",
       "      <th>position</th>\n",
       "      <th>height_in</th>\n",
       "      <th>weight_lb</th>\n",
       "      <th>age</th>\n",
       "    </tr>\n",
       "  </thead>\n",
       "  <tbody>\n",
       "    <tr>\n",
       "      <th>0</th>\n",
       "      <td>Adam_Donachie</td>\n",
       "      <td>BAL</td>\n",
       "      <td>Catcher</td>\n",
       "      <td>74</td>\n",
       "      <td>180.0</td>\n",
       "      <td>22.99</td>\n",
       "    </tr>\n",
       "    <tr>\n",
       "      <th>1</th>\n",
       "      <td>Paul_Bako</td>\n",
       "      <td>BAL</td>\n",
       "      <td>Catcher</td>\n",
       "      <td>74</td>\n",
       "      <td>215.0</td>\n",
       "      <td>34.69</td>\n",
       "    </tr>\n",
       "    <tr>\n",
       "      <th>2</th>\n",
       "      <td>Ramon_Hernandez</td>\n",
       "      <td>BAL</td>\n",
       "      <td>Catcher</td>\n",
       "      <td>72</td>\n",
       "      <td>210.0</td>\n",
       "      <td>30.78</td>\n",
       "    </tr>\n",
       "    <tr>\n",
       "      <th>3</th>\n",
       "      <td>Kevin_Millar</td>\n",
       "      <td>BAL</td>\n",
       "      <td>First_Baseman</td>\n",
       "      <td>72</td>\n",
       "      <td>210.0</td>\n",
       "      <td>35.43</td>\n",
       "    </tr>\n",
       "    <tr>\n",
       "      <th>4</th>\n",
       "      <td>Chris_Gomez</td>\n",
       "      <td>BAL</td>\n",
       "      <td>First_Baseman</td>\n",
       "      <td>73</td>\n",
       "      <td>188.0</td>\n",
       "      <td>35.71</td>\n",
       "    </tr>\n",
       "  </tbody>\n",
       "</table>\n",
       "</div>"
      ],
      "text/plain": [
       "              name team       position  height_in  weight_lb    age\n",
       "0    Adam_Donachie  BAL        Catcher         74      180.0  22.99\n",
       "1        Paul_Bako  BAL        Catcher         74      215.0  34.69\n",
       "2  Ramon_Hernandez  BAL        Catcher         72      210.0  30.78\n",
       "3     Kevin_Millar  BAL  First_Baseman         72      210.0  35.43\n",
       "4      Chris_Gomez  BAL  First_Baseman         73      188.0  35.71"
      ]
     },
     "execution_count": 1,
     "metadata": {},
     "output_type": "execute_result"
    }
   ],
   "source": [
    "import pandas as pd\n",
    "import numpy as np\n",
    "import statsmodels.api as sm\n",
    "import seaborn as sns\n",
    "%matplotlib inline\n",
    "\n",
    "baseball = pd.read_csv('data/baseball_height_weight.csv')\n",
    "baseball.head()"
   ]
  },
  {
   "cell_type": "code",
   "execution_count": 2,
   "metadata": {},
   "outputs": [
    {
     "data": {
      "text/html": [
       "<table class=\"simpletable\">\n",
       "<caption>OLS Regression Results</caption>\n",
       "<tr>\n",
       "  <th>Dep. Variable:</th>        <td>weight_lb</td>    <th>  R-squared:         </th> <td>   0.283</td>\n",
       "</tr>\n",
       "<tr>\n",
       "  <th>Model:</th>                   <td>OLS</td>       <th>  Adj. R-squared:    </th> <td>   0.282</td>\n",
       "</tr>\n",
       "<tr>\n",
       "  <th>Method:</th>             <td>Least Squares</td>  <th>  F-statistic:       </th> <td>   405.9</td>\n",
       "</tr>\n",
       "<tr>\n",
       "  <th>Date:</th>             <td>Wed, 01 May 2019</td> <th>  Prob (F-statistic):</th> <td>2.28e-76</td>\n",
       "</tr>\n",
       "<tr>\n",
       "  <th>Time:</th>                 <td>14:35:27</td>     <th>  Log-Likelihood:    </th> <td> -4434.1</td>\n",
       "</tr>\n",
       "<tr>\n",
       "  <th>No. Observations:</th>      <td>  1032</td>      <th>  AIC:               </th> <td>   8872.</td>\n",
       "</tr>\n",
       "<tr>\n",
       "  <th>Df Residuals:</th>          <td>  1030</td>      <th>  BIC:               </th> <td>   8882.</td>\n",
       "</tr>\n",
       "<tr>\n",
       "  <th>Df Model:</th>              <td>     1</td>      <th>                     </th>     <td> </td>   \n",
       "</tr>\n",
       "<tr>\n",
       "  <th>Covariance Type:</th>      <td>nonrobust</td>    <th>                     </th>     <td> </td>   \n",
       "</tr>\n",
       "</table>\n",
       "<table class=\"simpletable\">\n",
       "<tr>\n",
       "      <td></td>         <th>coef</th>     <th>std err</th>      <th>t</th>      <th>P>|t|</th>  <th>[0.025</th>    <th>0.975]</th>  \n",
       "</tr>\n",
       "<tr>\n",
       "  <th>const</th>     <td> -154.8932</td> <td>   17.706</td> <td>   -8.748</td> <td> 0.000</td> <td> -189.638</td> <td> -120.149</td>\n",
       "</tr>\n",
       "<tr>\n",
       "  <th>height_in</th> <td>    4.8382</td> <td>    0.240</td> <td>   20.148</td> <td> 0.000</td> <td>    4.367</td> <td>    5.309</td>\n",
       "</tr>\n",
       "</table>\n",
       "<table class=\"simpletable\">\n",
       "<tr>\n",
       "  <th>Omnibus:</th>       <td>18.246</td> <th>  Durbin-Watson:     </th> <td>   1.962</td>\n",
       "</tr>\n",
       "<tr>\n",
       "  <th>Prob(Omnibus):</th> <td> 0.000</td> <th>  Jarque-Bera (JB):  </th> <td>  20.275</td>\n",
       "</tr>\n",
       "<tr>\n",
       "  <th>Skew:</th>          <td> 0.268</td> <th>  Prob(JB):          </th> <td>3.96e-05</td>\n",
       "</tr>\n",
       "<tr>\n",
       "  <th>Kurtosis:</th>      <td> 3.428</td> <th>  Cond. No.          </th> <td>2.36e+03</td>\n",
       "</tr>\n",
       "</table><br/><br/>Warnings:<br/>[1] Standard Errors assume that the covariance matrix of the errors is correctly specified.<br/>[2] The condition number is large, 2.36e+03. This might indicate that there are<br/>strong multicollinearity or other numerical problems."
      ],
      "text/plain": [
       "<class 'statsmodels.iolib.summary.Summary'>\n",
       "\"\"\"\n",
       "                            OLS Regression Results                            \n",
       "==============================================================================\n",
       "Dep. Variable:              weight_lb   R-squared:                       0.283\n",
       "Model:                            OLS   Adj. R-squared:                  0.282\n",
       "Method:                 Least Squares   F-statistic:                     405.9\n",
       "Date:                Wed, 01 May 2019   Prob (F-statistic):           2.28e-76\n",
       "Time:                        14:35:27   Log-Likelihood:                -4434.1\n",
       "No. Observations:                1032   AIC:                             8872.\n",
       "Df Residuals:                    1030   BIC:                             8882.\n",
       "Df Model:                           1                                         \n",
       "Covariance Type:            nonrobust                                         \n",
       "==============================================================================\n",
       "                 coef    std err          t      P>|t|      [0.025      0.975]\n",
       "------------------------------------------------------------------------------\n",
       "const       -154.8932     17.706     -8.748      0.000    -189.638    -120.149\n",
       "height_in      4.8382      0.240     20.148      0.000       4.367       5.309\n",
       "==============================================================================\n",
       "Omnibus:                       18.246   Durbin-Watson:                   1.962\n",
       "Prob(Omnibus):                  0.000   Jarque-Bera (JB):               20.275\n",
       "Skew:                           0.268   Prob(JB):                     3.96e-05\n",
       "Kurtosis:                       3.428   Cond. No.                     2.36e+03\n",
       "==============================================================================\n",
       "\n",
       "Warnings:\n",
       "[1] Standard Errors assume that the covariance matrix of the errors is correctly specified.\n",
       "[2] The condition number is large, 2.36e+03. This might indicate that there are\n",
       "strong multicollinearity or other numerical problems.\n",
       "\"\"\""
      ]
     },
     "execution_count": 2,
     "metadata": {},
     "output_type": "execute_result"
    }
   ],
   "source": [
    "X = baseball[['height_in']]\n",
    "y = baseball['weight_lb']\n",
    "X = sm.add_constant(X)\n",
    "\n",
    "model = sm.OLS(y, X).fit()\n",
    "model.summary()"
   ]
  },
  {
   "cell_type": "markdown",
   "metadata": {},
   "source": [
    "Lets try interpreting this , the constant coefficient (intercept) is -154.  Does that mean that when a baseball player has height in 0 inches their weight will be -154 lbs?  Does this sound right? To eliminate this misinterpretation we use centring.\n",
    "\n",
    "Now lets see how that works: below is the equation which describes centering:\n",
    "\n",
    "$X_c = X - \\bar{X}$"
   ]
  },
  {
   "cell_type": "code",
   "execution_count": 3,
   "metadata": {},
   "outputs": [
    {
     "data": {
      "text/html": [
       "<div>\n",
       "<style scoped>\n",
       "    .dataframe tbody tr th:only-of-type {\n",
       "        vertical-align: middle;\n",
       "    }\n",
       "\n",
       "    .dataframe tbody tr th {\n",
       "        vertical-align: top;\n",
       "    }\n",
       "\n",
       "    .dataframe thead th {\n",
       "        text-align: right;\n",
       "    }\n",
       "</style>\n",
       "<table border=\"1\" class=\"dataframe\">\n",
       "  <thead>\n",
       "    <tr style=\"text-align: right;\">\n",
       "      <th></th>\n",
       "      <th>name</th>\n",
       "      <th>team</th>\n",
       "      <th>position</th>\n",
       "      <th>height_in</th>\n",
       "      <th>weight_lb</th>\n",
       "      <th>age</th>\n",
       "      <th>height_ctr</th>\n",
       "    </tr>\n",
       "  </thead>\n",
       "  <tbody>\n",
       "    <tr>\n",
       "      <th>0</th>\n",
       "      <td>Adam_Donachie</td>\n",
       "      <td>BAL</td>\n",
       "      <td>Catcher</td>\n",
       "      <td>74</td>\n",
       "      <td>180.0</td>\n",
       "      <td>22.99</td>\n",
       "      <td>0.302326</td>\n",
       "    </tr>\n",
       "    <tr>\n",
       "      <th>1</th>\n",
       "      <td>Paul_Bako</td>\n",
       "      <td>BAL</td>\n",
       "      <td>Catcher</td>\n",
       "      <td>74</td>\n",
       "      <td>215.0</td>\n",
       "      <td>34.69</td>\n",
       "      <td>0.302326</td>\n",
       "    </tr>\n",
       "    <tr>\n",
       "      <th>2</th>\n",
       "      <td>Ramon_Hernandez</td>\n",
       "      <td>BAL</td>\n",
       "      <td>Catcher</td>\n",
       "      <td>72</td>\n",
       "      <td>210.0</td>\n",
       "      <td>30.78</td>\n",
       "      <td>-1.697674</td>\n",
       "    </tr>\n",
       "    <tr>\n",
       "      <th>3</th>\n",
       "      <td>Kevin_Millar</td>\n",
       "      <td>BAL</td>\n",
       "      <td>First_Baseman</td>\n",
       "      <td>72</td>\n",
       "      <td>210.0</td>\n",
       "      <td>35.43</td>\n",
       "      <td>-1.697674</td>\n",
       "    </tr>\n",
       "    <tr>\n",
       "      <th>4</th>\n",
       "      <td>Chris_Gomez</td>\n",
       "      <td>BAL</td>\n",
       "      <td>First_Baseman</td>\n",
       "      <td>73</td>\n",
       "      <td>188.0</td>\n",
       "      <td>35.71</td>\n",
       "      <td>-0.697674</td>\n",
       "    </tr>\n",
       "  </tbody>\n",
       "</table>\n",
       "</div>"
      ],
      "text/plain": [
       "              name team       position  height_in  weight_lb    age  \\\n",
       "0    Adam_Donachie  BAL        Catcher         74      180.0  22.99   \n",
       "1        Paul_Bako  BAL        Catcher         74      215.0  34.69   \n",
       "2  Ramon_Hernandez  BAL        Catcher         72      210.0  30.78   \n",
       "3     Kevin_Millar  BAL  First_Baseman         72      210.0  35.43   \n",
       "4      Chris_Gomez  BAL  First_Baseman         73      188.0  35.71   \n",
       "\n",
       "   height_ctr  \n",
       "0    0.302326  \n",
       "1    0.302326  \n",
       "2   -1.697674  \n",
       "3   -1.697674  \n",
       "4   -0.697674  "
      ]
     },
     "execution_count": 3,
     "metadata": {},
     "output_type": "execute_result"
    }
   ],
   "source": [
    "baseball['height_ctr'] = baseball.height_in - baseball.height_in.mean()\n",
    "baseball.head()"
   ]
  },
  {
   "cell_type": "code",
   "execution_count": 4,
   "metadata": {},
   "outputs": [
    {
     "data": {
      "text/html": [
       "<table class=\"simpletable\">\n",
       "<caption>OLS Regression Results</caption>\n",
       "<tr>\n",
       "  <th>Dep. Variable:</th>        <td>weight_lb</td>    <th>  R-squared:         </th> <td>   0.283</td>\n",
       "</tr>\n",
       "<tr>\n",
       "  <th>Model:</th>                   <td>OLS</td>       <th>  Adj. R-squared:    </th> <td>   0.282</td>\n",
       "</tr>\n",
       "<tr>\n",
       "  <th>Method:</th>             <td>Least Squares</td>  <th>  F-statistic:       </th> <td>   405.9</td>\n",
       "</tr>\n",
       "<tr>\n",
       "  <th>Date:</th>             <td>Wed, 01 May 2019</td> <th>  Prob (F-statistic):</th> <td>2.28e-76</td>\n",
       "</tr>\n",
       "<tr>\n",
       "  <th>Time:</th>                 <td>14:35:47</td>     <th>  Log-Likelihood:    </th> <td> -4434.1</td>\n",
       "</tr>\n",
       "<tr>\n",
       "  <th>No. Observations:</th>      <td>  1032</td>      <th>  AIC:               </th> <td>   8872.</td>\n",
       "</tr>\n",
       "<tr>\n",
       "  <th>Df Residuals:</th>          <td>  1030</td>      <th>  BIC:               </th> <td>   8882.</td>\n",
       "</tr>\n",
       "<tr>\n",
       "  <th>Df Model:</th>              <td>     1</td>      <th>                     </th>     <td> </td>   \n",
       "</tr>\n",
       "<tr>\n",
       "  <th>Covariance Type:</th>      <td>nonrobust</td>    <th>                     </th>     <td> </td>   \n",
       "</tr>\n",
       "</table>\n",
       "<table class=\"simpletable\">\n",
       "<tr>\n",
       "       <td></td>         <th>coef</th>     <th>std err</th>      <th>t</th>      <th>P>|t|</th>  <th>[0.025</th>    <th>0.975]</th>  \n",
       "</tr>\n",
       "<tr>\n",
       "  <th>const</th>      <td>  201.6715</td> <td>    0.554</td> <td>  364.189</td> <td> 0.000</td> <td>  200.585</td> <td>  202.758</td>\n",
       "</tr>\n",
       "<tr>\n",
       "  <th>height_ctr</th> <td>    4.8382</td> <td>    0.240</td> <td>   20.148</td> <td> 0.000</td> <td>    4.367</td> <td>    5.309</td>\n",
       "</tr>\n",
       "</table>\n",
       "<table class=\"simpletable\">\n",
       "<tr>\n",
       "  <th>Omnibus:</th>       <td>18.246</td> <th>  Durbin-Watson:     </th> <td>   1.962</td>\n",
       "</tr>\n",
       "<tr>\n",
       "  <th>Prob(Omnibus):</th> <td> 0.000</td> <th>  Jarque-Bera (JB):  </th> <td>  20.275</td>\n",
       "</tr>\n",
       "<tr>\n",
       "  <th>Skew:</th>          <td> 0.268</td> <th>  Prob(JB):          </th> <td>3.96e-05</td>\n",
       "</tr>\n",
       "<tr>\n",
       "  <th>Kurtosis:</th>      <td> 3.428</td> <th>  Cond. No.          </th> <td>    2.31</td>\n",
       "</tr>\n",
       "</table><br/><br/>Warnings:<br/>[1] Standard Errors assume that the covariance matrix of the errors is correctly specified."
      ],
      "text/plain": [
       "<class 'statsmodels.iolib.summary.Summary'>\n",
       "\"\"\"\n",
       "                            OLS Regression Results                            \n",
       "==============================================================================\n",
       "Dep. Variable:              weight_lb   R-squared:                       0.283\n",
       "Model:                            OLS   Adj. R-squared:                  0.282\n",
       "Method:                 Least Squares   F-statistic:                     405.9\n",
       "Date:                Wed, 01 May 2019   Prob (F-statistic):           2.28e-76\n",
       "Time:                        14:35:47   Log-Likelihood:                -4434.1\n",
       "No. Observations:                1032   AIC:                             8872.\n",
       "Df Residuals:                    1030   BIC:                             8882.\n",
       "Df Model:                           1                                         \n",
       "Covariance Type:            nonrobust                                         \n",
       "==============================================================================\n",
       "                 coef    std err          t      P>|t|      [0.025      0.975]\n",
       "------------------------------------------------------------------------------\n",
       "const        201.6715      0.554    364.189      0.000     200.585     202.758\n",
       "height_ctr     4.8382      0.240     20.148      0.000       4.367       5.309\n",
       "==============================================================================\n",
       "Omnibus:                       18.246   Durbin-Watson:                   1.962\n",
       "Prob(Omnibus):                  0.000   Jarque-Bera (JB):               20.275\n",
       "Skew:                           0.268   Prob(JB):                     3.96e-05\n",
       "Kurtosis:                       3.428   Cond. No.                         2.31\n",
       "==============================================================================\n",
       "\n",
       "Warnings:\n",
       "[1] Standard Errors assume that the covariance matrix of the errors is correctly specified.\n",
       "\"\"\""
      ]
     },
     "execution_count": 4,
     "metadata": {},
     "output_type": "execute_result"
    }
   ],
   "source": [
    "X = baseball[['height_ctr']]\n",
    "y = baseball['weight_lb']\n",
    "X = sm.add_constant(X)\n",
    "\n",
    "model = sm.OLS(y, X).fit()\n",
    "model.summary()"
   ]
  },
  {
   "cell_type": "code",
   "execution_count": 5,
   "metadata": {},
   "outputs": [
    {
     "data": {
      "text/plain": [
       "2.3133949536375357e-15"
      ]
     },
     "execution_count": 5,
     "metadata": {},
     "output_type": "execute_result"
    }
   ],
   "source": [
    "baseball.height_ctr.mean()"
   ]
  },
  {
   "cell_type": "code",
   "execution_count": 6,
   "metadata": {},
   "outputs": [
    {
     "name": "stderr",
     "output_type": "stream",
     "text": [
      "/anaconda3/lib/python3.7/site-packages/scipy/stats/stats.py:1713: FutureWarning: Using a non-tuple sequence for multidimensional indexing is deprecated; use `arr[tuple(seq)]` instead of `arr[seq]`. In the future this will be interpreted as an array index, `arr[np.array(seq)]`, which will result either in an error or a different result.\n",
      "  return np.add.reduce(sorted[indexer] * weights, axis=axis) / sumval\n"
     ]
    },
    {
     "data": {
      "text/plain": [
       "<matplotlib.axes._subplots.AxesSubplot at 0x1c17e93780>"
      ]
     },
     "execution_count": 6,
     "metadata": {},
     "output_type": "execute_result"
    },
    {
     "data": {
      "image/png": "[encoded data removed]",
      "text/plain": [
       "<Figure size 432x288 with 1 Axes>"
      ]
     },
     "metadata": {
      "needs_background": "light"
     },
     "output_type": "display_data"
    }
   ],
   "source": [
    "sns.regplot('height_in', 'weight_lb', data=baseball)"
   ]
  },
  {
   "cell_type": "code",
   "execution_count": 7,
   "metadata": {},
   "outputs": [
    {
     "data": {
      "text/plain": [
       "<matplotlib.axes._subplots.AxesSubplot at 0x1c185c0e48>"
      ]
     },
     "execution_count": 7,
     "metadata": {},
     "output_type": "execute_result"
    },
    {
     "data": {
      "image/png": "[encoded data removed]",
      "text/plain": [
       "<Figure size 432x288 with 1 Axes>"
      ]
     },
     "metadata": {
      "needs_background": "light"
     },
     "output_type": "display_data"
    }
   ],
   "source": [
    "sns.regplot('height_ctr', 'weight_lb', data=baseball)"
   ]
  },
  {
   "cell_type": "markdown",
   "metadata": {},
   "source": [
    "## Standardization\n",
    "\n",
    "The most common method of scaling is standardization.  In this method we center the data, then we divide by the standard devation to enforce that the standard deviation of the variable is one:\n",
    "\n",
    "$X_{std} = \\cfrac{X-\\bar{X}}{s_X}$\n"
   ]
  },
  {
   "cell_type": "code",
   "execution_count": 8,
   "metadata": {},
   "outputs": [
    {
     "name": "stdout",
     "output_type": "stream",
     "text": [
      "Type: <class 'numpy.ndarray'>\n",
      "Mean: 7.659678231909995e-16\n",
      "St. Dev: 0.9999999999999998\n"
     ]
    }
   ],
   "source": [
    "from sklearn.preprocessing import StandardScaler\n",
    "\n",
    "ss = StandardScaler()\n",
    "\n",
    "baseball_std = ss.fit_transform(baseball[['height_in', 'weight_lb']].values)\n",
    "print(\"Type: {}\".format(type(baseball_std)))\n",
    "print(\"Mean: {}\".format(baseball_std.mean()))\n",
    "print(\"St. Dev: {}\".format(baseball_std.std()))"
   ]
  },
  {
   "cell_type": "code",
   "execution_count": 9,
   "metadata": {},
   "outputs": [
    {
     "data": {
      "text/html": [
       "<table class=\"simpletable\">\n",
       "<caption>OLS Regression Results</caption>\n",
       "<tr>\n",
       "  <th>Dep. Variable:</th>            <td>y</td>        <th>  R-squared:         </th> <td>   0.283</td>\n",
       "</tr>\n",
       "<tr>\n",
       "  <th>Model:</th>                   <td>OLS</td>       <th>  Adj. R-squared:    </th> <td>   0.282</td>\n",
       "</tr>\n",
       "<tr>\n",
       "  <th>Method:</th>             <td>Least Squares</td>  <th>  F-statistic:       </th> <td>   405.9</td>\n",
       "</tr>\n",
       "<tr>\n",
       "  <th>Date:</th>             <td>Wed, 01 May 2019</td> <th>  Prob (F-statistic):</th> <td>2.28e-76</td>\n",
       "</tr>\n",
       "<tr>\n",
       "  <th>Time:</th>                 <td>14:50:00</td>     <th>  Log-Likelihood:    </th> <td> -1292.9</td>\n",
       "</tr>\n",
       "<tr>\n",
       "  <th>No. Observations:</th>      <td>  1032</td>      <th>  AIC:               </th> <td>   2590.</td>\n",
       "</tr>\n",
       "<tr>\n",
       "  <th>Df Residuals:</th>          <td>  1030</td>      <th>  BIC:               </th> <td>   2600.</td>\n",
       "</tr>\n",
       "<tr>\n",
       "  <th>Df Model:</th>              <td>     1</td>      <th>                     </th>     <td> </td>   \n",
       "</tr>\n",
       "<tr>\n",
       "  <th>Covariance Type:</th>      <td>nonrobust</td>    <th>                     </th>     <td> </td>   \n",
       "</tr>\n",
       "</table>\n",
       "<table class=\"simpletable\">\n",
       "<tr>\n",
       "    <td></td>       <th>coef</th>     <th>std err</th>      <th>t</th>      <th>P>|t|</th>  <th>[0.025</th>    <th>0.975]</th>  \n",
       "</tr>\n",
       "<tr>\n",
       "  <th>const</th> <td> 5.222e-16</td> <td>    0.026</td> <td> 1.98e-14</td> <td> 1.000</td> <td>   -0.052</td> <td>    0.052</td>\n",
       "</tr>\n",
       "<tr>\n",
       "  <th>x1</th>    <td>    0.5317</td> <td>    0.026</td> <td>   20.148</td> <td> 0.000</td> <td>    0.480</td> <td>    0.583</td>\n",
       "</tr>\n",
       "</table>\n",
       "<table class=\"simpletable\">\n",
       "<tr>\n",
       "  <th>Omnibus:</th>       <td>18.246</td> <th>  Durbin-Watson:     </th> <td>   1.962</td>\n",
       "</tr>\n",
       "<tr>\n",
       "  <th>Prob(Omnibus):</th> <td> 0.000</td> <th>  Jarque-Bera (JB):  </th> <td>  20.275</td>\n",
       "</tr>\n",
       "<tr>\n",
       "  <th>Skew:</th>          <td> 0.268</td> <th>  Prob(JB):          </th> <td>3.96e-05</td>\n",
       "</tr>\n",
       "<tr>\n",
       "  <th>Kurtosis:</th>      <td> 3.428</td> <th>  Cond. No.          </th> <td>    1.00</td>\n",
       "</tr>\n",
       "</table><br/><br/>Warnings:<br/>[1] Standard Errors assume that the covariance matrix of the errors is correctly specified."
      ],
      "text/plain": [
       "<class 'statsmodels.iolib.summary.Summary'>\n",
       "\"\"\"\n",
       "                            OLS Regression Results                            \n",
       "==============================================================================\n",
       "Dep. Variable:                      y   R-squared:                       0.283\n",
       "Model:                            OLS   Adj. R-squared:                  0.282\n",
       "Method:                 Least Squares   F-statistic:                     405.9\n",
       "Date:                Wed, 01 May 2019   Prob (F-statistic):           2.28e-76\n",
       "Time:                        14:50:00   Log-Likelihood:                -1292.9\n",
       "No. Observations:                1032   AIC:                             2590.\n",
       "Df Residuals:                    1030   BIC:                             2600.\n",
       "Df Model:                           1                                         \n",
       "Covariance Type:            nonrobust                                         \n",
       "==============================================================================\n",
       "                 coef    std err          t      P>|t|      [0.025      0.975]\n",
       "------------------------------------------------------------------------------\n",
       "const       5.222e-16      0.026   1.98e-14      1.000      -0.052       0.052\n",
       "x1             0.5317      0.026     20.148      0.000       0.480       0.583\n",
       "==============================================================================\n",
       "Omnibus:                       18.246   Durbin-Watson:                   1.962\n",
       "Prob(Omnibus):                  0.000   Jarque-Bera (JB):               20.275\n",
       "Skew:                           0.268   Prob(JB):                     3.96e-05\n",
       "Kurtosis:                       3.428   Cond. No.                         1.00\n",
       "==============================================================================\n",
       "\n",
       "Warnings:\n",
       "[1] Standard Errors assume that the covariance matrix of the errors is correctly specified.\n",
       "\"\"\""
      ]
     },
     "execution_count": 9,
     "metadata": {},
     "output_type": "execute_result"
    }
   ],
   "source": [
    "X = baseball_std[:,0]\n",
    "y = baseball_std[:,1]\n",
    "X = sm.add_constant(X)\n",
    "\n",
    "model = sm.OLS(y, X).fit()\n",
    "model.summary()"
   ]
  },
  {
   "cell_type": "code",
   "execution_count": 55,
   "metadata": {},
   "outputs": [
    {
     "data": {
      "text/plain": [
       "<matplotlib.axes._subplots.AxesSubplot at 0x130a6aa20>"
      ]
     },
     "execution_count": 55,
     "metadata": {},
     "output_type": "execute_result"
    },
    {
     "data": {
      "image/png": "[encoded data removed]",
      "text/plain": [
       "<Figure size 432x288 with 1 Axes>"
      ]
     },
     "metadata": {
      "needs_background": "light"
     },
     "output_type": "display_data"
    }
   ],
   "source": [
    "sns.regplot(X[:,1], y)"
   ]
  },
  {
   "cell_type": "markdown",
   "metadata": {},
   "source": [
    "### Another Example:"
   ]
  },
  {
   "cell_type": "code",
   "execution_count": 10,
   "metadata": {},
   "outputs": [
    {
     "data": {
      "text/html": [
       "<table class=\"simpletable\">\n",
       "<caption>OLS Regression Results</caption>\n",
       "<tr>\n",
       "  <th>Dep. Variable:</th>            <td>y</td>        <th>  R-squared:         </th> <td>   0.060</td>\n",
       "</tr>\n",
       "<tr>\n",
       "  <th>Model:</th>                   <td>OLS</td>       <th>  Adj. R-squared:    </th> <td>   0.058</td>\n",
       "</tr>\n",
       "<tr>\n",
       "  <th>Method:</th>             <td>Least Squares</td>  <th>  F-statistic:       </th> <td>   32.69</td>\n",
       "</tr>\n",
       "<tr>\n",
       "  <th>Date:</th>             <td>Wed, 01 May 2019</td> <th>  Prob (F-statistic):</th> <td>1.71e-14</td>\n",
       "</tr>\n",
       "<tr>\n",
       "  <th>Time:</th>                 <td>15:00:32</td>     <th>  Log-Likelihood:    </th> <td> -2942.8</td>\n",
       "</tr>\n",
       "<tr>\n",
       "  <th>No. Observations:</th>      <td>  1032</td>      <th>  AIC:               </th> <td>   5892.</td>\n",
       "</tr>\n",
       "<tr>\n",
       "  <th>Df Residuals:</th>          <td>  1029</td>      <th>  BIC:               </th> <td>   5906.</td>\n",
       "</tr>\n",
       "<tr>\n",
       "  <th>Df Model:</th>              <td>     2</td>      <th>                     </th>     <td> </td>   \n",
       "</tr>\n",
       "<tr>\n",
       "  <th>Covariance Type:</th>      <td>nonrobust</td>    <th>                     </th>     <td> </td>   \n",
       "</tr>\n",
       "</table>\n",
       "<table class=\"simpletable\">\n",
       "<tr>\n",
       "    <td></td>       <th>coef</th>     <th>std err</th>      <th>t</th>      <th>P>|t|</th>  <th>[0.025</th>    <th>0.975]</th>  \n",
       "</tr>\n",
       "<tr>\n",
       "  <th>const</th> <td>   28.7342</td> <td>    0.131</td> <td>  219.997</td> <td> 0.000</td> <td>   28.478</td> <td>   28.990</td>\n",
       "</tr>\n",
       "<tr>\n",
       "  <th>x1</th>    <td>   -0.9529</td> <td>    0.154</td> <td>   -6.179</td> <td> 0.000</td> <td>   -1.255</td> <td>   -0.650</td>\n",
       "</tr>\n",
       "<tr>\n",
       "  <th>x2</th>    <td>    1.1880</td> <td>    0.154</td> <td>    7.703</td> <td> 0.000</td> <td>    0.885</td> <td>    1.491</td>\n",
       "</tr>\n",
       "</table>\n",
       "<table class=\"simpletable\">\n",
       "<tr>\n",
       "  <th>Omnibus:</th>       <td>107.987</td> <th>  Durbin-Watson:     </th> <td>   1.459</td>\n",
       "</tr>\n",
       "<tr>\n",
       "  <th>Prob(Omnibus):</th> <td> 0.000</td>  <th>  Jarque-Bera (JB):  </th> <td> 144.836</td>\n",
       "</tr>\n",
       "<tr>\n",
       "  <th>Skew:</th>          <td> 0.822</td>  <th>  Prob(JB):          </th> <td>3.54e-32</td>\n",
       "</tr>\n",
       "<tr>\n",
       "  <th>Kurtosis:</th>      <td> 3.816</td>  <th>  Cond. No.          </th> <td>    1.81</td>\n",
       "</tr>\n",
       "</table><br/><br/>Warnings:<br/>[1] Standard Errors assume that the covariance matrix of the errors is correctly specified."
      ],
      "text/plain": [
       "<class 'statsmodels.iolib.summary.Summary'>\n",
       "\"\"\"\n",
       "                            OLS Regression Results                            \n",
       "==============================================================================\n",
       "Dep. Variable:                      y   R-squared:                       0.060\n",
       "Model:                            OLS   Adj. R-squared:                  0.058\n",
       "Method:                 Least Squares   F-statistic:                     32.69\n",
       "Date:                Wed, 01 May 2019   Prob (F-statistic):           1.71e-14\n",
       "Time:                        15:00:32   Log-Likelihood:                -2942.8\n",
       "No. Observations:                1032   AIC:                             5892.\n",
       "Df Residuals:                    1029   BIC:                             5906.\n",
       "Df Model:                           2                                         \n",
       "Covariance Type:            nonrobust                                         \n",
       "==============================================================================\n",
       "                 coef    std err          t      P>|t|      [0.025      0.975]\n",
       "------------------------------------------------------------------------------\n",
       "const         28.7342      0.131    219.997      0.000      28.478      28.990\n",
       "x1            -0.9529      0.154     -6.179      0.000      -1.255      -0.650\n",
       "x2             1.1880      0.154      7.703      0.000       0.885       1.491\n",
       "==============================================================================\n",
       "Omnibus:                      107.987   Durbin-Watson:                   1.459\n",
       "Prob(Omnibus):                  0.000   Jarque-Bera (JB):              144.836\n",
       "Skew:                           0.822   Prob(JB):                     3.54e-32\n",
       "Kurtosis:                       3.816   Cond. No.                         1.81\n",
       "==============================================================================\n",
       "\n",
       "Warnings:\n",
       "[1] Standard Errors assume that the covariance matrix of the errors is correctly specified.\n",
       "\"\"\""
      ]
     },
     "execution_count": 10,
     "metadata": {},
     "output_type": "execute_result"
    }
   ],
   "source": [
    "# reminder: X[0] is height, X[1] is weight\n",
    "X = baseball_std\n",
    "X = sm.add_constant(X)\n",
    "y = baseball.age.values\n",
    "\n",
    "model = sm.OLS(y, X).fit()\n",
    "model.summary()"
   ]
  },
  {
   "cell_type": "markdown",
   "metadata": {},
   "source": [
    "Lets interpret this:\n",
    "\n",
    "- 1 standard deviation increase in height estimates -.95 years of age\n",
    "- 1 standard deviation increase in weight estimates 1.18 years of age\n",
    "\n",
    "Makes it easier to compare different quantity measurements with each other.\n",
    "\n"
   ]
  },
  {
   "cell_type": "code",
   "execution_count": 11,
   "metadata": {},
   "outputs": [
    {
     "name": "stderr",
     "output_type": "stream",
     "text": [
      "/anaconda3/lib/python3.7/site-packages/scipy/stats/stats.py:1713: FutureWarning: Using a non-tuple sequence for multidimensional indexing is deprecated; use `arr[tuple(seq)]` instead of `arr[seq]`. In the future this will be interpreted as an array index, `arr[np.array(seq)]`, which will result either in an error or a different result.\n",
      "  return np.add.reduce(sorted[indexer] * weights, axis=axis) / sumval\n"
     ]
    },
    {
     "data": {
      "text/plain": [
       "<matplotlib.axes._subplots.AxesSubplot at 0x1c1902fcc0>"
      ]
     },
     "execution_count": 11,
     "metadata": {},
     "output_type": "execute_result"
    },
    {
     "data": {
      "image/png": "[encoded data removed]",
      "text/plain": [
       "<Figure size 432x288 with 1 Axes>"
      ]
     },
     "metadata": {
      "needs_background": "light"
     },
     "output_type": "display_data"
    }
   ],
   "source": [
    "sns.regplot(X[:,2], y)"
   ]
  },
  {
   "cell_type": "code",
   "execution_count": 12,
   "metadata": {},
   "outputs": [
    {
     "name": "stderr",
     "output_type": "stream",
     "text": [
      "/anaconda3/lib/python3.7/site-packages/sklearn/preprocessing/data.py:323: DataConversionWarning: Data with input dtype int64, float64 were all converted to float64 by MinMaxScaler.\n",
      "  return self.partial_fit(X, y)\n"
     ]
    }
   ],
   "source": [
    "from sklearn.preprocessing import MinMaxScaler\n",
    "\n",
    "X = baseball[['age', 'height_in', 'weight_lb']]\n",
    "\n",
    "mms = MinMaxScaler()\n",
    "Xn = mms.fit_transform(X)\n",
    "\n"
   ]
  },
  {
   "cell_type": "code",
   "execution_count": null,
   "metadata": {},
   "outputs": [],
   "source": []
  }
 ],
 "metadata": {
  "kernelspec": {
   "display_name": "Python 3",
   "language": "python",
   "name": "python3"
  },
  "language_info": {
   "codemirror_mode": {
    "name": "ipython",
    "version": 3
   },
   "file_extension": ".py",
   "mimetype": "text/x-python",
   "name": "python",
   "nbconvert_exporter": "python",
   "pygments_lexer": "ipython3",
   "version": "3.7.1"
  }
 },
 "nbformat": 4,
 "nbformat_minor": 2
}
