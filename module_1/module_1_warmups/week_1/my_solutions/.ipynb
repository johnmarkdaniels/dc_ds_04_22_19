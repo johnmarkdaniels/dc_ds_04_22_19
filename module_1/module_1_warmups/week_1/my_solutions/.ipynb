{
 "cells": [
  {
   "cell_type": "code",
   "execution_count": null,
   "metadata": {},
   "outputs": [],
   "source": [
    "#!/usr/bin/env python\n",
    "# coding: utf-8\n",
    "\n",
    "# In[13]:\n",
    "\n",
    "\n",
    "### 1. Create a dictionary where each object contains a list of one float (Age) and one string (Family name) (at least 5 objects)\n",
    "### Example: `{Charles: [23.4, \"Darwin\"], Alan: [42.5, \"Turing\"]}`\n",
    "\n",
    "Family_Ages = {'Dara': [40.1, \"Duncan\"], 'Mark': [44.5, \"Daniels\"], 'Estel': [74.5, \"Daniels\"], 'Marilyn': [64.5, \"Wilson\"], 'Sebastian': [7.7, \"Daniels\"], 'Elias': [9.7, \"Daniels\"]}\n",
    "\n",
    "print(Family_Ages)"
   ]
  },
  {
   "cell_type": "code",
   "execution_count": null,
   "metadata": {},
   "outputs": [],
   "source": [
    "### 2. Delete one object from the dictionary\n",
    "\n",
    "del(Family_Ages['Mark'])\n",
    "print(Family_Ages)"
   ]
  },
  {
   "cell_type": "code",
   "execution_count": null,
   "metadata": {},
   "outputs": [],
   "source": [
    "### 3. Replace the float number of one of your objects - we are changing a list entry inside a dictionary record! look at Darwin's new age\n",
    "### Example: `{Charles: [99.73, \"Darwin\"], Alan: [42.5, \"Turing\"]}`\n",
    "\n",
    "Family_Ages['Dara'][0] = 35\n",
    "print(Family_Ages)"
   ]
  },
  {
   "cell_type": "code",
   "execution_count": null,
   "metadata": {},
   "outputs": [],
   "source": [
    "### 4. write a for loop that goes through all records in the dictionary, prints the family name and assigns the float numbers into one merged list (see ages)\n",
    "### `ages = [23.4, 22.9, 552.9]`\n",
    "\n",
    "ages = []\n",
    "for key, value in Family_Ages.items():\n",
    "    print(value[1])\n",
    "    ages.append(value[0])\n",
    "    \n",
    "print(ages)"
   ]
  },
  {
   "cell_type": "code",
   "execution_count": null,
   "metadata": {},
   "outputs": [],
   "source": [
    "### 5. Download your notebbok as a .py (regular python script) save it somewhere you know"
   ]
  },
  {
   "cell_type": "code",
   "execution_count": null,
   "metadata": {},
   "outputs": [],
   "source": [
    "### 6. Go to terminal, navigate to the folder where you have saved the script and execute it through the terminal\n",
    "### `use commandds: \n",
    "###  cd and \n",
    "###  python your_script.py`"
   ]
  },
  {
   "cell_type": "code",
   "execution_count": null,
   "metadata": {},
   "outputs": [],
   "source": [
    "### 6. Go to terminal, navigate to the folder where you have saved the script and execute it through the terminal\n",
    "### `use commandds: \n",
    "###  cd and \n",
    "###  python your_script.py`"
   ]
  },
  {
   "cell_type": "code",
   "execution_count": 1,
   "metadata": {},
   "outputs": [
    {
     "name": "stdout",
     "output_type": "stream",
     "text": [
      "{'Dara': [40.1, 'Duncan'], 'Mark': [44.5, 'Daniels'], 'Estel': [74.5, 'Daniels'], 'Marilyn': [64.5, 'Wilson'], 'Sebastian': [7.7, 'Daniels'], 'Elias': [9.7, 'Daniels']}\n",
      "{'Dara': [40.1, 'Duncan'], 'Estel': [74.5, 'Daniels'], 'Marilyn': [64.5, 'Wilson'], 'Sebastian': [7.7, 'Daniels'], 'Elias': [9.7, 'Daniels']}\n",
      "{'Dara': [35, 'Duncan'], 'Estel': [74.5, 'Daniels'], 'Marilyn': [64.5, 'Wilson'], 'Sebastian': [7.7, 'Daniels'], 'Elias': [9.7, 'Daniels']}\n",
      "Duncan\n",
      "Daniels\n",
      "Wilson\n",
      "Daniels\n",
      "Daniels\n",
      "[35, 74.5, 64.5, 7.7, 9.7]\n"
     ]
    },
    {
     "ename": "IndexError",
     "evalue": "list index out of range",
     "output_type": "error",
     "traceback": [
      "\u001b[0;31m---------------------------------------------------------------------------\u001b[0m",
      "\u001b[0;31mIndexError\u001b[0m                                Traceback (most recent call last)",
      "\u001b[0;32m<ipython-input-1-6f7a5cc82229>\u001b[0m in \u001b[0;36m<module>\u001b[0;34m()\u001b[0m\n\u001b[1;32m     69\u001b[0m \u001b[0mmean\u001b[0m \u001b[0;34m=\u001b[0m \u001b[0;36m0.0\u001b[0m\u001b[0;34m\u001b[0m\u001b[0m\n\u001b[1;32m     70\u001b[0m \u001b[0;32mfor\u001b[0m \u001b[0mi\u001b[0m \u001b[0;32min\u001b[0m \u001b[0mages\u001b[0m\u001b[0;34m:\u001b[0m\u001b[0;34m\u001b[0m\u001b[0m\n\u001b[0;32m---> 71\u001b[0;31m     \u001b[0mmean\u001b[0m \u001b[0;34m+=\u001b[0m \u001b[0;34m(\u001b[0m\u001b[0mages\u001b[0m\u001b[0;34m[\u001b[0m\u001b[0mi\u001b[0m\u001b[0;34m]\u001b[0m\u001b[0;34m)\u001b[0m\u001b[0;34m/\u001b[0m\u001b[0;34m(\u001b[0m\u001b[0mlen\u001b[0m\u001b[0;34m(\u001b[0m\u001b[0mages\u001b[0m\u001b[0;34m)\u001b[0m\u001b[0;34m)\u001b[0m\u001b[0;34m\u001b[0m\u001b[0m\n\u001b[0m\u001b[1;32m     72\u001b[0m \u001b[0;34m\u001b[0m\u001b[0m\n\u001b[1;32m     73\u001b[0m \u001b[0mprint\u001b[0m\u001b[0;34m(\u001b[0m\u001b[0mmean\u001b[0m\u001b[0;34m)\u001b[0m\u001b[0;34m\u001b[0m\u001b[0m\n",
      "\u001b[0;31mIndexError\u001b[0m: list index out of range"
     ]
    }
   ],
   "source": [
    "### [optional] Calculate with a for loop the median and mean of the ages list\n",
    "\n",
    "\n",
    "mean = 0.0\n",
    "for i in ages:\n",
    "    mean += (ages[i])/(len(ages))\n",
    "    \n",
    "print(mean)\n",
    "    "
   ]
  },
  {
   "cell_type": "code",
   "execution_count": null,
   "metadata": {},
   "outputs": [],
   "source": []
  }
 ],
 "metadata": {
  "kernelspec": {
   "display_name": "Python 3",
   "language": "python",
   "name": "python3"
  },
  "language_info": {
   "codemirror_mode": {
    "name": "ipython",
    "version": 3
   },
   "file_extension": ".py",
   "mimetype": "text/x-python",
   "name": "python",
   "nbconvert_exporter": "python",
   "pygments_lexer": "ipython3",
   "version": "3.6.6"
  }
 },
 "nbformat": 4,
 "nbformat_minor": 2
}
