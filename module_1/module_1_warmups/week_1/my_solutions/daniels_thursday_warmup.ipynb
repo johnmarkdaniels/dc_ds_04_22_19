{
 "cells": [
  {
   "cell_type": "code",
   "execution_count": 144,
   "metadata": {},
   "outputs": [
    {
     "ename": "SyntaxError",
     "evalue": "invalid syntax (<ipython-input-144-5714949f21f4>, line 1)",
     "output_type": "error",
     "traceback": [
      "\u001b[0;36m  File \u001b[0;32m\"<ipython-input-144-5714949f21f4>\"\u001b[0;36m, line \u001b[0;32m1\u001b[0m\n\u001b[0;31m    Discussion session\u001b[0m\n\u001b[0m                     ^\u001b[0m\n\u001b[0;31mSyntaxError\u001b[0m\u001b[0;31m:\u001b[0m invalid syntax\n"
     ]
    }
   ],
   "source": [
    "Discussion session\n",
    "1. How will you read the following data into a pandas data frame ? ftp://aftp.cmdl.noaa.gov/products/trends/co2/co2_mm_mlo.txt\n",
    "\n",
    "2. How would you pick columns 0,1,3 ?\n",
    "[[0, 1, 3]]\n",
    "\n",
    "3. Use a for loop to find all rows where Co2 (column 3) enteries with the value -99.99 (these are missing values) and replace them with NaN values (try using np.nan - do you know what it is? )\n",
    "\n",
    "4. Change names of columns to year, month, and CO2 (use colnames)\n",
    "\n",
    "5. Add a column 'Day' and specifiy the day 15 for all enteries\n",
    "\n",
    "6. Add a date column according to the 'year', 'month' and 'day' columns (options: use apply with lambda or for loop together with datetime.date (make sure to import it))\n",
    "\n",
    "7. Drop the 'Day' column\n",
    "\n",
    "8. use pandas groupby to print the yeaerly avg. of co2 per year.\n",
    "\n",
    "9. Pick columns that you think could be used to build a model and store them in numpy array (Answer why do we do that?)\n",
    "\n",
    "10. repeat step (3) but this time using the np.where command.\n",
    "\n",
    "11. Download the notebook as .py script and run it from your terminal.\n",
    "\n",
    "12. Create a branch in github repository called warm_up_draft\n",
    "\n",
    "13. push the notebook with the name CO2 to your new branch on github."
   ]
  },
  {
   "cell_type": "code",
   "execution_count": 146,
   "metadata": {},
   "outputs": [],
   "source": [
    "# Question 1\n",
    "\n",
    "import pandas as pd\n",
    "co2_data = pd.read_csv('co2_mm_mlo.csv', delim_whitespace=True, header=None)"
   ]
  },
  {
   "cell_type": "code",
   "execution_count": 147,
   "metadata": {},
   "outputs": [],
   "source": [
    "# Question 2\n",
    "\n",
    "#co2_data[[0,1,3]]"
   ]
  },
  {
   "cell_type": "code",
   "execution_count": 148,
   "metadata": {
    "scrolled": true
   },
   "outputs": [
    {
     "name": "stderr",
     "output_type": "stream",
     "text": [
      "/anaconda3/lib/python3.7/site-packages/ipykernel_launcher.py:7: SettingWithCopyWarning: \n",
      "A value is trying to be set on a copy of a slice from a DataFrame\n",
      "\n",
      "See the caveats in the documentation: http://pandas.pydata.org/pandas-docs/stable/indexing.html#indexing-view-versus-copy\n",
      "  import sys\n"
     ]
    }
   ],
   "source": [
    "# Question 3\n",
    "\n",
    "idx = range(len(co2_data[3]))\n",
    "\n",
    "for i in idx:\n",
    "    if co2_data[3][i] == -99.99:\n",
    "        co2_data[3][i] = 'NaN'"
   ]
  },
  {
   "cell_type": "code",
   "execution_count": 149,
   "metadata": {},
   "outputs": [],
   "source": [
    "# Question 4\n",
    "\n",
    "co2_data.columns = ['year', 'month', 'CO2', 'x', 'y', 'z', 'w']"
   ]
  },
  {
   "cell_type": "code",
   "execution_count": 150,
   "metadata": {},
   "outputs": [],
   "source": [
    "# Question 5\n",
    "\n",
    "#dayslist = list(('15,' * len(co2_data['w'])).split(','))\n",
    "#print(dayslist)\n",
    "e = 15\n",
    "\n",
    "co2_data['days'] = e\n",
    "#co2_data.head()"
   ]
  },
  {
   "cell_type": "code",
   "execution_count": 162,
   "metadata": {},
   "outputs": [
    {
     "data": {
      "text/html": [
       "<div>\n",
       "<style scoped>\n",
       "    .dataframe tbody tr th:only-of-type {\n",
       "        vertical-align: middle;\n",
       "    }\n",
       "\n",
       "    .dataframe tbody tr th {\n",
       "        vertical-align: top;\n",
       "    }\n",
       "\n",
       "    .dataframe thead th {\n",
       "        text-align: right;\n",
       "    }\n",
       "</style>\n",
       "<table border=\"1\" class=\"dataframe\">\n",
       "  <thead>\n",
       "    <tr style=\"text-align: right;\">\n",
       "      <th></th>\n",
       "      <th>year</th>\n",
       "      <th>month</th>\n",
       "      <th>CO2</th>\n",
       "      <th>x</th>\n",
       "      <th>y</th>\n",
       "      <th>z</th>\n",
       "      <th>w</th>\n",
       "      <th>days</th>\n",
       "      <th>date</th>\n",
       "    </tr>\n",
       "  </thead>\n",
       "  <tbody>\n",
       "    <tr>\n",
       "      <th>0</th>\n",
       "      <td>1958</td>\n",
       "      <td>3</td>\n",
       "      <td>1958.208</td>\n",
       "      <td>315.71</td>\n",
       "      <td>315.71</td>\n",
       "      <td>314.62</td>\n",
       "      <td>-1</td>\n",
       "      <td>15</td>\n",
       "      <td>1958-03-15</td>\n",
       "    </tr>\n",
       "    <tr>\n",
       "      <th>1</th>\n",
       "      <td>1958</td>\n",
       "      <td>4</td>\n",
       "      <td>1958.292</td>\n",
       "      <td>317.45</td>\n",
       "      <td>317.45</td>\n",
       "      <td>315.29</td>\n",
       "      <td>-1</td>\n",
       "      <td>15</td>\n",
       "      <td>1958-04-15</td>\n",
       "    </tr>\n",
       "    <tr>\n",
       "      <th>2</th>\n",
       "      <td>1958</td>\n",
       "      <td>5</td>\n",
       "      <td>1958.375</td>\n",
       "      <td>317.50</td>\n",
       "      <td>317.50</td>\n",
       "      <td>314.71</td>\n",
       "      <td>-1</td>\n",
       "      <td>15</td>\n",
       "      <td>1958-05-15</td>\n",
       "    </tr>\n",
       "    <tr>\n",
       "      <th>3</th>\n",
       "      <td>1958</td>\n",
       "      <td>6</td>\n",
       "      <td>1958.458</td>\n",
       "      <td>NaN</td>\n",
       "      <td>317.10</td>\n",
       "      <td>314.85</td>\n",
       "      <td>-1</td>\n",
       "      <td>15</td>\n",
       "      <td>1958-06-15</td>\n",
       "    </tr>\n",
       "    <tr>\n",
       "      <th>4</th>\n",
       "      <td>1958</td>\n",
       "      <td>7</td>\n",
       "      <td>1958.542</td>\n",
       "      <td>315.86</td>\n",
       "      <td>315.86</td>\n",
       "      <td>314.98</td>\n",
       "      <td>-1</td>\n",
       "      <td>15</td>\n",
       "      <td>1958-07-15</td>\n",
       "    </tr>\n",
       "  </tbody>\n",
       "</table>\n",
       "</div>"
      ],
      "text/plain": [
       "   year  month       CO2       x       y       z  w  days       date\n",
       "0  1958      3  1958.208  315.71  315.71  314.62 -1    15 1958-03-15\n",
       "1  1958      4  1958.292  317.45  317.45  315.29 -1    15 1958-04-15\n",
       "2  1958      5  1958.375  317.50  317.50  314.71 -1    15 1958-05-15\n",
       "3  1958      6  1958.458     NaN  317.10  314.85 -1    15 1958-06-15\n",
       "4  1958      7  1958.542  315.86  315.86  314.98 -1    15 1958-07-15"
      ]
     },
     "execution_count": 162,
     "metadata": {},
     "output_type": "execute_result"
    }
   ],
   "source": [
    "# Question 6 Add a date column according to the 'year', 'month' and 'day' columns (options: use apply with lambda or for loop together with datetime.date (make sure to import it))\n",
    "\n",
    "import datetime\n",
    "\n",
    "datelist = []\n",
    "for i in idx:\n",
    "    month = co2_data['month'][i]\n",
    "    #print(month)\n",
    "    year = co2_data['year'][i]\n",
    "    #print(year)\n",
    "    days = co2_data['days'][i]\n",
    "    #print(days)\n",
    "    datelist.append(datetime.datetime(year, month, days))\n",
    "\n",
    "co2_data['date'] = datelist\n",
    "    \n",
    "#co2_data.head()\n",
    "\n"
   ]
  },
  {
   "cell_type": "code",
   "execution_count": 164,
   "metadata": {},
   "outputs": [
    {
     "ename": "KeyError",
     "evalue": "'days'",
     "output_type": "error",
     "traceback": [
      "\u001b[0;31m---------------------------------------------------------------------------\u001b[0m",
      "\u001b[0;31mKeyError\u001b[0m                                  Traceback (most recent call last)",
      "\u001b[0;32m/anaconda3/lib/python3.7/site-packages/pandas/core/indexes/base.py\u001b[0m in \u001b[0;36mget_loc\u001b[0;34m(self, key, method, tolerance)\u001b[0m\n\u001b[1;32m   3077\u001b[0m             \u001b[0;32mtry\u001b[0m\u001b[0;34m:\u001b[0m\u001b[0;34m\u001b[0m\u001b[0;34m\u001b[0m\u001b[0m\n\u001b[0;32m-> 3078\u001b[0;31m                 \u001b[0;32mreturn\u001b[0m \u001b[0mself\u001b[0m\u001b[0;34m.\u001b[0m\u001b[0m_engine\u001b[0m\u001b[0;34m.\u001b[0m\u001b[0mget_loc\u001b[0m\u001b[0;34m(\u001b[0m\u001b[0mkey\u001b[0m\u001b[0;34m)\u001b[0m\u001b[0;34m\u001b[0m\u001b[0;34m\u001b[0m\u001b[0m\n\u001b[0m\u001b[1;32m   3079\u001b[0m             \u001b[0;32mexcept\u001b[0m \u001b[0mKeyError\u001b[0m\u001b[0;34m:\u001b[0m\u001b[0;34m\u001b[0m\u001b[0;34m\u001b[0m\u001b[0m\n",
      "\u001b[0;32mpandas/_libs/index.pyx\u001b[0m in \u001b[0;36mpandas._libs.index.IndexEngine.get_loc\u001b[0;34m()\u001b[0m\n",
      "\u001b[0;32mpandas/_libs/index.pyx\u001b[0m in \u001b[0;36mpandas._libs.index.IndexEngine.get_loc\u001b[0;34m()\u001b[0m\n",
      "\u001b[0;32mpandas/_libs/hashtable_class_helper.pxi\u001b[0m in \u001b[0;36mpandas._libs.hashtable.PyObjectHashTable.get_item\u001b[0;34m()\u001b[0m\n",
      "\u001b[0;32mpandas/_libs/hashtable_class_helper.pxi\u001b[0m in \u001b[0;36mpandas._libs.hashtable.PyObjectHashTable.get_item\u001b[0;34m()\u001b[0m\n",
      "\u001b[0;31mKeyError\u001b[0m: 'days'",
      "\nDuring handling of the above exception, another exception occurred:\n",
      "\u001b[0;31mKeyError\u001b[0m                                  Traceback (most recent call last)",
      "\u001b[0;32m<ipython-input-164-02fa0ce8fcf2>\u001b[0m in \u001b[0;36m<module>\u001b[0;34m\u001b[0m\n\u001b[1;32m      1\u001b[0m \u001b[0;31m# Question 7\u001b[0m\u001b[0;34m\u001b[0m\u001b[0;34m\u001b[0m\u001b[0;34m\u001b[0m\u001b[0m\n\u001b[0;32m----> 2\u001b[0;31m \u001b[0;32mdel\u001b[0m \u001b[0mco2_data\u001b[0m\u001b[0;34m[\u001b[0m\u001b[0;34m'days'\u001b[0m\u001b[0;34m]\u001b[0m\u001b[0;34m\u001b[0m\u001b[0;34m\u001b[0m\u001b[0m\n\u001b[0m\u001b[1;32m      3\u001b[0m \u001b[0;34m\u001b[0m\u001b[0m\n\u001b[1;32m      4\u001b[0m \u001b[0mco2_data\u001b[0m\u001b[0;34m.\u001b[0m\u001b[0mhead\u001b[0m\u001b[0;34m(\u001b[0m\u001b[0;34m)\u001b[0m\u001b[0;34m\u001b[0m\u001b[0;34m\u001b[0m\u001b[0m\n",
      "\u001b[0;32m/anaconda3/lib/python3.7/site-packages/pandas/core/generic.py\u001b[0m in \u001b[0;36m__delitem__\u001b[0;34m(self, key)\u001b[0m\n\u001b[1;32m   2741\u001b[0m             \u001b[0;31m# there was no match, this call should raise the appropriate\u001b[0m\u001b[0;34m\u001b[0m\u001b[0;34m\u001b[0m\u001b[0;34m\u001b[0m\u001b[0m\n\u001b[1;32m   2742\u001b[0m             \u001b[0;31m# exception:\u001b[0m\u001b[0;34m\u001b[0m\u001b[0;34m\u001b[0m\u001b[0;34m\u001b[0m\u001b[0m\n\u001b[0;32m-> 2743\u001b[0;31m             \u001b[0mself\u001b[0m\u001b[0;34m.\u001b[0m\u001b[0m_data\u001b[0m\u001b[0;34m.\u001b[0m\u001b[0mdelete\u001b[0m\u001b[0;34m(\u001b[0m\u001b[0mkey\u001b[0m\u001b[0;34m)\u001b[0m\u001b[0;34m\u001b[0m\u001b[0;34m\u001b[0m\u001b[0m\n\u001b[0m\u001b[1;32m   2744\u001b[0m \u001b[0;34m\u001b[0m\u001b[0m\n\u001b[1;32m   2745\u001b[0m         \u001b[0;31m# delete from the caches\u001b[0m\u001b[0;34m\u001b[0m\u001b[0;34m\u001b[0m\u001b[0;34m\u001b[0m\u001b[0m\n",
      "\u001b[0;32m/anaconda3/lib/python3.7/site-packages/pandas/core/internals.py\u001b[0m in \u001b[0;36mdelete\u001b[0;34m(self, item)\u001b[0m\n\u001b[1;32m   4172\u001b[0m         \u001b[0mDelete\u001b[0m \u001b[0mselected\u001b[0m \u001b[0mitem\u001b[0m \u001b[0;34m(\u001b[0m\u001b[0mitems\u001b[0m \u001b[0;32mif\u001b[0m \u001b[0mnon\u001b[0m\u001b[0;34m-\u001b[0m\u001b[0munique\u001b[0m\u001b[0;34m)\u001b[0m \u001b[0;32min\u001b[0m\u001b[0;34m-\u001b[0m\u001b[0mplace\u001b[0m\u001b[0;34m.\u001b[0m\u001b[0;34m\u001b[0m\u001b[0;34m\u001b[0m\u001b[0m\n\u001b[1;32m   4173\u001b[0m         \"\"\"\n\u001b[0;32m-> 4174\u001b[0;31m         \u001b[0mindexer\u001b[0m \u001b[0;34m=\u001b[0m \u001b[0mself\u001b[0m\u001b[0;34m.\u001b[0m\u001b[0mitems\u001b[0m\u001b[0;34m.\u001b[0m\u001b[0mget_loc\u001b[0m\u001b[0;34m(\u001b[0m\u001b[0mitem\u001b[0m\u001b[0;34m)\u001b[0m\u001b[0;34m\u001b[0m\u001b[0;34m\u001b[0m\u001b[0m\n\u001b[0m\u001b[1;32m   4175\u001b[0m \u001b[0;34m\u001b[0m\u001b[0m\n\u001b[1;32m   4176\u001b[0m         \u001b[0mis_deleted\u001b[0m \u001b[0;34m=\u001b[0m \u001b[0mnp\u001b[0m\u001b[0;34m.\u001b[0m\u001b[0mzeros\u001b[0m\u001b[0;34m(\u001b[0m\u001b[0mself\u001b[0m\u001b[0;34m.\u001b[0m\u001b[0mshape\u001b[0m\u001b[0;34m[\u001b[0m\u001b[0;36m0\u001b[0m\u001b[0;34m]\u001b[0m\u001b[0;34m,\u001b[0m \u001b[0mdtype\u001b[0m\u001b[0;34m=\u001b[0m\u001b[0mnp\u001b[0m\u001b[0;34m.\u001b[0m\u001b[0mbool_\u001b[0m\u001b[0;34m)\u001b[0m\u001b[0;34m\u001b[0m\u001b[0;34m\u001b[0m\u001b[0m\n",
      "\u001b[0;32m/anaconda3/lib/python3.7/site-packages/pandas/core/indexes/base.py\u001b[0m in \u001b[0;36mget_loc\u001b[0;34m(self, key, method, tolerance)\u001b[0m\n\u001b[1;32m   3078\u001b[0m                 \u001b[0;32mreturn\u001b[0m \u001b[0mself\u001b[0m\u001b[0;34m.\u001b[0m\u001b[0m_engine\u001b[0m\u001b[0;34m.\u001b[0m\u001b[0mget_loc\u001b[0m\u001b[0;34m(\u001b[0m\u001b[0mkey\u001b[0m\u001b[0;34m)\u001b[0m\u001b[0;34m\u001b[0m\u001b[0;34m\u001b[0m\u001b[0m\n\u001b[1;32m   3079\u001b[0m             \u001b[0;32mexcept\u001b[0m \u001b[0mKeyError\u001b[0m\u001b[0;34m:\u001b[0m\u001b[0;34m\u001b[0m\u001b[0;34m\u001b[0m\u001b[0m\n\u001b[0;32m-> 3080\u001b[0;31m                 \u001b[0;32mreturn\u001b[0m \u001b[0mself\u001b[0m\u001b[0;34m.\u001b[0m\u001b[0m_engine\u001b[0m\u001b[0;34m.\u001b[0m\u001b[0mget_loc\u001b[0m\u001b[0;34m(\u001b[0m\u001b[0mself\u001b[0m\u001b[0;34m.\u001b[0m\u001b[0m_maybe_cast_indexer\u001b[0m\u001b[0;34m(\u001b[0m\u001b[0mkey\u001b[0m\u001b[0;34m)\u001b[0m\u001b[0;34m)\u001b[0m\u001b[0;34m\u001b[0m\u001b[0;34m\u001b[0m\u001b[0m\n\u001b[0m\u001b[1;32m   3081\u001b[0m \u001b[0;34m\u001b[0m\u001b[0m\n\u001b[1;32m   3082\u001b[0m         \u001b[0mindexer\u001b[0m \u001b[0;34m=\u001b[0m \u001b[0mself\u001b[0m\u001b[0;34m.\u001b[0m\u001b[0mget_indexer\u001b[0m\u001b[0;34m(\u001b[0m\u001b[0;34m[\u001b[0m\u001b[0mkey\u001b[0m\u001b[0;34m]\u001b[0m\u001b[0;34m,\u001b[0m \u001b[0mmethod\u001b[0m\u001b[0;34m=\u001b[0m\u001b[0mmethod\u001b[0m\u001b[0;34m,\u001b[0m \u001b[0mtolerance\u001b[0m\u001b[0;34m=\u001b[0m\u001b[0mtolerance\u001b[0m\u001b[0;34m)\u001b[0m\u001b[0;34m\u001b[0m\u001b[0;34m\u001b[0m\u001b[0m\n",
      "\u001b[0;32mpandas/_libs/index.pyx\u001b[0m in \u001b[0;36mpandas._libs.index.IndexEngine.get_loc\u001b[0;34m()\u001b[0m\n",
      "\u001b[0;32mpandas/_libs/index.pyx\u001b[0m in \u001b[0;36mpandas._libs.index.IndexEngine.get_loc\u001b[0;34m()\u001b[0m\n",
      "\u001b[0;32mpandas/_libs/hashtable_class_helper.pxi\u001b[0m in \u001b[0;36mpandas._libs.hashtable.PyObjectHashTable.get_item\u001b[0;34m()\u001b[0m\n",
      "\u001b[0;32mpandas/_libs/hashtable_class_helper.pxi\u001b[0m in \u001b[0;36mpandas._libs.hashtable.PyObjectHashTable.get_item\u001b[0;34m()\u001b[0m\n",
      "\u001b[0;31mKeyError\u001b[0m: 'days'"
     ]
    }
   ],
   "source": [
    "# Question 7\n",
    "del co2_data['days']"
   ]
  },
  {
   "cell_type": "code",
   "execution_count": 182,
   "metadata": {},
   "outputs": [
    {
     "data": {
      "text/plain": [
       "year\n",
       "1958    1958.5833\n",
       "1959    1959.5000\n",
       "1960    1960.5000\n",
       "1961    1961.5000\n",
       "1962    1962.5000\n",
       "1963    1963.5000\n",
       "1964    1964.5000\n",
       "1965    1965.5000\n",
       "1966    1966.5000\n",
       "1967    1967.5000\n",
       "1968    1968.5000\n",
       "1969    1969.5000\n",
       "1970    1970.5000\n",
       "1971    1971.5000\n",
       "1972    1972.5000\n",
       "1973    1973.5000\n",
       "1974    1974.5000\n",
       "1975    1975.5000\n",
       "1976    1976.5000\n",
       "1977    1977.5000\n",
       "1978    1978.5000\n",
       "1979    1979.5000\n",
       "1980    1980.5000\n",
       "1981    1981.5000\n",
       "1982    1982.5000\n",
       "1983    1983.5000\n",
       "1984    1984.5000\n",
       "1985    1985.5000\n",
       "1986    1986.5000\n",
       "1987    1987.5000\n",
       "          ...    \n",
       "1990    1990.5000\n",
       "1991    1991.5000\n",
       "1992    1992.5000\n",
       "1993    1993.5000\n",
       "1994    1994.5000\n",
       "1995    1995.5000\n",
       "1996    1996.5000\n",
       "1997    1997.5000\n",
       "1998    1998.5000\n",
       "1999    1999.5000\n",
       "2000    2000.5000\n",
       "2001    2001.5000\n",
       "2002    2002.5000\n",
       "2003    2003.5000\n",
       "2004    2004.5000\n",
       "2005    2005.5000\n",
       "2006    2006.5000\n",
       "2007    2007.5000\n",
       "2008    2008.5000\n",
       "2009    2009.5000\n",
       "2010    2010.5000\n",
       "2011    2011.5000\n",
       "2012    2012.5000\n",
       "2013    2013.5000\n",
       "2014    2014.5000\n",
       "2015    2015.5000\n",
       "2016    2016.5000\n",
       "2017    2017.5000\n",
       "2018    2018.5000\n",
       "2019    2019.0835\n",
       "Name: CO2, Length: 62, dtype: float64"
      ]
     },
     "execution_count": 182,
     "metadata": {},
     "output_type": "execute_result"
    }
   ],
   "source": [
    "# Question 8\n",
    "co2_data.groupby('year').CO2.mean()\n",
    "#co2_data.head()\n"
   ]
  },
  {
   "cell_type": "code",
   "execution_count": 180,
   "metadata": {},
   "outputs": [
    {
     "data": {
      "text/plain": [
       "array([1958.208, 1958.292, 1958.375, 1958.458, 1958.542, 1958.625,\n",
       "       1958.708, 1958.792, 1958.875, 1958.958, 1959.042, 1959.125,\n",
       "       1959.208, 1959.292, 1959.375, 1959.458, 1959.542, 1959.625,\n",
       "       1959.708, 1959.792, 1959.875, 1959.958, 1960.042, 1960.125,\n",
       "       1960.208, 1960.292, 1960.375, 1960.458, 1960.542, 1960.625,\n",
       "       1960.708, 1960.792, 1960.875, 1960.958, 1961.042, 1961.125,\n",
       "       1961.208, 1961.292, 1961.375, 1961.458, 1961.542, 1961.625,\n",
       "       1961.708, 1961.792, 1961.875, 1961.958, 1962.042, 1962.125,\n",
       "       1962.208, 1962.292, 1962.375, 1962.458, 1962.542, 1962.625,\n",
       "       1962.708, 1962.792, 1962.875, 1962.958, 1963.042, 1963.125,\n",
       "       1963.208, 1963.292, 1963.375, 1963.458, 1963.542, 1963.625,\n",
       "       1963.708, 1963.792, 1963.875, 1963.958, 1964.042, 1964.125,\n",
       "       1964.208, 1964.292, 1964.375, 1964.458, 1964.542, 1964.625,\n",
       "       1964.708, 1964.792, 1964.875, 1964.958, 1965.042, 1965.125,\n",
       "       1965.208, 1965.292, 1965.375, 1965.458, 1965.542, 1965.625,\n",
       "       1965.708, 1965.792, 1965.875, 1965.958, 1966.042, 1966.125,\n",
       "       1966.208, 1966.292, 1966.375, 1966.458, 1966.542, 1966.625,\n",
       "       1966.708, 1966.792, 1966.875, 1966.958, 1967.042, 1967.125,\n",
       "       1967.208, 1967.292, 1967.375, 1967.458, 1967.542, 1967.625,\n",
       "       1967.708, 1967.792, 1967.875, 1967.958, 1968.042, 1968.125,\n",
       "       1968.208, 1968.292, 1968.375, 1968.458, 1968.542, 1968.625,\n",
       "       1968.708, 1968.792, 1968.875, 1968.958, 1969.042, 1969.125,\n",
       "       1969.208, 1969.292, 1969.375, 1969.458, 1969.542, 1969.625,\n",
       "       1969.708, 1969.792, 1969.875, 1969.958, 1970.042, 1970.125,\n",
       "       1970.208, 1970.292, 1970.375, 1970.458, 1970.542, 1970.625,\n",
       "       1970.708, 1970.792, 1970.875, 1970.958, 1971.042, 1971.125,\n",
       "       1971.208, 1971.292, 1971.375, 1971.458, 1971.542, 1971.625,\n",
       "       1971.708, 1971.792, 1971.875, 1971.958, 1972.042, 1972.125,\n",
       "       1972.208, 1972.292, 1972.375, 1972.458, 1972.542, 1972.625,\n",
       "       1972.708, 1972.792, 1972.875, 1972.958, 1973.042, 1973.125,\n",
       "       1973.208, 1973.292, 1973.375, 1973.458, 1973.542, 1973.625,\n",
       "       1973.708, 1973.792, 1973.875, 1973.958, 1974.042, 1974.125,\n",
       "       1974.208, 1974.292, 1974.375, 1974.458, 1974.542, 1974.625,\n",
       "       1974.708, 1974.792, 1974.875, 1974.958, 1975.042, 1975.125,\n",
       "       1975.208, 1975.292, 1975.375, 1975.458, 1975.542, 1975.625,\n",
       "       1975.708, 1975.792, 1975.875, 1975.958, 1976.042, 1976.125,\n",
       "       1976.208, 1976.292, 1976.375, 1976.458, 1976.542, 1976.625,\n",
       "       1976.708, 1976.792, 1976.875, 1976.958, 1977.042, 1977.125,\n",
       "       1977.208, 1977.292, 1977.375, 1977.458, 1977.542, 1977.625,\n",
       "       1977.708, 1977.792, 1977.875, 1977.958, 1978.042, 1978.125,\n",
       "       1978.208, 1978.292, 1978.375, 1978.458, 1978.542, 1978.625,\n",
       "       1978.708, 1978.792, 1978.875, 1978.958, 1979.042, 1979.125,\n",
       "       1979.208, 1979.292, 1979.375, 1979.458, 1979.542, 1979.625,\n",
       "       1979.708, 1979.792, 1979.875, 1979.958, 1980.042, 1980.125,\n",
       "       1980.208, 1980.292, 1980.375, 1980.458, 1980.542, 1980.625,\n",
       "       1980.708, 1980.792, 1980.875, 1980.958, 1981.042, 1981.125,\n",
       "       1981.208, 1981.292, 1981.375, 1981.458, 1981.542, 1981.625,\n",
       "       1981.708, 1981.792, 1981.875, 1981.958, 1982.042, 1982.125,\n",
       "       1982.208, 1982.292, 1982.375, 1982.458, 1982.542, 1982.625,\n",
       "       1982.708, 1982.792, 1982.875, 1982.958, 1983.042, 1983.125,\n",
       "       1983.208, 1983.292, 1983.375, 1983.458, 1983.542, 1983.625,\n",
       "       1983.708, 1983.792, 1983.875, 1983.958, 1984.042, 1984.125,\n",
       "       1984.208, 1984.292, 1984.375, 1984.458, 1984.542, 1984.625,\n",
       "       1984.708, 1984.792, 1984.875, 1984.958, 1985.042, 1985.125,\n",
       "       1985.208, 1985.292, 1985.375, 1985.458, 1985.542, 1985.625,\n",
       "       1985.708, 1985.792, 1985.875, 1985.958, 1986.042, 1986.125,\n",
       "       1986.208, 1986.292, 1986.375, 1986.458, 1986.542, 1986.625,\n",
       "       1986.708, 1986.792, 1986.875, 1986.958, 1987.042, 1987.125,\n",
       "       1987.208, 1987.292, 1987.375, 1987.458, 1987.542, 1987.625,\n",
       "       1987.708, 1987.792, 1987.875, 1987.958, 1988.042, 1988.125,\n",
       "       1988.208, 1988.292, 1988.375, 1988.458, 1988.542, 1988.625,\n",
       "       1988.708, 1988.792, 1988.875, 1988.958, 1989.042, 1989.125,\n",
       "       1989.208, 1989.292, 1989.375, 1989.458, 1989.542, 1989.625,\n",
       "       1989.708, 1989.792, 1989.875, 1989.958, 1990.042, 1990.125,\n",
       "       1990.208, 1990.292, 1990.375, 1990.458, 1990.542, 1990.625,\n",
       "       1990.708, 1990.792, 1990.875, 1990.958, 1991.042, 1991.125,\n",
       "       1991.208, 1991.292, 1991.375, 1991.458, 1991.542, 1991.625,\n",
       "       1991.708, 1991.792, 1991.875, 1991.958, 1992.042, 1992.125,\n",
       "       1992.208, 1992.292, 1992.375, 1992.458, 1992.542, 1992.625,\n",
       "       1992.708, 1992.792, 1992.875, 1992.958, 1993.042, 1993.125,\n",
       "       1993.208, 1993.292, 1993.375, 1993.458, 1993.542, 1993.625,\n",
       "       1993.708, 1993.792, 1993.875, 1993.958, 1994.042, 1994.125,\n",
       "       1994.208, 1994.292, 1994.375, 1994.458, 1994.542, 1994.625,\n",
       "       1994.708, 1994.792, 1994.875, 1994.958, 1995.042, 1995.125,\n",
       "       1995.208, 1995.292, 1995.375, 1995.458, 1995.542, 1995.625,\n",
       "       1995.708, 1995.792, 1995.875, 1995.958, 1996.042, 1996.125,\n",
       "       1996.208, 1996.292, 1996.375, 1996.458, 1996.542, 1996.625,\n",
       "       1996.708, 1996.792, 1996.875, 1996.958, 1997.042, 1997.125,\n",
       "       1997.208, 1997.292, 1997.375, 1997.458, 1997.542, 1997.625,\n",
       "       1997.708, 1997.792, 1997.875, 1997.958, 1998.042, 1998.125,\n",
       "       1998.208, 1998.292, 1998.375, 1998.458, 1998.542, 1998.625,\n",
       "       1998.708, 1998.792, 1998.875, 1998.958, 1999.042, 1999.125,\n",
       "       1999.208, 1999.292, 1999.375, 1999.458, 1999.542, 1999.625,\n",
       "       1999.708, 1999.792, 1999.875, 1999.958, 2000.042, 2000.125,\n",
       "       2000.208, 2000.292, 2000.375, 2000.458, 2000.542, 2000.625,\n",
       "       2000.708, 2000.792, 2000.875, 2000.958, 2001.042, 2001.125,\n",
       "       2001.208, 2001.292, 2001.375, 2001.458, 2001.542, 2001.625,\n",
       "       2001.708, 2001.792, 2001.875, 2001.958, 2002.042, 2002.125,\n",
       "       2002.208, 2002.292, 2002.375, 2002.458, 2002.542, 2002.625,\n",
       "       2002.708, 2002.792, 2002.875, 2002.958, 2003.042, 2003.125,\n",
       "       2003.208, 2003.292, 2003.375, 2003.458, 2003.542, 2003.625,\n",
       "       2003.708, 2003.792, 2003.875, 2003.958, 2004.042, 2004.125,\n",
       "       2004.208, 2004.292, 2004.375, 2004.458, 2004.542, 2004.625,\n",
       "       2004.708, 2004.792, 2004.875, 2004.958, 2005.042, 2005.125,\n",
       "       2005.208, 2005.292, 2005.375, 2005.458, 2005.542, 2005.625,\n",
       "       2005.708, 2005.792, 2005.875, 2005.958, 2006.042, 2006.125,\n",
       "       2006.208, 2006.292, 2006.375, 2006.458, 2006.542, 2006.625,\n",
       "       2006.708, 2006.792, 2006.875, 2006.958, 2007.042, 2007.125,\n",
       "       2007.208, 2007.292, 2007.375, 2007.458, 2007.542, 2007.625,\n",
       "       2007.708, 2007.792, 2007.875, 2007.958, 2008.042, 2008.125,\n",
       "       2008.208, 2008.292, 2008.375, 2008.458, 2008.542, 2008.625,\n",
       "       2008.708, 2008.792, 2008.875, 2008.958, 2009.042, 2009.125,\n",
       "       2009.208, 2009.292, 2009.375, 2009.458, 2009.542, 2009.625,\n",
       "       2009.708, 2009.792, 2009.875, 2009.958, 2010.042, 2010.125,\n",
       "       2010.208, 2010.292, 2010.375, 2010.458, 2010.542, 2010.625,\n",
       "       2010.708, 2010.792, 2010.875, 2010.958, 2011.042, 2011.125,\n",
       "       2011.208, 2011.292, 2011.375, 2011.458, 2011.542, 2011.625,\n",
       "       2011.708, 2011.792, 2011.875, 2011.958, 2012.042, 2012.125,\n",
       "       2012.208, 2012.292, 2012.375, 2012.458, 2012.542, 2012.625,\n",
       "       2012.708, 2012.792, 2012.875, 2012.958, 2013.042, 2013.125,\n",
       "       2013.208, 2013.292, 2013.375, 2013.458, 2013.542, 2013.625,\n",
       "       2013.708, 2013.792, 2013.875, 2013.958, 2014.042, 2014.125,\n",
       "       2014.208, 2014.292, 2014.375, 2014.458, 2014.542, 2014.625,\n",
       "       2014.708, 2014.792, 2014.875, 2014.958, 2015.042, 2015.125,\n",
       "       2015.208, 2015.292, 2015.375, 2015.458, 2015.542, 2015.625,\n",
       "       2015.708, 2015.792, 2015.875, 2015.958, 2016.042, 2016.125,\n",
       "       2016.208, 2016.292, 2016.375, 2016.458, 2016.542, 2016.625,\n",
       "       2016.708, 2016.792, 2016.875, 2016.958, 2017.042, 2017.125,\n",
       "       2017.208, 2017.292, 2017.375, 2017.458, 2017.542, 2017.625,\n",
       "       2017.708, 2017.792, 2017.875, 2017.958, 2018.042, 2018.125,\n",
       "       2018.208, 2018.292, 2018.375, 2018.458, 2018.542, 2018.625,\n",
       "       2018.708, 2018.792, 2018.875, 2018.958, 2019.042, 2019.125])"
      ]
     },
     "execution_count": 180,
     "metadata": {},
     "output_type": "execute_result"
    }
   ],
   "source": [
    "# Question 9 Pick columns that you think could be used to build a model and store them in numpy array (Answer why do we do that?)\n",
    "import numpy as np\n",
    "\n",
    "# We could use CO2 and date to build a very simple linear regression model.\n",
    "\n",
    "co2_array = np.asarray(co2_data['CO2'])\n",
    "co2_array"
   ]
  },
  {
   "cell_type": "code",
   "execution_count": 187,
   "metadata": {},
   "outputs": [
    {
     "name": "stdout",
     "output_type": "stream",
     "text": [
      "(array([  3,   7,  71,  72,  73, 213, 313]),)\n"
     ]
    }
   ],
   "source": [
    "# Question 10\n",
    "import numpy as np\n",
    "npmethod = pd.read_csv('co2_mm_mlo.csv', delim_whitespace=True, header=None)\n",
    "c_array=np.asarray(npmethod[3])\n",
    "\n",
    "result = np.where(c_array == -99.99)\n",
    "print(result)\n",
    "\n",
    "\n"
   ]
  },
  {
   "cell_type": "code",
   "execution_count": null,
   "metadata": {},
   "outputs": [],
   "source": [
    "# 11. Download the notebook as .py script and run it from your terminal.\n"
   ]
  },
  {
   "cell_type": "code",
   "execution_count": null,
   "metadata": {},
   "outputs": [],
   "source": [
    "# 12. Create a branch in github repository called warm_up_draft\n"
   ]
  },
  {
   "cell_type": "code",
   "execution_count": null,
   "metadata": {},
   "outputs": [],
   "source": [
    "# 13. push the notebook with the name CO2 to your new branch on github."
   ]
  }
 ],
 "metadata": {
  "kernelspec": {
   "display_name": "Python 3",
   "language": "python",
   "name": "python3"
  },
  "language_info": {
   "codemirror_mode": {
    "name": "ipython",
    "version": 3
   },
   "file_extension": ".py",
   "mimetype": "text/x-python",
   "name": "python",
   "nbconvert_exporter": "python",
   "pygments_lexer": "ipython3",
   "version": "3.7.1"
  }
 },
 "nbformat": 4,
 "nbformat_minor": 2
}
