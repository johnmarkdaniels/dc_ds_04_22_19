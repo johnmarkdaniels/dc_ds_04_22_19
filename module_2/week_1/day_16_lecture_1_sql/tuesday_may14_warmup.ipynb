{
 "cells": [
  {
   "cell_type": "code",
   "execution_count": 1,
   "metadata": {},
   "outputs": [],
   "source": [
    "### import \n",
    "\n",
    "import statsmodels\n",
    "import numpy as np\n",
    "import matplotlib.pylab as plt"
   ]
  },
  {
   "cell_type": "code",
   "execution_count": 5,
   "metadata": {},
   "outputs": [
    {
     "data": {
      "text/plain": [
       "array([[1., 1., 1., ..., 1., 1., 1.],\n",
       "       [1., 1., 1., ..., 1., 1., 1.],\n",
       "       [1., 1., 1., ..., 1., 1., 1.],\n",
       "       ...,\n",
       "       [1., 1., 1., ..., 1., 1., 1.],\n",
       "       [1., 1., 1., ..., 1., 1., 1.],\n",
       "       [1., 1., 1., ..., 1., 1., 1.]])"
      ]
     },
     "execution_count": 5,
     "metadata": {},
     "output_type": "execute_result"
    }
   ],
   "source": [
    "### 1. create a matrix (numpy array) of ones sized (100 X 50) \n",
    "y = np.ones([100,50])\n",
    "y.shape\n",
    "# use .shape to check your matrix"
   ]
  },
  {
   "cell_type": "code",
   "execution_count": 8,
   "metadata": {},
   "outputs": [
    {
     "data": {
      "text/plain": [
       "(100, 50)"
      ]
     },
     "execution_count": 8,
     "metadata": {},
     "output_type": "execute_result"
    }
   ],
   "source": [
    "### 2. create a matrix of zeros the same size as the matrix from (1)\n",
    "z = np.zeros([100,50])\n",
    "z.shape"
   ]
  },
  {
   "cell_type": "code",
   "execution_count": null,
   "metadata": {},
   "outputs": [],
   "source": [
    "### 3. create a new matrix that will be the concatenation of (1 & 2) --> matrix sized (200, 50)"
   ]
  },
  {
   "cell_type": "code",
   "execution_count": 7,
   "metadata": {},
   "outputs": [
    {
     "data": {
      "text/plain": [
       "(100, 50)"
      ]
     },
     "execution_count": 7,
     "metadata": {},
     "output_type": "execute_result"
    }
   ],
   "source": [
    "### 4. Add the two matrices (from 1 & 2) to get one matrix (100 X 50) --> check yourself (do all enteries show 1?)\n",
    "\n",
    "### 5. Use the function we have created few warm-ups ago to create two matrices 20X40 from multivariate normal distribution\n",
    "\n",
    "### 6. let's try to make two operations: \n",
    "    # - matrix multiplication (first test it on a 2X2 matrices)\n",
    "    # - element wise multiplication \n",
    "### 7. let's create again the linear equations Y = XW + noise\n",
    "##### Noise should come from univariate normal distribution with mean 0 and variance 0.1 \n",
    "\n",
    "\n",
    "### 8. Can you calculate the weight (coeficients) matrix? Do it.\n",
    "### Write down the equation of the multiple regression model\n",
    "\n",
    "\n",
    "### 9. Create a function that calculates the mean squared error \n",
    "\n",
    "### 10. Plot the errors to check for normality\n",
    "\n",
    "### 11. Plot scatter plots of the independent variables against the target value to check for violations of the constant variance assumption for errors \n",
    "\n",
    "### 12. Calculate R squared (you can use statsmodels)"
   ]
  },
  {
   "cell_type": "code",
   "execution_count": null,
   "metadata": {},
   "outputs": [],
   "source": []
  }
 ],
 "metadata": {
  "kernelspec": {
   "display_name": "Python 3",
   "language": "python",
   "name": "python3"
  },
  "language_info": {
   "codemirror_mode": {
    "name": "ipython",
    "version": 3
   },
   "file_extension": ".py",
   "mimetype": "text/x-python",
   "name": "python",
   "nbconvert_exporter": "python",
   "pygments_lexer": "ipython3",
   "version": "3.7.1"
  },
  "toc": {
   "base_numbering": 1,
   "nav_menu": {},
   "number_sections": true,
   "sideBar": true,
   "skip_h1_title": false,
   "title_cell": "Table of Contents",
   "title_sidebar": "Contents",
   "toc_cell": false,
   "toc_position": {},
   "toc_section_display": true,
   "toc_window_display": false
  },
  "varInspector": {
   "cols": {
    "lenName": 16,
    "lenType": 16,
    "lenVar": 40
   },
   "kernels_config": {
    "python": {
     "delete_cmd_postfix": "",
     "delete_cmd_prefix": "del ",
     "library": "var_list.py",
     "varRefreshCmd": "print(var_dic_list())"
    },
    "r": {
     "delete_cmd_postfix": ") ",
     "delete_cmd_prefix": "rm(",
     "library": "var_list.r",
     "varRefreshCmd": "cat(var_dic_list()) "
    }
   },
   "types_to_exclude": [
    "module",
    "function",
    "builtin_function_or_method",
    "instance",
    "_Feature"
   ],
   "window_display": false
  }
 },
 "nbformat": 4,
 "nbformat_minor": 2
}
