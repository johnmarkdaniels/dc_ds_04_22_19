{
 "cells": [
  {
   "cell_type": "markdown",
   "metadata": {
    "slideshow": {
     "slide_type": "slide"
    }
   },
   "source": [
    "![sql](img/sql-logo.jpg)\n",
    "\n",
    "# A beginner's guide to databases, SQL, & using them with `pandas`"
   ]
  },
  {
   "cell_type": "markdown",
   "metadata": {
    "slideshow": {
     "slide_type": "slide"
    }
   },
   "source": [
    "**Scenario:** You are a data analyst for the Homeland Security, trying to create reports on the active airports world wide. The data you need to access is in a SQL database. YOu need to be able to query for the data in a database!"
   ]
  },
  {
   "cell_type": "markdown",
   "metadata": {
    "slideshow": {
     "slide_type": "slide"
    }
   },
   "source": [
    "## Learning goals:\n",
    "- Goal 1: Summarize the use case for sql in the data science skill set\n",
    "- Goal 2: Define key sql terminology\n",
    "- Goal 3: Get information about DB schema and table structure\n",
    "- Goal 4: Use basic SQL commands:\n",
    "    - Construct SQL queries\n",
    "    - Use JOIN to merge tables along logical columns\n",
    "    - Grouping Data with SQL\n",
    "- Goal 5: Query data from pandas dataframes using SQL\n",
    "- Goal 6: Convert SQL to pandas"
   ]
  },
  {
   "cell_type": "markdown",
   "metadata": {
    "slideshow": {
     "slide_type": "slide"
    }
   },
   "source": [
    "## Goal 1: Summarize\n",
    "\n",
    "[Netflix has a great article](https://medium.com/netflix-techblog/notebook-innovation-591ee3221233) describing three different data roles at their company, their different needs, and their toolsets.\n",
    "\n",
    "![netflix](img/netflix-data-roles.jpeg)\n",
    "\n",
    "Examining that graphic, SQL shows up as one of the tools of the _Data Engineer_ "
   ]
  },
  {
   "cell_type": "markdown",
   "metadata": {
    "slideshow": {
     "slide_type": "slide"
    }
   },
   "source": [
    "Data Engineers provide the essential data architecture services that make data science possible.\n",
    "\n",
    "![hierarchy](img/ai-hierachy.png)\n",
    "\n",
    "[Source: Monica Rogati’s fantastic Medium post “The AI Hierarchy of Needs”\n",
    "](https://hackernoon.com/the-ai-hierarchy-of-needs-18f111fcc007)"
   ]
  },
  {
   "cell_type": "markdown",
   "metadata": {
    "slideshow": {
     "slide_type": "slide"
    }
   },
   "source": [
    "![etl](img/etl.png)\n",
    "\n",
    "[img source: Jeff Hammerbacher’s slide from UC Berkeley CS 194 course ](https://bcourses.berkeley.edu/courses/1377158/pages/cs-194-16-introduction-to-data-science-fall-2015)"
   ]
  },
  {
   "cell_type": "markdown",
   "metadata": {
    "slideshow": {
     "slide_type": "slide"
    }
   },
   "source": [
    "### What is a Relational Database? \n",
    "\n",
    "![rdb](img/relational-dbms-model.png)\n",
    "[reference for image ](https://www.studytonight.com/dbms/database-model.php)"
   ]
  },
  {
   "cell_type": "markdown",
   "metadata": {
    "slideshow": {
     "slide_type": "slide"
    }
   },
   "source": [
    "### POPULAR RDBMS\n",
    "\n",
    "- SQLite\n",
    "- MySQL\n",
    "- PostgreSql\n",
    "- Oracle DB\n",
    "- SQL Server"
   ]
  },
  {
   "cell_type": "markdown",
   "metadata": {
    "slideshow": {
     "slide_type": "slide"
    }
   },
   "source": [
    "***\n",
    "## Goal 2: Database terminology\n",
    "\n",
    "### Relational Database Schema\n",
    "\n",
    "![schema](img/MySQL_Schema_Music_Example.png)\n",
    "\n",
    "[source of image](https://database.guide/what-is-a-database-schema/)"
   ]
  },
  {
   "cell_type": "markdown",
   "metadata": {
    "slideshow": {
     "slide_type": "slide"
    }
   },
   "source": [
    "### Table columns view\n",
    "![table example](img/columns.png)"
   ]
  },
  {
   "cell_type": "markdown",
   "metadata": {
    "slideshow": {
     "slide_type": "slide"
    }
   },
   "source": [
    "### Terminology\n",
    "\n",
    "- Schema\n",
    "- Primary Key\n",
    "- Foreign Key\n",
    "- Structured queries\n",
    "- Views"
   ]
  },
  {
   "cell_type": "markdown",
   "metadata": {
    "slideshow": {
     "slide_type": "slide"
    }
   },
   "source": [
    "***\n",
    "### SQLite\n",
    "\n",
    "![sqlite](img/SQLite-Python.jpg)\n",
    "\n",
    "\"SQLite is a C library that provides a lightweight disk-based database that doesn’t require a separate server process and allows accessing the database using a nonstandard variant of the SQL query language. Some applications can use SQLite for internal data storage. It’s also possible to prototype an application using SQLite and then port the code to a larger database such as PostgreSQL or Oracle.\" - [sqlite documentation](https://docs.python.org/2/library/sqlite3.html)\n",
    "\n"
   ]
  },
  {
   "cell_type": "markdown",
   "metadata": {
    "slideshow": {
     "slide_type": "slide"
    }
   },
   "source": [
    "## But what about connecting to database servers?\n",
    "\n",
    "To connect to an Oracle database server there is a different package, `cx_Oracle`. The documentation for that package is [here](https://oracle.github.io/python-cx_Oracle/)"
   ]
  },
  {
   "cell_type": "markdown",
   "metadata": {
    "slideshow": {
     "slide_type": "slide"
    }
   },
   "source": [
    "***\n",
    "## Goal 3: Get going with sqlite!"
   ]
  },
  {
   "cell_type": "code",
   "execution_count": 1,
   "metadata": {
    "slideshow": {
     "slide_type": "fragment"
    }
   },
   "outputs": [],
   "source": [
    "import sqlite3"
   ]
  },
  {
   "cell_type": "markdown",
   "metadata": {
    "slideshow": {
     "slide_type": "slide"
    }
   },
   "source": [
    "#### Load a DB object with `connect` and `cursor`"
   ]
  },
  {
   "cell_type": "code",
   "execution_count": 2,
   "metadata": {
    "slideshow": {
     "slide_type": "fragment"
    }
   },
   "outputs": [],
   "source": [
    "con = sqlite3.connect('flights.db')\n",
    "cursor = con.cursor()"
   ]
  },
  {
   "cell_type": "markdown",
   "metadata": {
    "slideshow": {
     "slide_type": "slide"
    }
   },
   "source": [
    "#### Use sqlite_master to find all the tables in the schema\n",
    "Get the schema of a database from a db in sqlite"
   ]
  },
  {
   "cell_type": "code",
   "execution_count": 3,
   "metadata": {},
   "outputs": [
    {
     "name": "stdout",
     "output_type": "stream",
     "text": [
      "[('airports',), ('airlines',), ('routes',)]\n"
     ]
    }
   ],
   "source": [
    "cursor.execute(\"SELECT name FROM sqlite_master WHERE type='table';\")\n",
    "print(cursor.fetchall())"
   ]
  },
  {
   "cell_type": "markdown",
   "metadata": {
    "slideshow": {
     "slide_type": "slide"
    }
   },
   "source": [
    "#### Get information about one table\n",
    "\n",
    "**A note about** `execute`<br>\n",
    "Each time you use it, you reset the value of cursor"
   ]
  },
  {
   "cell_type": "code",
   "execution_count": 4,
   "metadata": {},
   "outputs": [
    {
     "data": {
      "text/plain": [
       "<sqlite3.Cursor at 0x10f7563b0>"
      ]
     },
     "execution_count": 4,
     "metadata": {},
     "output_type": "execute_result"
    }
   ],
   "source": [
    "cursor.execute(\"SELECT * FROM airports\")"
   ]
  },
  {
   "cell_type": "markdown",
   "metadata": {
    "slideshow": {
     "slide_type": "slide"
    }
   },
   "source": [
    "#### Use description"
   ]
  },
  {
   "cell_type": "code",
   "execution_count": 5,
   "metadata": {
    "slideshow": {
     "slide_type": "fragment"
    }
   },
   "outputs": [
    {
     "data": {
      "text/plain": [
       "(('index', None, None, None, None, None, None),\n",
       " ('id', None, None, None, None, None, None),\n",
       " ('name', None, None, None, None, None, None),\n",
       " ('city', None, None, None, None, None, None),\n",
       " ('country', None, None, None, None, None, None),\n",
       " ('code', None, None, None, None, None, None),\n",
       " ('icao', None, None, None, None, None, None),\n",
       " ('latitude', None, None, None, None, None, None),\n",
       " ('longitude', None, None, None, None, None, None),\n",
       " ('altitude', None, None, None, None, None, None),\n",
       " ('offset', None, None, None, None, None, None),\n",
       " ('dst', None, None, None, None, None, None),\n",
       " ('timezone', None, None, None, None, None, None))"
      ]
     },
     "execution_count": 5,
     "metadata": {},
     "output_type": "execute_result"
    }
   ],
   "source": [
    "cursor.description"
   ]
  },
  {
   "cell_type": "markdown",
   "metadata": {
    "slideshow": {
     "slide_type": "slide"
    }
   },
   "source": [
    "#### Or use `Pragma`\n",
    "`Pragma` tool [link here](https://www.sqlite.org/pragma.html#pragma_table_info)\n",
    "\n",
    "**output**<br>\n",
    "`(column id, column name, data type, whether or not the column can be NULL, and the default value for the column)`"
   ]
  },
  {
   "cell_type": "code",
   "execution_count": 6,
   "metadata": {
    "scrolled": true,
    "slideshow": {
     "slide_type": "slide"
    }
   },
   "outputs": [
    {
     "name": "stdout",
     "output_type": "stream",
     "text": [
      "(0, 'index', 'INTEGER', 0, None, 0)\n",
      "(1, 'id', 'TEXT', 0, None, 0)\n",
      "(2, 'name', 'TEXT', 0, None, 0)\n",
      "(3, 'city', 'TEXT', 0, None, 0)\n",
      "(4, 'country', 'TEXT', 0, None, 0)\n",
      "(5, 'code', 'TEXT', 0, None, 0)\n",
      "(6, 'icao', 'TEXT', 0, None, 0)\n",
      "(7, 'latitude', 'TEXT', 0, None, 0)\n",
      "(8, 'longitude', 'TEXT', 0, None, 0)\n",
      "(9, 'altitude', 'TEXT', 0, None, 0)\n",
      "(10, 'offset', 'TEXT', 0, None, 0)\n",
      "(11, 'dst', 'TEXT', 0, None, 0)\n",
      "(12, 'timezone', 'TEXT', 0, None, 0)\n"
     ]
    }
   ],
   "source": [
    "cursor.execute(\"PRAGMA table_info(airports)\")\n",
    "info = cursor.fetchall()\n",
    "print(*info, sep = \"\\n\") "
   ]
  },
  {
   "cell_type": "code",
   "execution_count": 7,
   "metadata": {},
   "outputs": [
    {
     "name": "stdout",
     "output_type": "stream",
     "text": [
      "(0, 'index', 'INTEGER', 0, None, 0)\n",
      "(1, 'id', 'TEXT', 0, None, 0)\n",
      "(2, 'name', 'TEXT', 0, None, 0)\n",
      "(3, 'alias', 'TEXT', 0, None, 0)\n",
      "(4, 'iata', 'TEXT', 0, None, 0)\n",
      "(5, 'icao', 'TEXT', 0, None, 0)\n",
      "(6, 'callsign', 'TEXT', 0, None, 0)\n",
      "(7, 'country', 'TEXT', 0, None, 0)\n",
      "(8, 'active', 'TEXT', 0, None, 0)\n"
     ]
    }
   ],
   "source": [
    "cursor.execute(\"PRAGMA table_info(airlines)\")\n",
    "info = cursor.fetchall()\n",
    "print(*info, sep = \"\\n\") "
   ]
  },
  {
   "cell_type": "code",
   "execution_count": 8,
   "metadata": {},
   "outputs": [
    {
     "name": "stdout",
     "output_type": "stream",
     "text": [
      "(0, 'index', 'INTEGER', 0, None, 0)\n",
      "(1, 'airline', 'TEXT', 0, None, 0)\n",
      "(2, 'airline_id', 'TEXT', 0, None, 0)\n",
      "(3, 'source', 'TEXT', 0, None, 0)\n",
      "(4, 'source_id', 'TEXT', 0, None, 0)\n",
      "(5, 'dest', 'TEXT', 0, None, 0)\n",
      "(6, 'dest_id', 'TEXT', 0, None, 0)\n",
      "(7, 'codeshare', 'TEXT', 0, None, 0)\n",
      "(8, 'stops', 'TEXT', 0, None, 0)\n",
      "(9, 'equipment', 'TEXT', 0, None, 0)\n"
     ]
    }
   ],
   "source": [
    "cursor.execute(\"PRAGMA table_info(routes)\")\n",
    "info = cursor.fetchall()\n",
    "print(*info, sep = \"\\n\") "
   ]
  },
  {
   "cell_type": "markdown",
   "metadata": {},
   "source": [
    "#### Making fetch happen\n",
    "\n",
    "`.fetchall()` is how you get the query results out of the object.\n",
    "\n",
    "You can also `.fetchone()` or `.fetchmany()`"
   ]
  },
  {
   "cell_type": "markdown",
   "metadata": {
    "slideshow": {
     "slide_type": "slide"
    }
   },
   "source": [
    "**Task:** Get the descriptive data for airlines and routes tables"
   ]
  },
  {
   "cell_type": "code",
   "execution_count": null,
   "metadata": {
    "slideshow": {
     "slide_type": "skip"
    }
   },
   "outputs": [],
   "source": []
  },
  {
   "cell_type": "markdown",
   "metadata": {
    "slideshow": {
     "slide_type": "slide"
    }
   },
   "source": [
    "***\n",
    "## Goal 4: Use basic SQL commands \n",
    "- Construct SQL queries\n",
    "- Use JOIN to merge tables along logical columns\n",
    "- Grouping Data with SQL"
   ]
  },
  {
   "cell_type": "markdown",
   "metadata": {
    "slideshow": {
     "slide_type": "slide"
    }
   },
   "source": [
    "### Construct SQL queries"
   ]
  },
  {
   "cell_type": "markdown",
   "metadata": {
    "slideshow": {
     "slide_type": "fragment"
    }
   },
   "source": [
    "**Select**"
   ]
  },
  {
   "cell_type": "markdown",
   "metadata": {
    "slideshow": {
     "slide_type": "fragment"
    }
   },
   "source": [
    "**From**"
   ]
  },
  {
   "cell_type": "markdown",
   "metadata": {
    "slideshow": {
     "slide_type": "fragment"
    }
   },
   "source": [
    "**Where**"
   ]
  },
  {
   "cell_type": "markdown",
   "metadata": {
    "slideshow": {
     "slide_type": "fragment"
    }
   },
   "source": [
    "**Order by**"
   ]
  },
  {
   "cell_type": "markdown",
   "metadata": {
    "slideshow": {
     "slide_type": "fragment"
    }
   },
   "source": [
    "**Limit**"
   ]
  },
  {
   "cell_type": "markdown",
   "metadata": {
    "slideshow": {
     "slide_type": "slide"
    }
   },
   "source": [
    "#### Options for each:"
   ]
  },
  {
   "cell_type": "markdown",
   "metadata": {
    "slideshow": {
     "slide_type": "fragment"
    }
   },
   "source": [
    "**Select**:  `distinct`, using `as` to rename columns, single number aggregates"
   ]
  },
  {
   "cell_type": "markdown",
   "metadata": {
    "slideshow": {
     "slide_type": "fragment"
    }
   },
   "source": [
    "**From:** also uses aliasing with `as`"
   ]
  },
  {
   "cell_type": "markdown",
   "metadata": {
    "slideshow": {
     "slide_type": "fragment"
    }
   },
   "source": [
    "**Where**: equals is only one `=`, `between`, `in`, wildcards `%`, `AND`, `OR`, `NOT`"
   ]
  },
  {
   "cell_type": "markdown",
   "metadata": {
    "slideshow": {
     "slide_type": "fragment"
    }
   },
   "source": [
    "**Order by**: `asc` and `desc`"
   ]
  },
  {
   "cell_type": "markdown",
   "metadata": {
    "slideshow": {
     "slide_type": "fragment"
    }
   },
   "source": [
    "**Limit**:  #"
   ]
  },
  {
   "cell_type": "code",
   "execution_count": 15,
   "metadata": {
    "slideshow": {
     "slide_type": "skip"
    }
   },
   "outputs": [
    {
     "data": {
      "text/plain": [
       "[('Astraeus',),\n",
       " ('Air Southwest',),\n",
       " ('Aurigny Air Services',),\n",
       " ('Air Wales',),\n",
       " ('AD Aviation',),\n",
       " ('Air Foyle',),\n",
       " ('British Airways',),\n",
       " ('British International Helicopters',),\n",
       " ('bmi',),\n",
       " ('bmibaby',),\n",
       " ('British Midland Regional',),\n",
       " ('British Mediterranean Airways',),\n",
       " ('BA CityFlyer',),\n",
       " ('Crest Aviation',),\n",
       " ('Eastern Airways',),\n",
       " ('Excel Airways',),\n",
       " ('Excel Charter',),\n",
       " ('easyJet',),\n",
       " ('First Choice Airways',),\n",
       " ('Flightline',),\n",
       " ('Flybe',),\n",
       " ('Flyglobespan',),\n",
       " ('GB Airways',),\n",
       " ('Highland Airways',),\n",
       " ('Jet2.com',),\n",
       " ('Monarch Airlines',),\n",
       " ('MyTravel Airways',),\n",
       " ('Norfolk County Flight College',),\n",
       " ('Kinloss Flying Training Unit',),\n",
       " ('ScotAirways',),\n",
       " ('Thomas Cook Airlines',),\n",
       " ('Thomsonfly',),\n",
       " ('Virgin Atlantic Airways',),\n",
       " ('Jc royal.britannica',),\n",
       " ('Royal European Airlines',),\n",
       " ('CB Airways UK ( Interliging Flights )',),\n",
       " ('Air Cudlua',),\n",
       " ('BBN-Airways',),\n",
       " ('Rainbow Air Euro',),\n",
       " ('All Europe',)]"
      ]
     },
     "execution_count": 15,
     "metadata": {},
     "output_type": "execute_result"
    }
   ],
   "source": [
    "cursor.execute('''SELECT name\n",
    "                    FROM airlines\n",
    "                    WHERE active = 'Y'\n",
    "                    AND country = 'United Kingdom';''').fetchall()"
   ]
  },
  {
   "cell_type": "code",
   "execution_count": 19,
   "metadata": {},
   "outputs": [
    {
     "data": {
      "text/plain": [
       "[('Afghanistan',),\n",
       " ('Albania',),\n",
       " ('Algeria',),\n",
       " ('American Samoa',),\n",
       " ('Angola',),\n",
       " ('Anguilla',),\n",
       " ('Antarctica',),\n",
       " ('Antigua and Barbuda',),\n",
       " ('Argentina',),\n",
       " ('Armenia',),\n",
       " ('Aruba',),\n",
       " ('Australia',),\n",
       " ('Austria',),\n",
       " ('Azerbaijan',),\n",
       " ('Bahamas',),\n",
       " ('Bahrain',),\n",
       " ('Bangladesh',),\n",
       " ('Barbados',),\n",
       " ('Belarus',),\n",
       " ('Belgium',),\n",
       " ('Belize',),\n",
       " ('Benin',),\n",
       " ('Bermuda',),\n",
       " ('Bhutan',),\n",
       " ('Bolivia',),\n",
       " ('Bosnia and Herzegovina',),\n",
       " ('Botswana',),\n",
       " ('Brazil',),\n",
       " ('British Indian Ocean Territory',),\n",
       " ('British Virgin Islands',),\n",
       " ('Brunei',),\n",
       " ('Bulgaria',),\n",
       " ('Burkina Faso',),\n",
       " ('Burma',),\n",
       " ('Burundi',),\n",
       " ('Cambodia',),\n",
       " ('Cameroon',),\n",
       " ('Canada',),\n",
       " ('Cape Verde',),\n",
       " ('Cayman Islands',),\n",
       " ('Central African Republic',),\n",
       " ('Chad',),\n",
       " ('Chile',),\n",
       " ('China',),\n",
       " ('Christmas Island',),\n",
       " ('Cocos (Keeling) Islands',),\n",
       " ('Colombia',),\n",
       " ('Comoros',),\n",
       " ('Congo (Brazzaville)',),\n",
       " ('Congo (Kinshasa)',),\n",
       " ('Cook Islands',),\n",
       " ('Costa Rica',),\n",
       " (\"Cote d'Ivoire\",),\n",
       " ('Croatia',),\n",
       " ('Cuba',),\n",
       " ('Cyprus',),\n",
       " ('Czech Republic',),\n",
       " ('Denmark',),\n",
       " ('Djibouti',),\n",
       " ('Dominica',),\n",
       " ('Dominican Republic',),\n",
       " ('East Timor',),\n",
       " ('Ecuador',),\n",
       " ('Egypt',),\n",
       " ('El Salvador',),\n",
       " ('Equatorial Guinea',),\n",
       " ('Eritrea',),\n",
       " ('Estonia',),\n",
       " ('Ethiopia',),\n",
       " ('Falkland Islands',),\n",
       " ('Faroe Islands',),\n",
       " ('Fiji',),\n",
       " ('Finland',),\n",
       " ('France',),\n",
       " ('French Guiana',),\n",
       " ('French Polynesia',),\n",
       " ('Gabon',),\n",
       " ('Gambia',),\n",
       " ('Georgia',),\n",
       " ('Germany',),\n",
       " ('Ghana',),\n",
       " ('Gibraltar',),\n",
       " ('Greece',),\n",
       " ('Greenland',),\n",
       " ('Grenada',),\n",
       " ('Guadeloupe',),\n",
       " ('Guam',),\n",
       " ('Guatemala',),\n",
       " ('Guernsey',),\n",
       " ('Guinea',),\n",
       " ('Guinea-Bissau',),\n",
       " ('Guyana',),\n",
       " ('Haiti',),\n",
       " ('Honduras',),\n",
       " ('Hong Kong',),\n",
       " ('Hungary',),\n",
       " ('Iceland',),\n",
       " ('India',),\n",
       " ('Indonesia',),\n",
       " ('Iran',),\n",
       " ('Iraq',),\n",
       " ('Ireland',),\n",
       " ('Isle of Man',),\n",
       " ('Israel',),\n",
       " ('Italy',),\n",
       " ('Jamaica',),\n",
       " ('Japan',),\n",
       " ('Jersey',),\n",
       " ('Johnston Atoll',),\n",
       " ('Jordan',),\n",
       " ('Kazakhstan',),\n",
       " ('Kenya',),\n",
       " ('Kiribati',),\n",
       " ('Korea',),\n",
       " ('Kuwait',),\n",
       " ('Kyrgyzstan',),\n",
       " ('Laos',),\n",
       " ('Latvia',),\n",
       " ('Lebanon',),\n",
       " ('Lesotho',),\n",
       " ('Liberia',),\n",
       " ('Libya',),\n",
       " ('Lithuania',),\n",
       " ('Luxembourg',),\n",
       " ('Macau',),\n",
       " ('Macedonia',),\n",
       " ('Madagascar',),\n",
       " ('Malawi',),\n",
       " ('Malaysia',),\n",
       " ('Maldives',),\n",
       " ('Mali',),\n",
       " ('Malta',),\n",
       " ('Marshall Islands',),\n",
       " ('Martinique',),\n",
       " ('Mauritania',),\n",
       " ('Mauritius',),\n",
       " ('Mayotte',),\n",
       " ('Mexico',),\n",
       " ('Micronesia',),\n",
       " ('Midway Islands',),\n",
       " ('Moldova',),\n",
       " ('Monaco',),\n",
       " ('Mongolia',),\n",
       " ('Montenegro',),\n",
       " ('Montserrat',),\n",
       " ('Morocco',),\n",
       " ('Mozambique',),\n",
       " ('Myanmar',),\n",
       " ('Namibia',),\n",
       " ('Nauru',),\n",
       " ('Nepal',),\n",
       " ('Netherlands',),\n",
       " ('Netherlands Antilles',),\n",
       " ('New Caledonia',),\n",
       " ('New Zealand',),\n",
       " ('Nicaragua',),\n",
       " ('Niger',),\n",
       " ('Nigeria',),\n",
       " ('Niue',),\n",
       " ('Norfolk Island',),\n",
       " ('North Korea',),\n",
       " ('Northern Mariana Islands',),\n",
       " ('Norway',),\n",
       " ('Oman',),\n",
       " ('Pakistan',),\n",
       " ('Palau',),\n",
       " ('Palestine',),\n",
       " ('Panama',),\n",
       " ('Papua New Guinea',),\n",
       " ('Paraguay',),\n",
       " ('Peru',),\n",
       " ('Philippines',),\n",
       " ('Poland',),\n",
       " ('Portugal',),\n",
       " ('Puerto Rico',),\n",
       " ('Qatar',),\n",
       " ('Reunion',),\n",
       " ('Romania',),\n",
       " ('Russia',),\n",
       " ('Rwanda',),\n",
       " ('Saint Helena',),\n",
       " ('Saint Kitts and Nevis',),\n",
       " ('Saint Lucia',),\n",
       " ('Saint Pierre and Miquelon',),\n",
       " ('Saint Vincent and the Grenadines',),\n",
       " ('Samoa',),\n",
       " ('Sao Tome and Principe',),\n",
       " ('Saudi Arabia',),\n",
       " ('Senegal',),\n",
       " ('Serbia',),\n",
       " ('Seychelles',),\n",
       " ('Sierra Leone',),\n",
       " ('Singapore',),\n",
       " ('Slovakia',),\n",
       " ('Slovenia',),\n",
       " ('Solomon Islands',),\n",
       " ('Somalia',),\n",
       " ('South Africa',),\n",
       " ('South Georgia and the Islands',),\n",
       " ('South Korea',),\n",
       " ('South Sudan',),\n",
       " ('Spain',),\n",
       " ('Sri Lanka',),\n",
       " ('Sudan',),\n",
       " ('Suriname',),\n",
       " ('Svalbard',),\n",
       " ('Swaziland',),\n",
       " ('Sweden',),\n",
       " ('Switzerland',),\n",
       " ('Syria',),\n",
       " ('Taiwan',),\n",
       " ('Tajikistan',),\n",
       " ('Tanzania',),\n",
       " ('Thailand',),\n",
       " ('Togo',),\n",
       " ('Tonga',),\n",
       " ('Trinidad and Tobago',),\n",
       " ('Tunisia',),\n",
       " ('Turkey',),\n",
       " ('Turkmenistan',),\n",
       " ('Turks and Caicos Islands',),\n",
       " ('Tuvalu',),\n",
       " ('Uganda',),\n",
       " ('Ukraine',),\n",
       " ('United Arab Emirates',),\n",
       " ('United Kingdom',),\n",
       " ('United States',),\n",
       " ('Uruguay',),\n",
       " ('Uzbekistan',),\n",
       " ('Vanuatu',),\n",
       " ('Venezuela',),\n",
       " ('Vietnam',),\n",
       " ('Virgin Islands',),\n",
       " ('Wake Island',),\n",
       " ('Wallis and Futuna',),\n",
       " ('West Bank',),\n",
       " ('Western Sahara',),\n",
       " ('Yemen',),\n",
       " ('Zambia',),\n",
       " ('Zimbabwe',)]"
      ]
     },
     "execution_count": 19,
     "metadata": {},
     "output_type": "execute_result"
    }
   ],
   "source": [
    "cursor.execute('''SELECT DISTINCT country\n",
    "                    FROM airports\n",
    "                    ORDER BY country ASC ;''').fetchall()"
   ]
  },
  {
   "cell_type": "markdown",
   "metadata": {
    "slideshow": {
     "slide_type": "slide"
    }
   },
   "source": [
    "**Task**: \n",
    "- Select only active airlines in the UK from the airlines table\n",
    "- Select the unique list of countries with airports"
   ]
  },
  {
   "cell_type": "markdown",
   "metadata": {
    "slideshow": {
     "slide_type": "slide"
    }
   },
   "source": [
    "### SQL Joins"
   ]
  },
  {
   "cell_type": "markdown",
   "metadata": {
    "slideshow": {
     "slide_type": "fragment"
    }
   },
   "source": [
    "SQL joins can be used to both **add** data to a table and **remove** data from a table. "
   ]
  },
  {
   "cell_type": "markdown",
   "metadata": {
    "slideshow": {
     "slide_type": "fragment"
    }
   },
   "source": [
    "![venn](img/venn.png)"
   ]
  },
  {
   "cell_type": "markdown",
   "metadata": {
    "slideshow": {
     "slide_type": "slide"
    }
   },
   "source": [
    "**Task** Write a query that will join the latitude and longitude data from the airports table to the information on the routes table"
   ]
  },
  {
   "cell_type": "code",
   "execution_count": 43,
   "metadata": {
    "slideshow": {
     "slide_type": "skip"
    }
   },
   "outputs": [
    {
     "data": {
      "text/html": [
       "<div>\n",
       "<style scoped>\n",
       "    .dataframe tbody tr th:only-of-type {\n",
       "        vertical-align: middle;\n",
       "    }\n",
       "\n",
       "    .dataframe tbody tr th {\n",
       "        vertical-align: top;\n",
       "    }\n",
       "\n",
       "    .dataframe thead th {\n",
       "        text-align: right;\n",
       "    }\n",
       "</style>\n",
       "<table border=\"1\" class=\"dataframe\">\n",
       "  <thead>\n",
       "    <tr style=\"text-align: right;\">\n",
       "      <th></th>\n",
       "      <th>airline_id</th>\n",
       "      <th>longitude</th>\n",
       "      <th>latitude</th>\n",
       "      <th>index</th>\n",
       "      <th>airline</th>\n",
       "      <th>airline_id</th>\n",
       "      <th>source</th>\n",
       "      <th>source_id</th>\n",
       "      <th>dest</th>\n",
       "      <th>dest_id</th>\n",
       "      <th>codeshare</th>\n",
       "      <th>stops</th>\n",
       "      <th>equipment</th>\n",
       "    </tr>\n",
       "  </thead>\n",
       "  <tbody>\n",
       "    <tr>\n",
       "      <th>0</th>\n",
       "      <td>410</td>\n",
       "      <td>39.956589</td>\n",
       "      <td>43.449928</td>\n",
       "      <td>0</td>\n",
       "      <td>2B</td>\n",
       "      <td>410</td>\n",
       "      <td>AER</td>\n",
       "      <td>2965</td>\n",
       "      <td>KZN</td>\n",
       "      <td>2990</td>\n",
       "      <td>None</td>\n",
       "      <td>0</td>\n",
       "      <td>CR2</td>\n",
       "    </tr>\n",
       "    <tr>\n",
       "      <th>1</th>\n",
       "      <td>410</td>\n",
       "      <td>48.006278</td>\n",
       "      <td>46.283333</td>\n",
       "      <td>1</td>\n",
       "      <td>2B</td>\n",
       "      <td>410</td>\n",
       "      <td>ASF</td>\n",
       "      <td>2966</td>\n",
       "      <td>KZN</td>\n",
       "      <td>2990</td>\n",
       "      <td>None</td>\n",
       "      <td>0</td>\n",
       "      <td>CR2</td>\n",
       "    </tr>\n",
       "    <tr>\n",
       "      <th>2</th>\n",
       "      <td>410</td>\n",
       "      <td>48.006278</td>\n",
       "      <td>46.283333</td>\n",
       "      <td>2</td>\n",
       "      <td>2B</td>\n",
       "      <td>410</td>\n",
       "      <td>ASF</td>\n",
       "      <td>2966</td>\n",
       "      <td>MRV</td>\n",
       "      <td>2962</td>\n",
       "      <td>None</td>\n",
       "      <td>0</td>\n",
       "      <td>CR2</td>\n",
       "    </tr>\n",
       "    <tr>\n",
       "      <th>3</th>\n",
       "      <td>410</td>\n",
       "      <td>61.503333</td>\n",
       "      <td>55.305836</td>\n",
       "      <td>3</td>\n",
       "      <td>2B</td>\n",
       "      <td>410</td>\n",
       "      <td>CEK</td>\n",
       "      <td>2968</td>\n",
       "      <td>KZN</td>\n",
       "      <td>2990</td>\n",
       "      <td>None</td>\n",
       "      <td>0</td>\n",
       "      <td>CR2</td>\n",
       "    </tr>\n",
       "    <tr>\n",
       "      <th>4</th>\n",
       "      <td>410</td>\n",
       "      <td>61.503333</td>\n",
       "      <td>55.305836</td>\n",
       "      <td>4</td>\n",
       "      <td>2B</td>\n",
       "      <td>410</td>\n",
       "      <td>CEK</td>\n",
       "      <td>2968</td>\n",
       "      <td>OVB</td>\n",
       "      <td>4078</td>\n",
       "      <td>None</td>\n",
       "      <td>0</td>\n",
       "      <td>CR2</td>\n",
       "    </tr>\n",
       "  </tbody>\n",
       "</table>\n",
       "</div>"
      ],
      "text/plain": [
       "  airline_id  longitude   latitude  index airline airline_id source source_id  \\\n",
       "0        410  39.956589  43.449928      0      2B        410    AER      2965   \n",
       "1        410  48.006278  46.283333      1      2B        410    ASF      2966   \n",
       "2        410  48.006278  46.283333      2      2B        410    ASF      2966   \n",
       "3        410  61.503333  55.305836      3      2B        410    CEK      2968   \n",
       "4        410  61.503333  55.305836      4      2B        410    CEK      2968   \n",
       "\n",
       "  dest dest_id codeshare stops equipment  \n",
       "0  KZN    2990      None     0       CR2  \n",
       "1  KZN    2990      None     0       CR2  \n",
       "2  MRV    2962      None     0       CR2  \n",
       "3  KZN    2990      None     0       CR2  \n",
       "4  OVB    4078      None     0       CR2  "
      ]
     },
     "execution_count": 43,
     "metadata": {},
     "output_type": "execute_result"
    }
   ],
   "source": [
    "import pandas as pd\n",
    "\n",
    "# cursor.execute('''SELECT latitude,longitude\n",
    "#                     FROM airports\n",
    "#                     LEFT JOIN routes\n",
    "#                     ON 'airline_id';''').fetchall()\n",
    "# print()\n",
    "\n",
    "# df = pd.read_sql('''SELECT latitude,longitude\n",
    "#                     FROM airports\n",
    "#                     LEFT JOIN routes\n",
    "#                     ON 'airline_id';''',con)\n",
    "\n",
    "df = pd.read_sql('''SELECT routes.airline_id, airports.longitude, airports.latitude, routes.*\n",
    "                    FROM routes\n",
    "                    JOIN airports ON airports.id = routes.source_id\n",
    "                    ;''',con)\n",
    "\n",
    "df.head()"
   ]
  },
  {
   "cell_type": "code",
   "execution_count": 31,
   "metadata": {},
   "outputs": [
    {
     "data": {
      "text/html": [
       "<div>\n",
       "<style scoped>\n",
       "    .dataframe tbody tr th:only-of-type {\n",
       "        vertical-align: middle;\n",
       "    }\n",
       "\n",
       "    .dataframe tbody tr th {\n",
       "        vertical-align: top;\n",
       "    }\n",
       "\n",
       "    .dataframe thead th {\n",
       "        text-align: right;\n",
       "    }\n",
       "</style>\n",
       "<table border=\"1\" class=\"dataframe\">\n",
       "  <thead>\n",
       "    <tr style=\"text-align: right;\">\n",
       "      <th></th>\n",
       "      <th>index</th>\n",
       "      <th>airline</th>\n",
       "      <th>airline_id</th>\n",
       "      <th>source</th>\n",
       "      <th>source_id</th>\n",
       "      <th>dest</th>\n",
       "      <th>dest_id</th>\n",
       "      <th>codeshare</th>\n",
       "      <th>stops</th>\n",
       "      <th>equipment</th>\n",
       "    </tr>\n",
       "  </thead>\n",
       "  <tbody>\n",
       "    <tr>\n",
       "      <th>0</th>\n",
       "      <td>0</td>\n",
       "      <td>2B</td>\n",
       "      <td>410</td>\n",
       "      <td>AER</td>\n",
       "      <td>2965</td>\n",
       "      <td>KZN</td>\n",
       "      <td>2990</td>\n",
       "      <td>None</td>\n",
       "      <td>0</td>\n",
       "      <td>CR2</td>\n",
       "    </tr>\n",
       "    <tr>\n",
       "      <th>1</th>\n",
       "      <td>1</td>\n",
       "      <td>2B</td>\n",
       "      <td>410</td>\n",
       "      <td>ASF</td>\n",
       "      <td>2966</td>\n",
       "      <td>KZN</td>\n",
       "      <td>2990</td>\n",
       "      <td>None</td>\n",
       "      <td>0</td>\n",
       "      <td>CR2</td>\n",
       "    </tr>\n",
       "    <tr>\n",
       "      <th>2</th>\n",
       "      <td>2</td>\n",
       "      <td>2B</td>\n",
       "      <td>410</td>\n",
       "      <td>ASF</td>\n",
       "      <td>2966</td>\n",
       "      <td>MRV</td>\n",
       "      <td>2962</td>\n",
       "      <td>None</td>\n",
       "      <td>0</td>\n",
       "      <td>CR2</td>\n",
       "    </tr>\n",
       "    <tr>\n",
       "      <th>3</th>\n",
       "      <td>3</td>\n",
       "      <td>2B</td>\n",
       "      <td>410</td>\n",
       "      <td>CEK</td>\n",
       "      <td>2968</td>\n",
       "      <td>KZN</td>\n",
       "      <td>2990</td>\n",
       "      <td>None</td>\n",
       "      <td>0</td>\n",
       "      <td>CR2</td>\n",
       "    </tr>\n",
       "    <tr>\n",
       "      <th>4</th>\n",
       "      <td>4</td>\n",
       "      <td>2B</td>\n",
       "      <td>410</td>\n",
       "      <td>CEK</td>\n",
       "      <td>2968</td>\n",
       "      <td>OVB</td>\n",
       "      <td>4078</td>\n",
       "      <td>None</td>\n",
       "      <td>0</td>\n",
       "      <td>CR2</td>\n",
       "    </tr>\n",
       "  </tbody>\n",
       "</table>\n",
       "</div>"
      ],
      "text/plain": [
       "   index airline airline_id source source_id dest dest_id codeshare stops  \\\n",
       "0      0      2B        410    AER      2965  KZN    2990      None     0   \n",
       "1      1      2B        410    ASF      2966  KZN    2990      None     0   \n",
       "2      2      2B        410    ASF      2966  MRV    2962      None     0   \n",
       "3      3      2B        410    CEK      2968  KZN    2990      None     0   \n",
       "4      4      2B        410    CEK      2968  OVB    4078      None     0   \n",
       "\n",
       "  equipment  \n",
       "0       CR2  \n",
       "1       CR2  \n",
       "2       CR2  \n",
       "3       CR2  \n",
       "4       CR2  "
      ]
     },
     "execution_count": 31,
     "metadata": {},
     "output_type": "execute_result"
    }
   ],
   "source": [
    "df = pd.read_sql('''SELECT *\n",
    "                    FROM routes\n",
    "                    ;''',con)\n",
    "\n",
    "df.head()"
   ]
  },
  {
   "cell_type": "markdown",
   "metadata": {
    "slideshow": {
     "slide_type": "slide"
    }
   },
   "source": [
    "### Grouping statements\n",
    "\n",
    "Combines `select` and `group by` when you want aggregates by values"
   ]
  },
  {
   "cell_type": "markdown",
   "metadata": {
    "slideshow": {
     "slide_type": "fragment"
    }
   },
   "source": [
    "`select` `min(x)` ... `max()`, `sum()`, etc"
   ]
  },
  {
   "cell_type": "markdown",
   "metadata": {
    "slideshow": {
     "slide_type": "fragment"
    }
   },
   "source": [
    "`group by x`"
   ]
  },
  {
   "cell_type": "markdown",
   "metadata": {
    "slideshow": {
     "slide_type": "slide"
    }
   },
   "source": [
    "**Task**<br>\n",
    "- Which countries have the highest amount of active airports?\n",
    "- Which countries have the highest amount of inactive airports?\n",
    "- What about airports by timezones?"
   ]
  },
  {
   "cell_type": "code",
   "execution_count": null,
   "metadata": {
    "slideshow": {
     "slide_type": "skip"
    }
   },
   "outputs": [],
   "source": []
  },
  {
   "cell_type": "markdown",
   "metadata": {
    "slideshow": {
     "slide_type": "slide"
    }
   },
   "source": [
    "## Goal 5: Using sql within pandas to filter\n",
    "\n",
    "`.query()`\n",
    "\n",
    "[query documentation](https://pandas.pydata.org/pandas-docs/stable/reference/api/pandas.DataFrame.query.html)"
   ]
  },
  {
   "cell_type": "code",
   "execution_count": null,
   "metadata": {
    "slideshow": {
     "slide_type": "slide"
    }
   },
   "outputs": [],
   "source": [
    "# Get data for an example\n",
    "import pandas as pd\n",
    "shelter_data=pd.read_csv('https://data.austintexas.gov/api/views/9t4d-g238/rows.csv?accessType=DOWNLOAD')\n",
    "shelter_data.dtypes"
   ]
  },
  {
   "cell_type": "code",
   "execution_count": null,
   "metadata": {
    "slideshow": {
     "slide_type": "slide"
    }
   },
   "outputs": [],
   "source": [
    "max_data = shelter_data.query('Name == \"Max\"')\n",
    "max_data.head()"
   ]
  },
  {
   "cell_type": "code",
   "execution_count": null,
   "metadata": {
    "slideshow": {
     "slide_type": "slide"
    }
   },
   "outputs": [],
   "source": [
    "shelter_data.rename(index=str, columns={\"Animal Type\": \"animal_type\"}, inplace = True)\n",
    "test = shelter_data.query('animal_type == \"Dog\"')\n",
    "test.head()"
   ]
  },
  {
   "cell_type": "markdown",
   "metadata": {
    "slideshow": {
     "slide_type": "slide"
    }
   },
   "source": [
    "## Goal 6: Transfering from sqlite to pandas"
   ]
  },
  {
   "cell_type": "code",
   "execution_count": null,
   "metadata": {
    "slideshow": {
     "slide_type": "fragment"
    }
   },
   "outputs": [],
   "source": [
    "conn = sqlite3.connect(\"flights.db\")\n",
    "df = pd.read_sql_query(\"select * from airports limit 5;\", conn)\n",
    "df"
   ]
  },
  {
   "cell_type": "markdown",
   "metadata": {
    "slideshow": {
     "slide_type": "slide"
    }
   },
   "source": [
    "**Task**: \n",
    "Convert one of the earlier queries in the lesson to a pandas data frame"
   ]
  },
  {
   "cell_type": "markdown",
   "metadata": {
    "slideshow": {
     "slide_type": "slide"
    }
   },
   "source": [
    "## Integration\n",
    "\n",
    "The [Chinook database](https://github.com/lerocha/chinook-database) is a sample database, representing a digital media store.\n",
    "\n",
    "You need to create a query that can rank tracks in term of popularity.\n",
    "\n",
    "The name of the database is `Chinook_Sqlite.sqlite`"
   ]
  },
  {
   "cell_type": "markdown",
   "metadata": {
    "slideshow": {
     "slide_type": "slide"
    }
   },
   "source": [
    "Database information:<br>\n",
    "- How many tables are in the database?\n",
    "- What's the primary key of each table?\n",
    "- What foreign keys join the tables together?\n",
    "- If you had to draw a schema of how the tables are connected, what would it look like?"
   ]
  },
  {
   "cell_type": "code",
   "execution_count": null,
   "metadata": {
    "slideshow": {
     "slide_type": "skip"
    }
   },
   "outputs": [],
   "source": [
    "To answer the question:<br>\n",
    "- What are the max and min dates in the Invoice table?\n",
    "- What tables would you need to answer \"what is your most popular track?\"\n",
    "- What values from each table?"
   ]
  },
  {
   "cell_type": "code",
   "execution_count": 91,
   "metadata": {
    "slideshow": {
     "slide_type": "skip"
    }
   },
   "outputs": [
    {
     "name": "stdout",
     "output_type": "stream",
     "text": [
      "[('Album',), ('Artist',), ('Customer',), ('Employee',), ('Genre',), ('Invoice',), ('InvoiceLine',), ('MediaType',), ('Playlist',), ('PlaylistTrack',), ('Track',)]\n",
      "11\n"
     ]
    }
   ],
   "source": [
    "# Question 1 How many tables are in the database?\n",
    "\n",
    "conn = sqlite3.connect('Chinook_Sqlite.sqlite')\n",
    "c = conn.cursor()\n",
    "\n",
    "c.execute(\"SELECT name FROM sqlite_master WHERE type='table';\")\n",
    "tables = c.fetchall()\n",
    "print(tables)\n",
    "print(len(tables))\n",
    "\n",
    "# There are 11 tables in the database."
   ]
  },
  {
   "cell_type": "code",
   "execution_count": null,
   "metadata": {
    "slideshow": {
     "slide_type": "skip"
    }
   },
   "outputs": [],
   "source": [
    "# Question 1 How many tables are in the database?\n",
    "\n",
    "conn = sqlite3.connect('Chinook_Sqlite.sqlite')\n",
    "c = conn.cursor()\n",
    "\n",
    "c.execute(\"SELECT name FROM sqlite_master WHERE type='table';\")\n",
    "tables = c.fetchall()\n",
    "print(tables)\n",
    "print(len(tables))\n",
    "\n",
    "# There are 11 tables in the database.\n",
    "\n",
    "# Question 2 What's the primary key of each table?\n",
    "\n",
    "\n",
    "listo = []\n",
    "for table in tables:\n",
    "    df = pd.read_sql('SELECT * FROM ' + str(table[0]), conn)\n",
    "    listo.append(df.columns[0])\n",
    "print(listo)\n",
    "\n",
    "# for table in tables:\n",
    "#     c.execute(\"PRAGMA table_info(\" + table[0] + \")\"\n",
    "#     info = c.fetchall()\n",
    "#     keys.append(info[0][1])\n",
    "\n",
    "# print(keys)\n",
    "\n",
    "# keys = []\n",
    "# df = pd.read_sql_query('SELECT * FROM track', conn)\n",
    "# df\n",
    "\n",
    "# Question 3 What foreign keys join the tables together?\n",
    "print(c.execute('''PRAGMA foreign_key_list('Album');''').fetchall()) # \n",
    "print(c.execute('''PRAGMA foreign_key_list('Genre');''').fetchall())\n",
    "print(c.execute('''PRAGMA foreign_key_list('Artist');''').fetchall())\n",
    "print(c.execute('''PRAGMA foreign_key_list('Customer');''').fetchall())\n",
    "print(c.execute('''PRAGMA foreign_key_list('Employee');''').fetchall())\n",
    "print(c.execute('''PRAGMA foreign_key_list('Invoice');''').fetchall())\n",
    "print(c.execute('''PRAGMA foreign_key_list('InvoiceLine');''').fetchall())\n",
    "print(c.execute('''PRAGMA foreign_key_list('MediaType');''').fetchall())\n",
    "print(c.execute('''PRAGMA foreign_key_list('Playlist');''').fetchall())\n",
    "print(c.execute('''PRAGMA foreign_key_list('PlaylistTrack');''').fetchall())\n",
    "print(c.execute('''PRAGMA foreign_key_list('Track');''').fetchall())\n",
    "\n",
    "# Question 4 If you had to draw a schema of how the tables are connected, what would it look like?\n",
    "\n",
    "# Question 5 What are the max and min dates in the Invoice table?\n",
    "print(c.execute('''SELECT MAX(InvoiceDate) FROM Invoice;''').fetchall())\n",
    "print(c.execute('''SELECT MIN(InvoiceDate) FROM Invoice;''').fetchall())\n",
    "\n",
    "# df = pd.read_sql('''SELECT * FROM INVOICE;''', con = conn)\n",
    "# df\n",
    "\n",
    "# Question 6 What tables would you need to answer \"what is your most popular track?\"\n",
    "\n",
    "# df = pd.read_sql('''SELECT * FROM Track;''', con=conn)\n",
    "# df\n",
    "# df1 = pd.read_sql('''SELECT * FROM PlaylistTrack;''', con=conn)\n",
    "# df1\n",
    "# Use the TrackID from Track table to figure out which tracks are most popular in the PlaylistTrack table.\n",
    "\n",
    "# Question 7 What values from each table?\n",
    "\n",
    "df = pd.read_sql('''SELECT * )''')"
   ]
  },
  {
   "cell_type": "code",
   "execution_count": 168,
   "metadata": {
    "slideshow": {
     "slide_type": "skip"
    }
   },
   "outputs": [
    {
     "name": "stdout",
     "output_type": "stream",
     "text": [
      "[(0, 0, 'Artist', 'ArtistId', 'ArtistId', 'NO ACTION', 'NO ACTION', 'NONE')]\n",
      "[]\n",
      "[]\n",
      "[(0, 0, 'Employee', 'SupportRepId', 'EmployeeId', 'NO ACTION', 'NO ACTION', 'NONE')]\n",
      "[(0, 0, 'Employee', 'ReportsTo', 'EmployeeId', 'NO ACTION', 'NO ACTION', 'NONE')]\n",
      "[(0, 0, 'Customer', 'CustomerId', 'CustomerId', 'NO ACTION', 'NO ACTION', 'NONE')]\n",
      "[(0, 0, 'Track', 'TrackId', 'TrackId', 'NO ACTION', 'NO ACTION', 'NONE'), (1, 0, 'Invoice', 'InvoiceId', 'InvoiceId', 'NO ACTION', 'NO ACTION', 'NONE')]\n",
      "[]\n",
      "[]\n",
      "[(0, 0, 'Track', 'TrackId', 'TrackId', 'NO ACTION', 'NO ACTION', 'NONE'), (1, 0, 'Playlist', 'PlaylistId', 'PlaylistId', 'NO ACTION', 'NO ACTION', 'NONE')]\n",
      "[(0, 0, 'MediaType', 'MediaTypeId', 'MediaTypeId', 'NO ACTION', 'NO ACTION', 'NONE'), (1, 0, 'Genre', 'GenreId', 'GenreId', 'NO ACTION', 'NO ACTION', 'NONE'), (2, 0, 'Album', 'AlbumId', 'AlbumId', 'NO ACTION', 'NO ACTION', 'NONE')]\n"
     ]
    }
   ],
   "source": [
    "# Question 3 What foreign keys join the tables together?\n",
    "print(c.execute('''PRAGMA foreign_key_list('Album');''').fetchall()) # \n",
    "print(c.execute('''PRAGMA foreign_key_list('Genre');''').fetchall())\n",
    "print(c.execute('''PRAGMA foreign_key_list('Artist');''').fetchall())\n",
    "print(c.execute('''PRAGMA foreign_key_list('Customer');''').fetchall())\n",
    "print(c.execute('''PRAGMA foreign_key_list('Employee');''').fetchall())\n",
    "print(c.execute('''PRAGMA foreign_key_list('Invoice');''').fetchall())\n",
    "print(c.execute('''PRAGMA foreign_key_list('InvoiceLine');''').fetchall())\n",
    "print(c.execute('''PRAGMA foreign_key_list('MediaType');''').fetchall())\n",
    "print(c.execute('''PRAGMA foreign_key_list('Playlist');''').fetchall())\n",
    "print(c.execute('''PRAGMA foreign_key_list('PlaylistTrack');''').fetchall())\n",
    "print(c.execute('''PRAGMA foreign_key_list('Track');''').fetchall())"
   ]
  },
  {
   "cell_type": "code",
   "execution_count": null,
   "metadata": {
    "slideshow": {
     "slide_type": "skip"
    }
   },
   "outputs": [],
   "source": [
    "# Question 4 If you had to draw a schema of how the tables are connected, what would it look like?"
   ]
  },
  {
   "cell_type": "code",
   "execution_count": 167,
   "metadata": {
    "slideshow": {
     "slide_type": "skip"
    }
   },
   "outputs": [
    {
     "name": "stdout",
     "output_type": "stream",
     "text": [
      "[('2013-12-22 00:00:00',)]\n",
      "[('2009-01-01 00:00:00',)]\n"
     ]
    }
   ],
   "source": [
    "# Question 5 What are the max and min dates in the Invoice table?\n",
    "print(c.execute('''SELECT MAX(InvoiceDate) FROM Invoice;''').fetchall())\n",
    "print(c.execute('''SELECT MIN(InvoiceDate) FROM Invoice;''').fetchall())\n",
    "\n",
    "# df = pd.read_sql('''SELECT * FROM INVOICE;''', con = conn)\n",
    "# df"
   ]
  },
  {
   "cell_type": "code",
   "execution_count": 171,
   "metadata": {
    "slideshow": {
     "slide_type": "skip"
    }
   },
   "outputs": [],
   "source": [
    "# Question 6 What tables would you need to answer \"what is your most popular track?\"\n",
    "\n",
    "# df = pd.read_sql('''SELECT * FROM Track;''', con=conn)\n",
    "# df\n",
    "# df1 = pd.read_sql('''SELECT * FROM PlaylistTrack;''', con=conn)\n",
    "# df1\n",
    "# Use the TrackID from Track table to figure out which tracks are most popular in the PlaylistTrack table."
   ]
  },
  {
   "cell_type": "code",
   "execution_count": 172,
   "metadata": {
    "slideshow": {
     "slide_type": "skip"
    }
   },
   "outputs": [],
   "source": [
    "# Question 7 What values from each table?\n",
    "\n",
    "df = pd.read_sql('''SELECT * )''')"
   ]
  },
  {
   "cell_type": "markdown",
   "metadata": {
    "slideshow": {
     "slide_type": "slide"
    }
   },
   "source": [
    "## Reflection"
   ]
  },
  {
   "cell_type": "code",
   "execution_count": null,
   "metadata": {},
   "outputs": [],
   "source": []
  }
 ],
 "metadata": {
  "kernelspec": {
   "display_name": "Python 3",
   "language": "python",
   "name": "python3"
  },
  "language_info": {
   "codemirror_mode": {
    "name": "ipython",
    "version": 3
   },
   "file_extension": ".py",
   "mimetype": "text/x-python",
   "name": "python",
   "nbconvert_exporter": "python",
   "pygments_lexer": "ipython3",
   "version": "3.7.1"
  },
  "toc": {
   "base_numbering": 1,
   "nav_menu": {},
   "number_sections": true,
   "sideBar": true,
   "skip_h1_title": false,
   "title_cell": "Table of Contents",
   "title_sidebar": "Contents",
   "toc_cell": false,
   "toc_position": {},
   "toc_section_display": true,
   "toc_window_display": false
  },
  "varInspector": {
   "cols": {
    "lenName": 16,
    "lenType": 16,
    "lenVar": 40
   },
   "kernels_config": {
    "python": {
     "delete_cmd_postfix": "",
     "delete_cmd_prefix": "del ",
     "library": "var_list.py",
     "varRefreshCmd": "print(var_dic_list())"
    },
    "r": {
     "delete_cmd_postfix": ") ",
     "delete_cmd_prefix": "rm(",
     "library": "var_list.r",
     "varRefreshCmd": "cat(var_dic_list()) "
    }
   },
   "types_to_exclude": [
    "module",
    "function",
    "builtin_function_or_method",
    "instance",
    "_Feature"
   ],
   "window_display": false
  }
 },
 "nbformat": 4,
 "nbformat_minor": 2
}
