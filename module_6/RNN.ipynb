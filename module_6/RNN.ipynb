{
 "cells": [
  {
   "cell_type": "markdown",
   "metadata": {},
   "source": [
    "<h1 style=\"color:brown;\">  Recurrent neural nets</h1> "
   ]
  },
  {
   "cell_type": "markdown",
   "metadata": {},
   "source": [
    "![Looping network](./img/RNN_colah.png)"
   ]
  },
  {
   "cell_type": "markdown",
   "metadata": {},
   "source": [
    "##### RNNs can produce amazing results <a href =\"http://karpathy.github.io/2015/05/21/rnn-effectiveness/\">blog</a>"
   ]
  },
  {
   "cell_type": "markdown",
   "metadata": {},
   "source": [
    "### Lesson plan \n",
    "1. Why classic neural nets are not enough?\n",
    "2. Word embeddings - word2vec\n",
    "3. Categorical embeddings\n",
    "4. RNN \n",
    "5. Takeaways\n",
    "6. Hands on word2vec"
   ]
  },
  {
   "cell_type": "code",
   "execution_count": 1,
   "metadata": {},
   "outputs": [],
   "source": [
    "import numpy as np"
   ]
  },
  {
   "cell_type": "markdown",
   "metadata": {},
   "source": [
    "### Classic nets vs. RNN's"
   ]
  },
  {
   "cell_type": "markdown",
   "metadata": {},
   "source": [
    "Classic:\n",
    "    - Inputs and outputs must be fixed-sized vectors\n",
    "    - No idea of location or time "
   ]
  },
  {
   "cell_type": "markdown",
   "metadata": {},
   "source": [
    "RNNs: "
   ]
  },
  {
   "cell_type": "markdown",
   "metadata": {},
   "source": [
    "![](./img/diags.jpeg)"
   ]
  },
  {
   "cell_type": "markdown",
   "metadata": {},
   "source": [
    "### Word embeddings"
   ]
  },
  {
   "cell_type": "markdown",
   "metadata": {},
   "source": [
    "#### N-gram"
   ]
  },
  {
   "cell_type": "markdown",
   "metadata": {},
   "source": [
    "-Which word produces the highest probability to be next given we have seen n specific other words before"
   ]
  },
  {
   "cell_type": "code",
   "execution_count": 2,
   "metadata": {},
   "outputs": [
    {
     "ename": "SyntaxError",
     "evalue": "invalid syntax (<ipython-input-2-50b8cf5af252>, line 1)",
     "output_type": "error",
     "traceback": [
      "\u001b[0;36m  File \u001b[0;32m\"<ipython-input-2-50b8cf5af252>\"\u001b[0;36m, line \u001b[0;32m1\u001b[0m\n\u001b[0;31m    Words: Thank, you, Hello, goodbye\u001b[0m\n\u001b[0m                ^\u001b[0m\n\u001b[0;31mSyntaxError\u001b[0m\u001b[0;31m:\u001b[0m invalid syntax\n"
     ]
    }
   ],
   "source": [
    "Words: Thank, you, Hello, goodbye"
   ]
  },
  {
   "cell_type": "code",
   "execution_count": 3,
   "metadata": {},
   "outputs": [
    {
     "ename": "SyntaxError",
     "evalue": "invalid syntax (<ipython-input-3-71c8537255ab>, line 1)",
     "output_type": "error",
     "traceback": [
      "\u001b[0;36m  File \u001b[0;32m\"<ipython-input-3-71c8537255ab>\"\u001b[0;36m, line \u001b[0;32m1\u001b[0m\n\u001b[0;31m    If we have 4 words and we are looking at 2-gram?\u001b[0m\n\u001b[0m        ^\u001b[0m\n\u001b[0;31mSyntaxError\u001b[0m\u001b[0;31m:\u001b[0m invalid syntax\n"
     ]
    }
   ],
   "source": [
    "If we have 4 words and we are looking at 2-gram? \n",
    "    Example: no. of times Thank you occurs divided by number of times Thank occurs"
   ]
  },
  {
   "cell_type": "markdown",
   "metadata": {},
   "source": [
    "We need to calculate the probabilty of \n",
    " - Thank Hello\n",
    " - Thank you\n",
    " - Thank goodbye\n",
    " - Thank Thank"
   ]
  },
  {
   "cell_type": "markdown",
   "metadata": {},
   "source": [
    "So we needed to do 4 calculations"
   ]
  },
  {
   "cell_type": "code",
   "execution_count": 4,
   "metadata": {},
   "outputs": [],
   "source": [
    "def how_many_calc_to_do(gram, voc_size):\n",
    "    '''This function needs to calculate all combos \n",
    "    of words'''\n",
    "    \n",
    "    return np.prod(np.repeat(voc_size, gram))"
   ]
  },
  {
   "cell_type": "code",
   "execution_count": 5,
   "metadata": {},
   "outputs": [
    {
     "data": {
      "text/plain": [
       "4477988020393345024"
      ]
     },
     "execution_count": 5,
     "metadata": {},
     "output_type": "execute_result"
    }
   ],
   "source": [
    "how_many_calc_to_do(7, 10000)\n",
    "# Notice that this is only an approxiamtion and it can be implemented in more efficient ways."
   ]
  },
  {
   "cell_type": "markdown",
   "metadata": {},
   "source": [
    "![](./img/one_hot_encoding_distance_on_3d.png)"
   ]
  },
  {
   "cell_type": "markdown",
   "metadata": {},
   "source": [
    "#### Insight I: \n",
    "    we can actually just turn each word to a random vector sized 100/200/300, \n",
    "    train a classic neural net to predict the next word and update both the weights and the random vectors.\n",
    "    You can think of it as just another layer of weights multiplying the one hot encoded inputs.\n",
    "<a href=\"http://hunterheidenreich.com/blog/intro-to-word-embeddings/\">word_embed blog</a>\n",
    "\n",
    "<a href=\"https://towardsdatascience.com/introduction-to-word-embedding-and-word2vec-652d0c2060fa\">word_embed blog II</a>\n"
   ]
  },
  {
   "cell_type": "markdown",
   "metadata": {},
   "source": [
    "![W2V](./img/w2v.png)"
   ]
  },
  {
   "cell_type": "markdown",
   "metadata": {},
   "source": [
    "##### Objective: maximize the sum of probabilities of each word given its observed window"
   ]
  },
  {
   "cell_type": "markdown",
   "metadata": {},
   "source": [
    "This idea is very strong in comparison to other options: \n",
    "\n",
    "    Bag of words - just count occourences \n",
    "    TF-IDF - word is either informative or not but has no relation to other words\n",
    "    one-hot encoder: for the computer paris-france is the same distance as paris-blabla"
   ]
  },
  {
   "cell_type": "markdown",
   "metadata": {},
   "source": [
    "- Distance and direction are meaningful! King - man = Queen - woman\n",
    "- Now the words massive and huge are similar!\n",
    "- Extends to sentences, paragraphs and documents."
   ]
  },
  {
   "cell_type": "markdown",
   "metadata": {},
   "source": [
    "![](./img/see_attached_word_embed.png)"
   ]
  },
  {
   "cell_type": "markdown",
   "metadata": {},
   "source": [
    "##### We have reduced the dimension of the vocublary by a big factor!\n",
    "example: from 80,000 to 300"
   ]
  },
  {
   "cell_type": "markdown",
   "metadata": {},
   "source": [
    "![](https://www.lemay.ai/demo/wordEmbedding/)"
   ]
  },
  {
   "cell_type": "markdown",
   "metadata": {},
   "source": [
    "##### Insight I.I  The same thing can be applied to any categorical variable. \n",
    "##### With enough training data we can learn its continous position in space - state of the art"
   ]
  },
  {
   "cell_type": "markdown",
   "metadata": {},
   "source": [
    "![categorical_embed](./img/categorical_embedding.png) # image I"
   ]
  },
  {
   "cell_type": "markdown",
   "metadata": {},
   "source": [
    "![german_states](./img/german_states_mapped_2D.png) "
   ]
  },
  {
   "cell_type": "markdown",
   "metadata": {},
   "source": [
    "#### Insight II: \n",
    "        well, even if we can include many words (large n-gram), how can we capture context?\n",
    "        If the text mentioned queen Mary and few pages later is talking about the queen, how will our network \n",
    "        know her name is Mary? "
   ]
  },
  {
   "cell_type": "markdown",
   "metadata": {},
   "source": [
    "### Idea I: Memory - your current choices are based on previous understanding"
   ]
  },
  {
   "cell_type": "markdown",
   "metadata": {},
   "source": [
    "Add some cell in the network to keep previous memory and combine with current input to predict next word"
   ]
  },
  {
   "cell_type": "markdown",
   "metadata": {},
   "source": [
    "![](./img/memory_rnn.png)"
   ]
  },
  {
   "cell_type": "markdown",
   "metadata": {},
   "source": [
    "#### Problem: calculating the derivative (aka gradient) is problematic, either infinite or zero."
   ]
  },
  {
   "cell_type": "markdown",
   "metadata": {},
   "source": [
    "Imagine the memory at time t is the memory at time t-1 times a weight vector:\n",
    "    $h_t = W*h_{t-1}$\n",
    "Then:\n",
    "    $h_t = W^t * h_0$ \n",
    "    \n",
    "  $W > 1$ $h_t --> \\infty$"
   ]
  },
  {
   "cell_type": "markdown",
   "metadata": {},
   "source": [
    "### Solution: LSTM/GRU\n",
    "\n",
    "<a href=\"https://colah.github.io/posts/2015-08-Understanding-LSTMs/\">LSTM/GRU blog</a>\n"
   ]
  },
  {
   "cell_type": "markdown",
   "metadata": {},
   "source": [
    "![](./img/RNNs.png)"
   ]
  },
  {
   "cell_type": "markdown",
   "metadata": {},
   "source": [
    "![](./img/LSTM_colah.png)"
   ]
  },
  {
   "cell_type": "markdown",
   "metadata": {},
   "source": [
    "#### Idea II: gates: don't multiply, use addition for memory!"
   ]
  },
  {
   "cell_type": "markdown",
   "metadata": {},
   "source": [
    "##### Components"
   ]
  },
  {
   "cell_type": "markdown",
   "metadata": {},
   "source": [
    "    - cell state\n",
    "    - candidates  "
   ]
  },
  {
   "cell_type": "markdown",
   "metadata": {},
   "source": [
    "##### Gates\n",
    "- forget - information to throw (0 means throw all from the cell state)\n",
    "- input - what values we are going to update\n",
    "- output - filter which values of the cell we are going to output "
   ]
  },
  {
   "cell_type": "markdown",
   "metadata": {},
   "source": [
    "The current cell state is the sum of forgetting and updating with new candidates"
   ]
  },
  {
   "cell_type": "markdown",
   "metadata": {},
   "source": [
    "### Extension: attention"
   ]
  },
  {
   "cell_type": "markdown",
   "metadata": {},
   "source": [
    "<a href=\"https://www.youtube.com/watch?v=SysgYptB198\">Intuition</a>"
   ]
  },
  {
   "cell_type": "markdown",
   "metadata": {},
   "source": [
    "######  - Translate part by part\n",
    "###### -  Use attention weights - how much attention should you give to each word in the input (update weights to each new word)"
   ]
  },
  {
   "cell_type": "markdown",
   "metadata": {},
   "source": [
    "![](./img/attention.png)"
   ]
  },
  {
   "cell_type": "markdown",
   "metadata": {},
   "source": [
    "### Takeaways:\n",
    "    "
   ]
  },
  {
   "cell_type": "markdown",
   "metadata": {},
   "source": [
    "##### Word embeddings\n",
    "- Word/categorical embeddings gives meaning to words in relation to one another\n",
    "- Word/categorical embeddings are computationally efficient\n",
    "- Training is done through a classic NN with small window around words\n",
    "\n",
    "##### RNN\n",
    "- Old generation RNNs suffered from exploding/vanishing gradients\n",
    "- New generation RNNs (commonly LSTM or GRU) are using memory gates to mitigate this problem\n",
    "- RNNs are just multiple copies of a NN connected by the hidden layer\n",
    "- Training is done again by backpropogation\n",
    "- Weights are shared accros all network\n",
    "- RNN's can be used for any sequence. Unlike time series models can include both time and features.\n",
    "- Are flexible in input and output sizes\n",
    "- Amazing results in NLP, recommendations and many more.\n",
    "- Many flavours - BRNN, CRNN...\n",
    "\n",
    "##### Attention\n",
    "- Typicall for translations/images\n",
    "- Weight all the words in one language to decide how much they should influence input to translated language\n",
    "- components: word weights, BRNN, RNN, context vectors."
   ]
  },
  {
   "cell_type": "markdown",
   "metadata": {},
   "source": [
    "### Hands on Word2Vec/word embedding"
   ]
  },
  {
   "cell_type": "code",
<<<<<<< HEAD
   "execution_count": 6,
=======
   "execution_count": 26,
>>>>>>> 7250dc1ff4ae2577b442276bb3c037986fca2a98
   "metadata": {},
   "outputs": [
    {
     "name": "stdout",
     "output_type": "stream",
     "text": [
<<<<<<< HEAD
      "Collecting gensim\n",
      "\u001b[?25l  Downloading https://files.pythonhosted.org/packages/c8/3a/32a1edf4f335eba0873021a7ddb3230f05dedd2b5450960118b402ca0771/gensim-3.8.0-cp37-cp37m-macosx_10_6_intel.macosx_10_9_intel.macosx_10_9_x86_64.macosx_10_10_intel.macosx_10_10_x86_64.whl (24.7MB)\n",
      "\u001b[K     |████████████████████████████████| 24.7MB 332kB/s eta 0:00:01\n",
      "\u001b[?25hRequirement already satisfied: numpy>=1.11.3 in /anaconda3/lib/python3.7/site-packages (from gensim) (1.15.4)\n",
      "Requirement already satisfied: scipy>=0.18.1 in /anaconda3/lib/python3.7/site-packages (from gensim) (1.1.0)\n",
      "Requirement already satisfied: six>=1.5.0 in /anaconda3/lib/python3.7/site-packages (from gensim) (1.12.0)\n",
      "Collecting smart-open>=1.7.0 (from gensim)\n",
      "\u001b[?25l  Downloading https://files.pythonhosted.org/packages/37/c0/25d19badc495428dec6a4bf7782de617ee0246a9211af75b302a2681dea7/smart_open-1.8.4.tar.gz (63kB)\n",
      "\u001b[K     |████████████████████████████████| 71kB 3.3MB/s eta 0:00:011\n",
      "\u001b[?25hRequirement already satisfied: boto>=2.32 in /anaconda3/lib/python3.7/site-packages (from smart-open>=1.7.0->gensim) (2.49.0)\n",
      "Requirement already satisfied: requests in /anaconda3/lib/python3.7/site-packages (from smart-open>=1.7.0->gensim) (2.21.0)\n",
      "Requirement already satisfied: boto3 in /anaconda3/lib/python3.7/site-packages (from smart-open>=1.7.0->gensim) (1.9.162)\n",
      "Requirement already satisfied: certifi>=2017.4.17 in /anaconda3/lib/python3.7/site-packages (from requests->smart-open>=1.7.0->gensim) (2019.6.16)\n",
      "Requirement already satisfied: chardet<3.1.0,>=3.0.2 in /anaconda3/lib/python3.7/site-packages (from requests->smart-open>=1.7.0->gensim) (3.0.4)\n",
      "Requirement already satisfied: urllib3<1.25,>=1.21.1 in /anaconda3/lib/python3.7/site-packages (from requests->smart-open>=1.7.0->gensim) (1.24.1)\n",
      "Requirement already satisfied: idna<2.9,>=2.5 in /anaconda3/lib/python3.7/site-packages (from requests->smart-open>=1.7.0->gensim) (2.8)\n",
      "Requirement already satisfied: s3transfer<0.3.0,>=0.2.0 in /anaconda3/lib/python3.7/site-packages (from boto3->smart-open>=1.7.0->gensim) (0.2.1)\n",
      "Requirement already satisfied: jmespath<1.0.0,>=0.7.1 in /anaconda3/lib/python3.7/site-packages (from boto3->smart-open>=1.7.0->gensim) (0.9.4)\n",
      "Requirement already satisfied: botocore<1.13.0,>=1.12.162 in /anaconda3/lib/python3.7/site-packages (from boto3->smart-open>=1.7.0->gensim) (1.12.185)\n",
      "Requirement already satisfied: python-dateutil<3.0.0,>=2.1; python_version >= \"2.7\" in /anaconda3/lib/python3.7/site-packages (from botocore<1.13.0,>=1.12.162->boto3->smart-open>=1.7.0->gensim) (2.7.5)\n",
      "Requirement already satisfied: docutils>=0.10 in /anaconda3/lib/python3.7/site-packages (from botocore<1.13.0,>=1.12.162->boto3->smart-open>=1.7.0->gensim) (0.14)\n",
      "Building wheels for collected packages: smart-open\n",
      "  Building wheel for smart-open (setup.py) ... \u001b[?25ldone\n",
      "\u001b[?25h  Stored in directory: /Users/j.markdaniels/Library/Caches/pip/wheels/5f/ea/fb/5b1a947b369724063b2617011f1540c44eb00e28c3d2ca8692\n",
      "Successfully built smart-open\n",
      "Installing collected packages: smart-open, gensim\n",
      "Successfully installed gensim-3.8.0 smart-open-1.8.4\n"
=======
      "Requirement already satisfied: gensim in /anaconda3/lib/python3.7/site-packages (3.8.0)\n",
      "Requirement already satisfied: smart-open>=1.7.0 in /anaconda3/lib/python3.7/site-packages (from gensim) (1.8.4)\n",
      "Requirement already satisfied: numpy>=1.11.3 in /anaconda3/lib/python3.7/site-packages (from gensim) (1.16.2)\n",
      "Requirement already satisfied: scipy>=0.18.1 in /anaconda3/lib/python3.7/site-packages (from gensim) (1.2.1)\n",
      "Requirement already satisfied: six>=1.5.0 in /anaconda3/lib/python3.7/site-packages (from gensim) (1.12.0)\n",
      "Requirement already satisfied: boto>=2.32 in /anaconda3/lib/python3.7/site-packages (from smart-open>=1.7.0->gensim) (2.49.0)\n",
      "Requirement already satisfied: requests in /anaconda3/lib/python3.7/site-packages (from smart-open>=1.7.0->gensim) (2.21.0)\n",
      "Requirement already satisfied: boto3 in /anaconda3/lib/python3.7/site-packages (from smart-open>=1.7.0->gensim) (1.9.188)\n",
      "Requirement already satisfied: idna<2.9,>=2.5 in /anaconda3/lib/python3.7/site-packages (from requests->smart-open>=1.7.0->gensim) (2.8)\n",
      "Requirement already satisfied: chardet<3.1.0,>=3.0.2 in /anaconda3/lib/python3.7/site-packages (from requests->smart-open>=1.7.0->gensim) (3.0.4)\n",
      "Requirement already satisfied: urllib3<1.25,>=1.21.1 in /anaconda3/lib/python3.7/site-packages (from requests->smart-open>=1.7.0->gensim) (1.24.1)\n",
      "Requirement already satisfied: certifi>=2017.4.17 in /anaconda3/lib/python3.7/site-packages (from requests->smart-open>=1.7.0->gensim) (2019.3.9)\n",
      "Requirement already satisfied: botocore<1.13.0,>=1.12.188 in /anaconda3/lib/python3.7/site-packages (from boto3->smart-open>=1.7.0->gensim) (1.12.188)\n",
      "Requirement already satisfied: s3transfer<0.3.0,>=0.2.0 in /anaconda3/lib/python3.7/site-packages (from boto3->smart-open>=1.7.0->gensim) (0.2.1)\n",
      "Requirement already satisfied: jmespath<1.0.0,>=0.7.1 in /anaconda3/lib/python3.7/site-packages (from boto3->smart-open>=1.7.0->gensim) (0.9.4)\n",
      "Requirement already satisfied: docutils>=0.10 in /anaconda3/lib/python3.7/site-packages (from botocore<1.13.0,>=1.12.188->boto3->smart-open>=1.7.0->gensim) (0.14)\n",
      "Requirement already satisfied: python-dateutil<3.0.0,>=2.1; python_version >= \"2.7\" in /anaconda3/lib/python3.7/site-packages (from botocore<1.13.0,>=1.12.188->boto3->smart-open>=1.7.0->gensim) (2.8.0)\n"
>>>>>>> 7250dc1ff4ae2577b442276bb3c037986fca2a98
     ]
    }
   ],
   "source": [
    "!pip install gensim"
   ]
  },
  {
   "cell_type": "code",
<<<<<<< HEAD
   "execution_count": 7,
=======
   "execution_count": 27,
>>>>>>> 7250dc1ff4ae2577b442276bb3c037986fca2a98
   "metadata": {},
   "outputs": [],
   "source": [
    "import gensim\n",
    "import numpy as np\n",
    "import json\n",
    "import string"
   ]
  },
  {
   "cell_type": "markdown",
   "metadata": {},
   "source": [
    "##### Reading in the data"
   ]
  },
  {
   "cell_type": "code",
<<<<<<< HEAD
   "execution_count": 9,
=======
   "execution_count": 28,
>>>>>>> 7250dc1ff4ae2577b442276bb3c037986fca2a98
   "metadata": {},
   "outputs": [],
   "source": [
    "with open('JEOPARDY_QUESTIONS1.json') as f:\n",
    "    data = json.load(f)"
   ]
  },
  {
   "cell_type": "code",
<<<<<<< HEAD
   "execution_count": 10,
=======
   "execution_count": 29,
>>>>>>> 7250dc1ff4ae2577b442276bb3c037986fca2a98
   "metadata": {},
   "outputs": [
    {
     "data": {
      "text/plain": [
       "216930"
      ]
     },
<<<<<<< HEAD
     "execution_count": 10,
=======
     "execution_count": 29,
>>>>>>> 7250dc1ff4ae2577b442276bb3c037986fca2a98
     "metadata": {},
     "output_type": "execute_result"
    }
   ],
   "source": [
    "len(data)"
   ]
  },
  {
   "cell_type": "code",
<<<<<<< HEAD
   "execution_count": 11,
=======
   "execution_count": 30,
>>>>>>> 7250dc1ff4ae2577b442276bb3c037986fca2a98
   "metadata": {},
   "outputs": [
    {
     "data": {
      "text/plain": [
       "{'category': 'HISTORY',\n",
       " 'air_date': '2004-12-31',\n",
       " 'question': \"'For the last 8 years of his life, Galileo was under house arrest for espousing this man's theory'\",\n",
       " 'value': '$200',\n",
       " 'answer': 'Copernicus',\n",
       " 'round': 'Jeopardy!',\n",
       " 'show_number': '4680'}"
      ]
     },
<<<<<<< HEAD
     "execution_count": 11,
=======
     "execution_count": 30,
>>>>>>> 7250dc1ff4ae2577b442276bb3c037986fca2a98
     "metadata": {},
     "output_type": "execute_result"
    }
   ],
   "source": [
    "# Let's look at the first element in our list\n",
    "data[0]"
   ]
  },
  {
   "cell_type": "code",
<<<<<<< HEAD
   "execution_count": 12,
=======
   "execution_count": 31,
>>>>>>> 7250dc1ff4ae2577b442276bb3c037986fca2a98
   "metadata": {},
   "outputs": [],
   "source": [
    "# Word2Vec requires that our text have the form of a list\n",
    "# of 'sentences', where each sentence is itself a list of\n",
    "# words. How can we put our _Jeopardy!_ clues in that shape?\n",
    "\n",
    "text = []\n",
    "\n",
    "for clue in data:\n",
    "    sentence = clue['question'].translate(str.maketrans('', '',\n",
    "                                                        string.punctuation)).split(' ')\n",
    "    \n",
    "    new_sent = []\n",
    "    for word in sentence:\n",
    "        new_sent.append(word.lower())\n",
    "    \n",
    "    text.append(new_sent)"
   ]
  },
  {
   "cell_type": "code",
<<<<<<< HEAD
   "execution_count": 13,
=======
   "execution_count": 32,
>>>>>>> 7250dc1ff4ae2577b442276bb3c037986fca2a98
   "metadata": {},
   "outputs": [
    {
     "data": {
      "text/plain": [
       "['for',\n",
       " 'the',\n",
       " 'last',\n",
       " '8',\n",
       " 'years',\n",
       " 'of',\n",
       " 'his',\n",
       " 'life',\n",
       " 'galileo',\n",
       " 'was',\n",
       " 'under',\n",
       " 'house',\n",
       " 'arrest',\n",
       " 'for',\n",
       " 'espousing',\n",
       " 'this',\n",
       " 'mans',\n",
       " 'theory']"
      ]
     },
<<<<<<< HEAD
     "execution_count": 13,
=======
     "execution_count": 32,
>>>>>>> 7250dc1ff4ae2577b442276bb3c037986fca2a98
     "metadata": {},
     "output_type": "execute_result"
    }
   ],
   "source": [
    "# Let's check the new structure of our first clue\n",
    "text[0]"
   ]
  },
  {
   "cell_type": "markdown",
   "metadata": {},
   "source": [
    "#####  Constructing the model"
   ]
  },
  {
   "cell_type": "code",
<<<<<<< HEAD
   "execution_count": 14,
=======
   "execution_count": 33,
>>>>>>> 7250dc1ff4ae2577b442276bb3c037986fca2a98
   "metadata": {},
   "outputs": [],
   "source": [
    "# simply a matter of\n",
    "# instantiating a Word2Vec object.\n",
    "model = gensim.models.Word2Vec(text, sg=1)\n",
    "## sg means skip-gram"
   ]
  },
  {
   "cell_type": "markdown",
   "metadata": {},
   "source": [
    "##### training "
   ]
  },
  {
   "cell_type": "code",
<<<<<<< HEAD
   "execution_count": 15,
=======
   "execution_count": 34,
>>>>>>> 7250dc1ff4ae2577b442276bb3c037986fca2a98
   "metadata": {},
   "outputs": [
    {
     "data": {
      "text/plain": [
<<<<<<< HEAD
       "(11335282, 15849970)"
      ]
     },
     "execution_count": 15,
=======
       "(11335243, 15849970)"
      ]
     },
     "execution_count": 34,
>>>>>>> 7250dc1ff4ae2577b442276bb3c037986fca2a98
     "metadata": {},
     "output_type": "execute_result"
    }
   ],
   "source": [
    "# To train, call 'train()'!\n",
    "model.train(text, total_examples=model.corpus_count, epochs=model.epochs)"
   ]
  },
  {
   "cell_type": "code",
<<<<<<< HEAD
   "execution_count": 16,
=======
   "execution_count": 35,
>>>>>>> 7250dc1ff4ae2577b442276bb3c037986fca2a98
   "metadata": {},
   "outputs": [
    {
     "data": {
      "text/plain": [
<<<<<<< HEAD
       "<gensim.models.keyedvectors.Word2VecKeyedVectors at 0x1a56a4c710>"
      ]
     },
     "execution_count": 16,
=======
       "<gensim.models.keyedvectors.Word2VecKeyedVectors at 0x1a4dee96d8>"
      ]
     },
     "execution_count": 35,
>>>>>>> 7250dc1ff4ae2577b442276bb3c037986fca2a98
     "metadata": {},
     "output_type": "execute_result"
    }
   ],
   "source": [
    "# The '.wv' attribute stores the word vectors\n",
    "model.wv"
   ]
  },
  {
   "cell_type": "code",
<<<<<<< HEAD
   "execution_count": 17,
=======
   "execution_count": 36,
>>>>>>> 7250dc1ff4ae2577b442276bb3c037986fca2a98
   "metadata": {},
   "outputs": [
    {
     "data": {
      "text/plain": [
<<<<<<< HEAD
       "array([-0.15688647, -0.15791763,  0.16346355,  0.2015139 ,  0.61545837,\n",
       "       -0.8669979 ,  0.07279842,  0.36317766, -0.2268542 , -0.51248705,\n",
       "       -0.11117739, -0.08346877, -0.06123811,  0.20410945,  0.08392656,\n",
       "       -0.18927333,  0.02742356,  0.24471053,  0.09694625,  0.30809692,\n",
       "        0.6642096 ,  0.18492025, -0.14336708, -0.1282181 , -0.24324521,\n",
       "        0.1779944 , -0.1733147 , -0.10167811, -0.3812136 , -0.180172  ,\n",
       "        0.49195722, -0.4916422 , -0.10373113,  0.3646999 ,  0.30407533,\n",
       "        0.277014  , -0.18090324,  0.27044654,  0.24499163,  0.27996927,\n",
       "        0.57041645, -0.04824118,  0.15936473, -0.1873117 ,  0.58676815,\n",
       "        0.01612709, -0.14855969, -0.23342958,  0.03098235,  0.18557602,\n",
       "       -0.12200454,  0.46177766,  0.23277617,  0.43185943, -0.2664185 ,\n",
       "        0.04479985, -0.15970948,  0.3422061 , -0.1252041 , -0.20144771,\n",
       "        0.11549583,  0.27676153, -0.04462585,  0.33640045,  0.36958054,\n",
       "       -0.18552388,  0.30325708,  0.00905956, -0.11113494,  0.56709105,\n",
       "       -0.7951088 , -0.06670827, -0.15798289,  0.36731228, -0.02428977,\n",
       "        0.6033405 , -0.12998344, -0.02640191, -0.24047998,  0.0437278 ,\n",
       "        0.00225532,  0.1339155 ,  0.4409105 ,  0.45549557,  0.06865758,\n",
       "        0.11008367,  0.18879677,  0.0451173 ,  0.25396135,  0.03757717,\n",
       "        0.09389501,  0.26265284,  0.11368295,  0.85675913, -0.10289277,\n",
       "        0.37181917,  0.18016177, -0.29512888, -0.38761884,  0.9846819 ],\n",
       "      dtype=float32)"
      ]
     },
     "execution_count": 17,
=======
       "array([-0.34274068,  0.5717052 ,  0.5054462 , -0.83763856,  0.11243444,\n",
       "       -0.06243891, -0.22446074, -0.12599082,  0.4563118 ,  0.02078697,\n",
       "       -0.33238268, -0.5581911 , -0.09881275,  0.43666995, -0.43092743,\n",
       "        0.11493187,  0.01497902, -0.2810725 , -0.00601106, -0.56335247,\n",
       "        0.04043306, -0.11607531, -0.05852357,  0.21723358,  0.05501913,\n",
       "       -0.38965893,  0.16212374, -0.03791274,  0.13695273, -0.09983719,\n",
       "       -0.03263056,  0.31049478,  0.07835225,  0.39296925, -0.06863066,\n",
       "        0.07827546,  0.03597175,  0.39960814, -0.07369318,  0.17688808,\n",
       "       -0.36443254,  0.3548273 ,  0.44067565,  0.20315555,  0.09774695,\n",
       "       -0.4532549 , -0.20454371, -0.2576484 , -0.15994538,  0.19517948,\n",
       "       -0.27781796,  0.16111617,  0.36601475,  0.25504816,  0.06936003,\n",
       "        0.15185119, -0.70531076, -0.3037449 ,  0.14605772, -0.5506104 ,\n",
       "       -0.285976  ,  0.33396873, -0.18368298,  0.01547174,  0.6061479 ,\n",
       "        0.8693408 , -0.20910892, -0.19824041,  0.3992558 ,  0.00336562,\n",
       "       -0.45295036,  0.3117853 ,  0.35340974,  0.3139495 , -0.57451594,\n",
       "        0.22169973,  0.30992052, -0.3367607 , -0.4300569 ,  0.5218553 ,\n",
       "        0.37646163,  0.14014092,  0.37755215,  0.58246857, -0.23621844,\n",
       "        0.06690311, -0.6748793 ,  0.118225  , -0.21711119, -0.15388136,\n",
       "       -0.2626476 ,  0.19254896,  0.00371234, -0.08824293,  0.27418703,\n",
       "        0.17411532, -0.0410554 , -0.1833122 ,  0.361086  , -0.15297386],\n",
       "      dtype=float32)"
      ]
     },
     "execution_count": 36,
>>>>>>> 7250dc1ff4ae2577b442276bb3c037986fca2a98
     "metadata": {},
     "output_type": "execute_result"
    }
   ],
   "source": [
    "model.wv['child']"
   ]
  },
  {
   "cell_type": "code",
<<<<<<< HEAD
   "execution_count": 18,
=======
   "execution_count": 37,
>>>>>>> 7250dc1ff4ae2577b442276bb3c037986fca2a98
   "metadata": {},
   "outputs": [],
   "source": [
    "### model.wv methods\n",
    "#### 'most_similar()' and 'similarity()'"
   ]
  },
  {
   "cell_type": "code",
<<<<<<< HEAD
   "execution_count": 19,
=======
   "execution_count": 38,
>>>>>>> 7250dc1ff4ae2577b442276bb3c037986fca2a98
   "metadata": {},
   "outputs": [
    {
     "data": {
      "text/plain": [
<<<<<<< HEAD
       "[('wherefore', 0.7473708391189575),\n",
       " ('shakespearebr', 0.727690577507019),\n",
       " ('autumns', 0.7269271016120911),\n",
       " ('arise', 0.7215984463691711),\n",
       " ('loins', 0.7146955132484436),\n",
       " ('virtue', 0.7111482620239258),\n",
       " ('kindness', 0.711051881313324),\n",
       " ('despair', 0.7103755474090576),\n",
       " ('ignorance', 0.7086232304573059),\n",
       " ('compassion', 0.7057312726974487)]"
      ]
     },
     "execution_count": 19,
=======
       "[('wherefore', 0.7207859754562378),\n",
       " ('arise', 0.7125382423400879),\n",
       " ('virtue', 0.7093296051025391),\n",
       " ('despair', 0.7031866908073425),\n",
       " ('frailty', 0.703133225440979),\n",
       " ('kindness', 0.7010196447372437),\n",
       " ('autumns', 0.7005016207695007),\n",
       " ('loins', 0.6989527940750122),\n",
       " ('prosperity', 0.6966843008995056),\n",
       " ('shame', 0.6949119567871094)]"
      ]
     },
     "execution_count": 38,
>>>>>>> 7250dc1ff4ae2577b442276bb3c037986fca2a98
     "metadata": {},
     "output_type": "execute_result"
    }
   ],
   "source": [
    "model.wv.most_similar('happiness')"
   ]
  },
  {
   "cell_type": "code",
<<<<<<< HEAD
   "execution_count": 20,
=======
   "execution_count": 39,
>>>>>>> 7250dc1ff4ae2577b442276bb3c037986fca2a98
   "metadata": {},
   "outputs": [
    {
     "data": {
      "text/plain": [
<<<<<<< HEAD
       "[('linen', 0.7253818511962891),\n",
       " ('pottery', 0.7097817659378052),\n",
       " ('cabriole', 0.6947778463363647),\n",
       " ('ceramic', 0.693941056728363),\n",
       " ('chippendale', 0.6920794248580933),\n",
       " ('overalls', 0.6880966424942017),\n",
       " ('paints', 0.6879712343215942),\n",
       " ('jewelry', 0.6877968907356262),\n",
       " ('flooring', 0.6847233772277832),\n",
       " ('decorations', 0.6803575158119202)]"
      ]
     },
     "execution_count": 20,
=======
       "[('chippendale', 0.7018810510635376),\n",
       " ('pottery', 0.7012165784835815),\n",
       " ('decorative', 0.6912299394607544),\n",
       " ('monogram', 0.6858183145523071),\n",
       " ('wearers', 0.6801064014434814),\n",
       " ('fastener', 0.672823965549469),\n",
       " ('ceramic', 0.6717427372932434),\n",
       " ('plaster', 0.6685993671417236),\n",
       " ('artwork', 0.6657806634902954),\n",
       " ('fasteners', 0.6614851355552673)]"
      ]
     },
     "execution_count": 39,
>>>>>>> 7250dc1ff4ae2577b442276bb3c037986fca2a98
     "metadata": {},
     "output_type": "execute_result"
    }
   ],
   "source": [
    "model.wv.most_similar('furniture')"
   ]
  },
  {
   "cell_type": "code",
<<<<<<< HEAD
   "execution_count": 21,
=======
   "execution_count": 40,
>>>>>>> 7250dc1ff4ae2577b442276bb3c037986fca2a98
   "metadata": {},
   "outputs": [
    {
     "data": {
      "text/plain": [
<<<<<<< HEAD
       "0.6877969"
      ]
     },
     "execution_count": 21,
=======
       "0.6603956"
      ]
     },
     "execution_count": 40,
>>>>>>> 7250dc1ff4ae2577b442276bb3c037986fca2a98
     "metadata": {},
     "output_type": "execute_result"
    }
   ],
   "source": [
    "model.wv.similarity('furniture', 'jewelry')"
   ]
  },
  {
   "cell_type": "code",
<<<<<<< HEAD
   "execution_count": 22,
=======
   "execution_count": 41,
>>>>>>> 7250dc1ff4ae2577b442276bb3c037986fca2a98
   "metadata": {},
   "outputs": [
    {
     "data": {
      "text/plain": [
<<<<<<< HEAD
       "[('carnivore', 0.7946175932884216),\n",
       " ('reptile', 0.7893552780151367),\n",
       " ('shorttailed', 0.784745454788208),\n",
       " ('rodent', 0.7796269655227661),\n",
       " ('shorthaired', 0.7759206295013428),\n",
       " ('wading', 0.7757853865623474),\n",
       " ('seabird', 0.7737159729003906),\n",
       " ('arachnid', 0.7670391798019409),\n",
       " ('marsupial', 0.7649643421173096),\n",
       " ('parrot', 0.7640674114227295)]"
      ]
     },
     "execution_count": 22,
=======
       "[('reptile', 0.8154597878456116),\n",
       " ('carnivore', 0.8049635291099548),\n",
       " ('shorttailed', 0.7865055203437805),\n",
       " ('marsupial', 0.7851467728614807),\n",
       " ('rodent', 0.7808530330657959),\n",
       " ('feline', 0.7795917987823486),\n",
       " ('parrot', 0.7683272361755371),\n",
       " ('giraffe', 0.7652203440666199),\n",
       " ('venomous', 0.7638094425201416),\n",
       " ('burrowing', 0.7629961967468262)]"
      ]
     },
     "execution_count": 41,
>>>>>>> 7250dc1ff4ae2577b442276bb3c037986fca2a98
     "metadata": {},
     "output_type": "execute_result"
    }
   ],
   "source": [
    "model.wv.most_similar(positive=['cat', 'animal', 'pet', 'mammal'])"
   ]
  },
  {
   "cell_type": "code",
<<<<<<< HEAD
   "execution_count": 23,
=======
   "execution_count": 42,
>>>>>>> 7250dc1ff4ae2577b442276bb3c037986fca2a98
   "metadata": {},
   "outputs": [
    {
     "data": {
      "text/plain": [
<<<<<<< HEAD
       "[('rodent', 0.3667570948600769),\n",
       " ('lizard', 0.36275357007980347),\n",
       " ('camel', 0.362254798412323),\n",
       " ('insect', 0.3546317517757416),\n",
       " ('domesticated', 0.3322061002254486),\n",
       " ('puppy', 0.3301047384738922),\n",
       " ('breed', 0.3264230489730835),\n",
       " ('marsupial', 0.32324838638305664),\n",
       " ('species', 0.32319366931915283),\n",
       " ('mammal', 0.3214120864868164)]"
      ]
     },
     "execution_count": 23,
=======
       "[('lizard', 0.3663201332092285),\n",
       " ('insect', 0.3660660982131958),\n",
       " ('sheep', 0.36604586243629456),\n",
       " ('domesticated', 0.35657936334609985),\n",
       " ('puppy', 0.3524196445941925),\n",
       " ('rodent', 0.3447427451610565),\n",
       " ('parrot', 0.344499796628952),\n",
       " ('breed', 0.3306526243686676),\n",
       " ('extinction', 0.3279828429222107),\n",
       " ('arachnid', 0.327955424785614)]"
      ]
     },
     "execution_count": 42,
>>>>>>> 7250dc1ff4ae2577b442276bb3c037986fca2a98
     "metadata": {},
     "output_type": "execute_result"
    }
   ],
   "source": [
    "model.wv.most_similar(positive=['cat', 'animal'], negative='pet')"
   ]
  },
  {
   "cell_type": "code",
   "execution_count": 24,
   "metadata": {},
   "outputs": [
    {
     "data": {
      "text/plain": [
       "[('throne', 0.3021581768989563),\n",
       " ('empress', 0.28882551193237305),\n",
       " ('emperor', 0.27201712131500244)]"
      ]
     },
     "execution_count": 24,
     "metadata": {},
     "output_type": "execute_result"
    }
   ],
   "source": [
    "model.wv.most_similar(positive=['king', 'woman'], negative='man', topn=3)"
   ]
  },
  {
   "cell_type": "code",
<<<<<<< HEAD
   "execution_count": 25,
=======
   "execution_count": 43,
>>>>>>> 7250dc1ff4ae2577b442276bb3c037986fca2a98
   "metadata": {},
   "outputs": [
    {
     "data": {
      "text/plain": [
<<<<<<< HEAD
       "[('fargo', 0.6066576242446899),\n",
       " ('retitled', 0.6058583855628967),\n",
       " ('npr', 0.5994045734405518),\n",
       " ('xmas', 0.5966920852661133),\n",
       " ('310', 0.5948025584220886),\n",
       " ('tyra', 0.5877897143363953),\n",
       " ('coanchor', 0.5867106318473816),\n",
       " ('ufos', 0.5782649517059326),\n",
       " ('goings', 0.5754859447479248),\n",
       " ('pageant', 0.5752097368240356)]"
      ]
     },
     "execution_count": 25,
=======
       "[('fargo', 0.6092537641525269),\n",
       " ('purchasing', 0.6085797548294067),\n",
       " ('pageant', 0.6038713455200195),\n",
       " ('tyra', 0.6024805903434753),\n",
       " ('brisbane', 0.6017252802848816),\n",
       " ('310', 0.5972929000854492),\n",
       " ('retitled', 0.5966009497642517),\n",
       " ('coanchor', 0.5961899757385254),\n",
       " ('crossroads', 0.5891170501708984),\n",
       " ('dogpatch', 0.5890745520591736)]"
      ]
     },
     "execution_count": 43,
>>>>>>> 7250dc1ff4ae2577b442276bb3c037986fca2a98
     "metadata": {},
     "output_type": "execute_result"
    }
   ],
   "source": [
    "model.wv.most_similar(positive='usa')"
   ]
  },
  {
   "cell_type": "code",
   "execution_count": 26,
   "metadata": {},
   "outputs": [
    {
     "data": {
      "text/plain": [
       "[('zambia', 0.7236366271972656),\n",
       " ('commonwealth', 0.7107770442962646),\n",
       " ('marianas', 0.6914007663726807),\n",
       " ('everglades', 0.6777932643890381),\n",
       " ('turkmenistan', 0.6730498671531677),\n",
       " ('somalia', 0.6691624522209167),\n",
       " ('zimbabwe', 0.6675808429718018),\n",
       " ('nigeria', 0.6625142097473145),\n",
       " ('ukraine', 0.6622791290283203),\n",
       " ('uruguay', 0.6577273607254028)]"
      ]
     },
     "execution_count": 26,
     "metadata": {},
     "output_type": "execute_result"
    }
   ],
   "source": [
    "model.wv.most_similar('canada')"
   ]
  },
  {
   "cell_type": "code",
<<<<<<< HEAD
   "execution_count": 27,
=======
   "execution_count": 44,
>>>>>>> 7250dc1ff4ae2577b442276bb3c037986fca2a98
   "metadata": {},
   "outputs": [
    {
     "data": {
      "text/plain": [
<<<<<<< HEAD
       "[('shakespeares', 0.7509335875511169),\n",
       " ('sophocles', 0.733535885810852),\n",
       " ('shakespearean', 0.7026742696762085),\n",
       " ('falstaff', 0.691775918006897),\n",
       " ('romeo', 0.6905988454818726),\n",
       " ('ibsen', 0.6815669536590576),\n",
       " ('euripides', 0.6798651218414307),\n",
       " ('hamlet', 0.6701234579086304),\n",
       " ('shaws', 0.6654321551322937),\n",
       " ('juliet', 0.6588280200958252)]"
      ]
     },
     "execution_count": 27,
=======
       "[('shakespeares', 0.7306967973709106),\n",
       " ('sophocles', 0.7042598724365234),\n",
       " ('romeo', 0.7032291889190674),\n",
       " ('euripides', 0.7012650966644287),\n",
       " ('falstaff', 0.6938175559043884),\n",
       " ('shakespearean', 0.6827644109725952),\n",
       " ('ibsen', 0.6718511581420898),\n",
       " ('hamlet', 0.6689773201942444),\n",
       " ('shaws', 0.659666121006012),\n",
       " ('bards', 0.6557680368423462)]"
      ]
     },
     "execution_count": 44,
>>>>>>> 7250dc1ff4ae2577b442276bb3c037986fca2a98
     "metadata": {},
     "output_type": "execute_result"
    }
   ],
   "source": [
    "model.wv.most_similar('shakespeare')"
   ]
  },
  {
   "cell_type": "code",
<<<<<<< HEAD
   "execution_count": 28,
=======
   "execution_count": 46,
>>>>>>> 7250dc1ff4ae2577b442276bb3c037986fca2a98
   "metadata": {},
   "outputs": [
    {
     "data": {
      "text/plain": [
<<<<<<< HEAD
       "[('emperors', 0.2508082091808319),\n",
       " ('ussr', 0.21148911118507385),\n",
       " ('presidents', 0.21046262979507446),\n",
       " ('dictator', 0.20992134511470795),\n",
       " ('russia', 0.2084919959306717),\n",
       " ('seized', 0.203222393989563),\n",
       " ('during', 0.1958039253950119),\n",
       " ('versailles', 0.19513344764709473),\n",
       " ('nazi', 0.19267141819000244),\n",
       " ('yugoslavia', 0.19154974818229675)]"
      ]
     },
     "execution_count": 28,
=======
       "[('emperors', 0.24682524800300598),\n",
       " ('dictator', 0.24275463819503784),\n",
       " ('ussr', 0.21163707971572876),\n",
       " ('nazi', 0.2034521847963333),\n",
       " ('emperor', 0.20158304274082184),\n",
       " ('versailles', 0.19930800795555115),\n",
       " ('invaded', 0.19467172026634216),\n",
       " ('russia', 0.19159460067749023),\n",
       " ('shah', 0.18833297491073608),\n",
       " ('officially', 0.18761301040649414)]"
      ]
     },
     "execution_count": 46,
>>>>>>> 7250dc1ff4ae2577b442276bb3c037986fca2a98
     "metadata": {},
     "output_type": "execute_result"
    }
   ],
   "source": [
    "model.wv.most_similar(positive=['president', 'germany'], negative='usa')"
   ]
  },
  {
   "cell_type": "code",
   "execution_count": 29,
   "metadata": {},
   "outputs": [],
   "source": [
    "#### 'doesnt_match()'"
   ]
  },
  {
   "cell_type": "code",
   "execution_count": 45,
   "metadata": {},
   "outputs": [
    {
     "name": "stderr",
     "output_type": "stream",
     "text": [
      "/anaconda3/lib/python3.7/site-packages/gensim/models/keyedvectors.py:877: FutureWarning: arrays to stack must be passed as a \"sequence\" type such as list or tuple. Support for non-sequence iterables such as generators is deprecated as of NumPy 1.16 and will raise an error in the future.\n",
      "  vectors = vstack(self.word_vec(word, use_norm=True) for word in used_words).astype(REAL)\n"
     ]
    },
    {
     "data": {
      "text/plain": [
       "'frog'"
      ]
     },
     "execution_count": 45,
     "metadata": {},
     "output_type": "execute_result"
    }
   ],
   "source": [
    "model.wv.doesnt_match(['breakfast', 'lunch', 'frog', 'food'])"
   ]
  },
  {
   "cell_type": "code",
   "execution_count": null,
   "metadata": {},
   "outputs": [],
   "source": []
  }
 ],
 "metadata": {
  "kernelspec": {
   "display_name": "Python 3",
   "language": "python",
   "name": "python3"
  },
  "language_info": {
   "codemirror_mode": {
    "name": "ipython",
    "version": 3
   },
   "file_extension": ".py",
   "mimetype": "text/x-python",
   "name": "python",
   "nbconvert_exporter": "python",
   "pygments_lexer": "ipython3",
   "version": "3.7.1"
  },
  "toc": {
   "base_numbering": 1,
   "nav_menu": {},
   "number_sections": true,
   "sideBar": true,
   "skip_h1_title": false,
   "title_cell": "Table of Contents",
   "title_sidebar": "Contents",
   "toc_cell": false,
   "toc_position": {},
   "toc_section_display": true,
   "toc_window_display": true
  },
  "varInspector": {
   "cols": {
    "lenName": 16,
    "lenType": 16,
    "lenVar": 40
   },
   "kernels_config": {
    "python": {
     "delete_cmd_postfix": "",
     "delete_cmd_prefix": "del ",
     "library": "var_list.py",
     "varRefreshCmd": "print(var_dic_list())"
    },
    "r": {
     "delete_cmd_postfix": ") ",
     "delete_cmd_prefix": "rm(",
     "library": "var_list.r",
     "varRefreshCmd": "cat(var_dic_list()) "
    }
   },
   "types_to_exclude": [
    "module",
    "function",
    "builtin_function_or_method",
    "instance",
    "_Feature"
   ],
   "window_display": false
  }
 },
 "nbformat": 4,
 "nbformat_minor": 2
}
